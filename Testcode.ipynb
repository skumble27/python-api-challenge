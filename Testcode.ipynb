{
 "metadata": {
  "language_info": {
   "codemirror_mode": {
    "name": "ipython",
    "version": 3
   },
   "file_extension": ".py",
   "mimetype": "text/x-python",
   "name": "python",
   "nbconvert_exporter": "python",
   "pygments_lexer": "ipython3",
   "version": "3.6.12-final"
  },
  "orig_nbformat": 2,
  "kernelspec": {
   "name": "python_defaultSpec_1601189608759",
   "display_name": "Python 3.6.12 64-bit ('apiproject': conda)",
   "metadata": {
    "interpreter": {
     "hash": "6858991ae45970477c979e20bd003b285324046a59fb015a65b3ffb3c3b75fd3"
    }
   }
  }
 },
 "nbformat": 4,
 "nbformat_minor": 2,
 "cells": [
  {
   "cell_type": "code",
   "execution_count": 1,
   "metadata": {},
   "outputs": [],
   "source": [
    "import random\n",
    "import numpy as np\n",
    "from citipy import citipy\n"
   ]
  },
  {
   "cell_type": "code",
   "execution_count": 3,
   "metadata": {
    "tags": []
   },
   "outputs": [],
   "source": [
    "random_lat = np.random.uniform(low=-90.000,high=90.000,size = 2000)\n",
    "random_long = np.random.uniform(low=-180.000,high=180.000,size = 2000)\n",
    "\n"
   ]
  },
  {
   "cell_type": "code",
   "execution_count": 6,
   "metadata": {},
   "outputs": [
    {
     "output_type": "execute_result",
     "data": {
      "text/plain": "'taolanaro'"
     },
     "metadata": {},
     "execution_count": 6
    }
   ],
   "source": []
  },
  {
   "cell_type": "code",
   "execution_count": null,
   "metadata": {},
   "outputs": [],
   "source": [
    "for random_lat_long_coord in random_lat_long_coord:\n",
    "    city_id = citipy.nearest_city(random_lat_long_coord[0],random_lat_long_coord[1])"
   ]
  }
 ]
}