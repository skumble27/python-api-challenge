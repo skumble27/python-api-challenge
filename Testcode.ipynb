{
 "metadata": {
  "language_info": {
   "codemirror_mode": {
    "name": "ipython",
    "version": 3
   },
   "file_extension": ".py",
   "mimetype": "text/x-python",
   "name": "python",
   "nbconvert_exporter": "python",
   "pygments_lexer": "ipython3",
   "version": "3.6.12-final"
  },
  "orig_nbformat": 2,
  "kernelspec": {
   "name": "python_defaultSpec_1601189608759",
   "display_name": "Python 3.6.12 64-bit ('apiproject': conda)",
   "metadata": {
    "interpreter": {
     "hash": "6858991ae45970477c979e20bd003b285324046a59fb015a65b3ffb3c3b75fd3"
    }
   }
  }
 },
 "nbformat": 4,
 "nbformat_minor": 2,
 "cells": [
  {
   "cell_type": "code",
   "execution_count": 1,
   "metadata": {},
   "outputs": [],
   "source": [
    "import random\n",
    "import numpy as np\n",
    "from citipy import citipy\n"
   ]
  },
  {
   "cell_type": "code",
   "execution_count": 3,
   "metadata": {
    "tags": []
   },
   "outputs": [],
   "source": [
    "random_lat = np.random.uniform(low=-90.000,high=90.000,size = 2000)\n",
    "random_long = np.random.uniform(low=-180.000,high=180.000,size = 2000)\n",
    "\n"
   ]
  },
  {
   "cell_type": "code",
   "execution_count": 6,
   "metadata": {},
   "outputs": [
    {
     "output_type": "execute_result",
     "data": {
      "text/plain": "'taolanaro'"
     },
     "metadata": {},
     "execution_count": 6
    }
   ],
   "source": []
  },
  {
   "cell_type": "code",
   "execution_count": null,
   "metadata": {},
   "outputs": [],
   "source": [
    "for random_lat_long_coord in random_lat_long_coord:\n",
    "    city_id = citipy.nearest_city(random_lat_long_coord[0],random_lat_long_coord[1])"
   ]
  },
  {
   "cell_type": "code",
   "execution_count": null,
   "metadata": {},
   "outputs": [],
   "source": [
    "# A report log will be displayed indicating the record number for each city that is added to the list along with the set number, which will be a collection of 50 recorded cities.\n",
    "\n",
    "city_record_number = 0\n",
    "record_sets = 1\n",
    "\n",
    "# Data to append are as follows\n",
    "lattitude = []\n",
    "longitude = []\n",
    "max_temp = []\n",
    "humidity = []\n",
    "cloudiness = []\n",
    "wind = []\n",
    "country = []\n",
    "dates = []\n",
    "\n",
    "for city in city_name_list:\n",
    "    try:\n",
    "        weather_retreival = requests.get(query_url + city.replace(\" \",\"&\")).json()\n",
    "        lattitude.append(weather_retreival['coord']['lat'])\n",
    "        longitude.append(weather_retreival['coord']['lon'])\n",
    "        max_temp.append(weather_retreival['main']['temp_max'])\n",
    "        humidity.append(weather_retreival['main']['humidity'])\n",
    "        cloudiness.append(weather_retreival['clouds']['all'])\n",
    "        wind.append(weather_retreival['wind']['speed'])\n",
    "        country.append(weather_retreival['sys']['country'])\n",
    "        dates.append(weather_retreival['dt'])\n",
    "\n",
    "        # As we are recording 50 cities per set, we need to use an if statement\n",
    "        if city_record_number > 50:\n",
    "            # Reset the count\n",
    "            city_record_number = 0\n",
    "            updated_city_list.append(city)\n",
    "\n",
    "            # Adding up the Set numbers\n",
    "            record_sets += 1\n",
    "        else:\n",
    "            city_record_number +=1\n",
    "            updated_city_list.append(city)\n",
    "        print(f'Processing Record {city_record_number} of Set {record_sets} | {city}')\n",
    "\n",
    "    except Exception:\n",
    "        print(f'{city} cannot be found, proceeding to next city.....')\n",
    "\n",
    "print(f'-----------------------------------------------------\\n')\n",
    "print(f'Data Retreival Complete\\n')\n",
    "print(f'-----------------------------------------------------')\n",
    "\n"
   ]
  },
  {
   "cell_type": "code",
   "execution_count": null,
   "metadata": {},
   "outputs": [],
   "source": [
    "# set lists for the dataframe\n",
    "city_two = []\n",
    "cloudinesses = []\n",
    "dates = []\n",
    "humidities = []\n",
    "lats = []\n",
    "lngs = []\n",
    "max_temps = []\n",
    "wind_speeds = []\n",
    "countries = []\n",
    "\n",
    "# set initial count quantities for organization\n",
    "count_one = 0\n",
    "set_one = 1\n",
    "\n",
    "# loops for creating dataframe columns\n",
    "print(f'Data Retreival commencing\\n---------------------\\n')\n",
    "for city in city_names:\n",
    "    try:\n",
    "        response = requests.get(query_url + city.replace(\" \",\"&\")).json()\n",
    "        cloudinesses.append(response['clouds']['all'])\n",
    "        countries.append(response['sys']['country'])\n",
    "        dates.append(response['dt'])\n",
    "        humidities.append(response['main']['humidity'])\n",
    "        lats.append(response['coord']['lat'])\n",
    "        lngs.append(response['coord']['lon'])\n",
    "        max_temps.append(response['main']['temp_max'])\n",
    "        wind_speeds.append(response['wind']['speed'])\n",
    "        if count_one > 50:\n",
    "            count_one = 1\n",
    "            set_one += 1\n",
    "            city_two.append(city)\n",
    "        else:\n",
    "            count_one += 1\n",
    "            city_two.append(city)\n",
    "        print(f\"Processing Record {count_one} of Set {set_one} | {city}\")\n",
    "    except Exception:\n",
    "        print(f\"{city} not found. Skipping...\")\n",
    "print(\"------------------------------\\n\")\n",
    "print(\"Data Retrieval Complete\\n------------------------------\")    "
   ]
  }
 ]
}