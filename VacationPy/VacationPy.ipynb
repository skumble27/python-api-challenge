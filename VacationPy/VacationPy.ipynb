{
 "cells": [
  {
   "cell_type": "markdown",
   "metadata": {},
   "source": [
    "# VacationPy\n",
    "----\n",
    "\n",
    "#### Note\n",
    "* Keep an eye on your API usage. Use https://developers.google.com/maps/reporting/gmp-reporting as reference for how to monitor your usage and billing.\n",
    "\n",
    "* Instructions have been included for each segment. You do not have to follow them exactly, but they are included to help you think through the steps."
   ]
  },
  {
   "cell_type": "code",
   "execution_count": 1,
   "metadata": {},
   "outputs": [],
   "source": [
    "# Dependencies and Setup\n",
    "import matplotlib.pyplot as plt\n",
    "import pandas as pd\n",
    "import numpy as np\n",
    "import requests\n",
    "import gmaps\n",
    "import os\n",
    "\n",
    "# Import API key\n",
    "from api_keys import g_key\n",
    "\n",
    "# Configure the API Key\n",
    "gmaps.configure(api_key=g_key)"
   ]
  },
  {
   "cell_type": "markdown",
   "metadata": {},
   "source": [
    "### Store Part I results into DataFrame\n",
    "* Load the csv exported in Part I to a DataFrame"
   ]
  },
  {
   "cell_type": "code",
   "execution_count": 2,
   "metadata": {},
   "outputs": [
    {
     "output_type": "execute_result",
     "data": {
      "text/plain": "       City  Lattitude  Longitude  Max Temp  Humidity  Cloudiness  Wind Speed  \\\n0    atuona      -9.80    -139.03     25.76        78           4       10.65   \n1  klaksvik      62.23      -6.59     13.00        76          89        8.70   \n2    kodiak      57.79    -152.41     10.00        87          90       11.30   \n3  tasiilaq      65.61     -37.64      2.00        74         100       12.90   \n4   kabompo     -13.59      24.20     24.93        39           0        2.01   \n\n  Country        Date  \n0      PF  1601619564  \n1      FO  1601619844  \n2      US  1601619845  \n3      GL  1601619818  \n4      ZM  1601619845  ",
      "text/html": "<div>\n<style scoped>\n    .dataframe tbody tr th:only-of-type {\n        vertical-align: middle;\n    }\n\n    .dataframe tbody tr th {\n        vertical-align: top;\n    }\n\n    .dataframe thead th {\n        text-align: right;\n    }\n</style>\n<table border=\"1\" class=\"dataframe\">\n  <thead>\n    <tr style=\"text-align: right;\">\n      <th></th>\n      <th>City</th>\n      <th>Lattitude</th>\n      <th>Longitude</th>\n      <th>Max Temp</th>\n      <th>Humidity</th>\n      <th>Cloudiness</th>\n      <th>Wind Speed</th>\n      <th>Country</th>\n      <th>Date</th>\n    </tr>\n  </thead>\n  <tbody>\n    <tr>\n      <th>0</th>\n      <td>atuona</td>\n      <td>-9.80</td>\n      <td>-139.03</td>\n      <td>25.76</td>\n      <td>78</td>\n      <td>4</td>\n      <td>10.65</td>\n      <td>PF</td>\n      <td>1601619564</td>\n    </tr>\n    <tr>\n      <th>1</th>\n      <td>klaksvik</td>\n      <td>62.23</td>\n      <td>-6.59</td>\n      <td>13.00</td>\n      <td>76</td>\n      <td>89</td>\n      <td>8.70</td>\n      <td>FO</td>\n      <td>1601619844</td>\n    </tr>\n    <tr>\n      <th>2</th>\n      <td>kodiak</td>\n      <td>57.79</td>\n      <td>-152.41</td>\n      <td>10.00</td>\n      <td>87</td>\n      <td>90</td>\n      <td>11.30</td>\n      <td>US</td>\n      <td>1601619845</td>\n    </tr>\n    <tr>\n      <th>3</th>\n      <td>tasiilaq</td>\n      <td>65.61</td>\n      <td>-37.64</td>\n      <td>2.00</td>\n      <td>74</td>\n      <td>100</td>\n      <td>12.90</td>\n      <td>GL</td>\n      <td>1601619818</td>\n    </tr>\n    <tr>\n      <th>4</th>\n      <td>kabompo</td>\n      <td>-13.59</td>\n      <td>24.20</td>\n      <td>24.93</td>\n      <td>39</td>\n      <td>0</td>\n      <td>2.01</td>\n      <td>ZM</td>\n      <td>1601619845</td>\n    </tr>\n  </tbody>\n</table>\n</div>"
     },
     "metadata": {},
     "execution_count": 2
    }
   ],
   "source": [
    "weather_df = pd.read_csv('..\\Output_Data\\Weather_Data_Collection.csv')\n",
    "weather_df = weather_df.drop(columns={'Unnamed: 0'})\n",
    "weather_df.head()\n",
    "\n"
   ]
  },
  {
   "cell_type": "markdown",
   "metadata": {},
   "source": [
    "### Humidity Heatmap\n",
    "* Configure gmaps.\n",
    "* Use the Lat and Lng as locations and Humidity as the weight.\n",
    "* Add Heatmap layer to map."
   ]
  },
  {
   "cell_type": "code",
   "execution_count": 3,
   "metadata": {},
   "outputs": [
    {
     "output_type": "execute_result",
     "data": {
      "text/plain": "   Lattitude  Longitude\n0      -9.80    -139.03\n1      62.23      -6.59\n2      57.79    -152.41\n3      65.61     -37.64\n4     -13.59      24.20",
      "text/html": "<div>\n<style scoped>\n    .dataframe tbody tr th:only-of-type {\n        vertical-align: middle;\n    }\n\n    .dataframe tbody tr th {\n        vertical-align: top;\n    }\n\n    .dataframe thead th {\n        text-align: right;\n    }\n</style>\n<table border=\"1\" class=\"dataframe\">\n  <thead>\n    <tr style=\"text-align: right;\">\n      <th></th>\n      <th>Lattitude</th>\n      <th>Longitude</th>\n    </tr>\n  </thead>\n  <tbody>\n    <tr>\n      <th>0</th>\n      <td>-9.80</td>\n      <td>-139.03</td>\n    </tr>\n    <tr>\n      <th>1</th>\n      <td>62.23</td>\n      <td>-6.59</td>\n    </tr>\n    <tr>\n      <th>2</th>\n      <td>57.79</td>\n      <td>-152.41</td>\n    </tr>\n    <tr>\n      <th>3</th>\n      <td>65.61</td>\n      <td>-37.64</td>\n    </tr>\n    <tr>\n      <th>4</th>\n      <td>-13.59</td>\n      <td>24.20</td>\n    </tr>\n  </tbody>\n</table>\n</div>"
     },
     "metadata": {},
     "execution_count": 3
    }
   ],
   "source": [
    "# Obtaining the Coordinates to plot on the map\n",
    "city_locations = weather_df[['Lattitude','Longitude']].astype(float)\n",
    "city_locations.head()"
   ]
  },
  {
   "cell_type": "code",
   "execution_count": 4,
   "metadata": {},
   "outputs": [
    {
     "output_type": "execute_result",
     "data": {
      "text/plain": "0    78\n1    76\n2    87\n3    74\n4    39\nName: Humidity, dtype: int64"
     },
     "metadata": {},
     "execution_count": 4
    }
   ],
   "source": [
    "# Humidity values\n",
    "humidity_data = weather_df['Humidity']\n",
    "humidity_data.head()"
   ]
  },
  {
   "cell_type": "code",
   "execution_count": 5,
   "metadata": {},
   "outputs": [
    {
     "output_type": "display_data",
     "data": {
      "text/plain": "Figure(layout=FigureLayout(height=&#39;420px&#39;))",
      "application/vnd.jupyter.widget-view+json": {
       "version_major": 2,
       "version_minor": 0,
       "model_id": "fe33b3a6ec9e4482aa529243ae1a32dd"
      }
     },
     "metadata": {}
    }
   ],
   "source": [
    "# Creating a Humidity Heatmap Layer\n",
    "fig = gmaps.figure()\n",
    "\n",
    "humidity_layer = gmaps.heatmap_layer(city_locations, weights=humidity_data, dissipating=False, max_intensity=100, point_radius=2)\n",
    "\n",
    "fig.add_layer(humidity_layer)\n",
    "\n",
    "fig\n",
    "\n"
   ]
  },
  {
   "cell_type": "code",
   "execution_count": null,
   "metadata": {},
   "outputs": [],
   "source": []
  },
  {
   "cell_type": "markdown",
   "metadata": {},
   "source": [
    "### Create new DataFrame fitting weather criteria\n",
    "* Narrow down the cities to fit weather conditions.\n",
    "* Drop any rows will null values."
   ]
  },
  {
   "cell_type": "code",
   "execution_count": 6,
   "metadata": {
    "tags": []
   },
   "outputs": [
    {
     "output_type": "stream",
     "name": "stdout",
     "text": " The Number of Ideal Cities within the ideal weather criteria are 24\n"
    },
    {
     "output_type": "execute_result",
     "data": {
      "text/plain": "              City  Lattitude  Longitude  Max Temp  Humidity  Cloudiness  \\\n4          kabompo     -13.59      24.20     24.93        39           0   \n31        sanandaj      35.31      46.99     22.57        27           0   \n55       redcliffe     -27.23     153.10     26.11        50           0   \n123           jalu      29.03      21.55     26.67        37           0   \n134          basco      20.45     121.97     27.82        70           0   \n145      ulladulla     -35.35     150.47     27.00        22           0   \n148       flinders     -34.58     150.86     24.44        54           0   \n206     abu samrah      24.60      72.70     26.66        52           0   \n211         gerash      27.67      54.14     30.00        30           0   \n235        wenling      28.37     121.36     21.67        64           0   \n245       ajdabiya      30.76      20.23     23.26        50           0   \n250         najran      17.49      44.13     28.00        14           0   \n296  cockburn town     -32.08     141.00     30.00        20           0   \n333          ginda      30.69      78.49     29.00        58           0   \n349     ridgecrest      35.62    -117.67     24.71        16           0   \n374      karpathos      35.51      27.21     24.00        60           0   \n376           hays      30.05     -98.03     20.56        60           0   \n402         marzuq      14.40      46.47     27.67        27           0   \n411          bijar      35.87      47.61     20.24        29           0   \n481        wenzhou      28.00     120.67     27.78        46           0   \n485       sakaraha     -22.90      44.53     28.33        22           0   \n543       bardiyah      31.76      25.09     23.07        70           0   \n560        ballina     -28.87     153.57     24.00        78           0   \n574      matamoros      25.53    -103.25     20.56        31           0   \n\n     Wind Speed Country        Date  \n4          2.01      ZM  1601619845  \n31         1.24      IR  1601619852  \n55         4.60      AU  1601619857  \n123        4.71      LY  1601619877  \n134        7.52      PH  1601619885  \n145        5.10      AU  1601619892  \n148        1.34      AU  1601619894  \n206        2.28      IN  1601619678  \n211        0.43      IR  1601619940  \n235        2.95      CN  1601619956  \n245        7.37      LY  1601619963  \n250        3.10      SA  1601619968  \n296        5.70      AU  1601619999  \n333        2.35      IN  1601620021  \n349        2.13      US  1601619887  \n374        2.60      GR  1601620048  \n376        1.79      US  1601620049  \n402        3.62      YE  1601620064  \n411        3.27      IR  1601620069  \n481        3.04      CN  1601620114  \n485        2.97      MG  1601620116  \n543        1.71      LY  1601620151  \n560        6.70      AU  1601620162  \n574        0.89      MX  1601620170  ",
      "text/html": "<div>\n<style scoped>\n    .dataframe tbody tr th:only-of-type {\n        vertical-align: middle;\n    }\n\n    .dataframe tbody tr th {\n        vertical-align: top;\n    }\n\n    .dataframe thead th {\n        text-align: right;\n    }\n</style>\n<table border=\"1\" class=\"dataframe\">\n  <thead>\n    <tr style=\"text-align: right;\">\n      <th></th>\n      <th>City</th>\n      <th>Lattitude</th>\n      <th>Longitude</th>\n      <th>Max Temp</th>\n      <th>Humidity</th>\n      <th>Cloudiness</th>\n      <th>Wind Speed</th>\n      <th>Country</th>\n      <th>Date</th>\n    </tr>\n  </thead>\n  <tbody>\n    <tr>\n      <th>4</th>\n      <td>kabompo</td>\n      <td>-13.59</td>\n      <td>24.20</td>\n      <td>24.93</td>\n      <td>39</td>\n      <td>0</td>\n      <td>2.01</td>\n      <td>ZM</td>\n      <td>1601619845</td>\n    </tr>\n    <tr>\n      <th>31</th>\n      <td>sanandaj</td>\n      <td>35.31</td>\n      <td>46.99</td>\n      <td>22.57</td>\n      <td>27</td>\n      <td>0</td>\n      <td>1.24</td>\n      <td>IR</td>\n      <td>1601619852</td>\n    </tr>\n    <tr>\n      <th>55</th>\n      <td>redcliffe</td>\n      <td>-27.23</td>\n      <td>153.10</td>\n      <td>26.11</td>\n      <td>50</td>\n      <td>0</td>\n      <td>4.60</td>\n      <td>AU</td>\n      <td>1601619857</td>\n    </tr>\n    <tr>\n      <th>123</th>\n      <td>jalu</td>\n      <td>29.03</td>\n      <td>21.55</td>\n      <td>26.67</td>\n      <td>37</td>\n      <td>0</td>\n      <td>4.71</td>\n      <td>LY</td>\n      <td>1601619877</td>\n    </tr>\n    <tr>\n      <th>134</th>\n      <td>basco</td>\n      <td>20.45</td>\n      <td>121.97</td>\n      <td>27.82</td>\n      <td>70</td>\n      <td>0</td>\n      <td>7.52</td>\n      <td>PH</td>\n      <td>1601619885</td>\n    </tr>\n    <tr>\n      <th>145</th>\n      <td>ulladulla</td>\n      <td>-35.35</td>\n      <td>150.47</td>\n      <td>27.00</td>\n      <td>22</td>\n      <td>0</td>\n      <td>5.10</td>\n      <td>AU</td>\n      <td>1601619892</td>\n    </tr>\n    <tr>\n      <th>148</th>\n      <td>flinders</td>\n      <td>-34.58</td>\n      <td>150.86</td>\n      <td>24.44</td>\n      <td>54</td>\n      <td>0</td>\n      <td>1.34</td>\n      <td>AU</td>\n      <td>1601619894</td>\n    </tr>\n    <tr>\n      <th>206</th>\n      <td>abu samrah</td>\n      <td>24.60</td>\n      <td>72.70</td>\n      <td>26.66</td>\n      <td>52</td>\n      <td>0</td>\n      <td>2.28</td>\n      <td>IN</td>\n      <td>1601619678</td>\n    </tr>\n    <tr>\n      <th>211</th>\n      <td>gerash</td>\n      <td>27.67</td>\n      <td>54.14</td>\n      <td>30.00</td>\n      <td>30</td>\n      <td>0</td>\n      <td>0.43</td>\n      <td>IR</td>\n      <td>1601619940</td>\n    </tr>\n    <tr>\n      <th>235</th>\n      <td>wenling</td>\n      <td>28.37</td>\n      <td>121.36</td>\n      <td>21.67</td>\n      <td>64</td>\n      <td>0</td>\n      <td>2.95</td>\n      <td>CN</td>\n      <td>1601619956</td>\n    </tr>\n    <tr>\n      <th>245</th>\n      <td>ajdabiya</td>\n      <td>30.76</td>\n      <td>20.23</td>\n      <td>23.26</td>\n      <td>50</td>\n      <td>0</td>\n      <td>7.37</td>\n      <td>LY</td>\n      <td>1601619963</td>\n    </tr>\n    <tr>\n      <th>250</th>\n      <td>najran</td>\n      <td>17.49</td>\n      <td>44.13</td>\n      <td>28.00</td>\n      <td>14</td>\n      <td>0</td>\n      <td>3.10</td>\n      <td>SA</td>\n      <td>1601619968</td>\n    </tr>\n    <tr>\n      <th>296</th>\n      <td>cockburn town</td>\n      <td>-32.08</td>\n      <td>141.00</td>\n      <td>30.00</td>\n      <td>20</td>\n      <td>0</td>\n      <td>5.70</td>\n      <td>AU</td>\n      <td>1601619999</td>\n    </tr>\n    <tr>\n      <th>333</th>\n      <td>ginda</td>\n      <td>30.69</td>\n      <td>78.49</td>\n      <td>29.00</td>\n      <td>58</td>\n      <td>0</td>\n      <td>2.35</td>\n      <td>IN</td>\n      <td>1601620021</td>\n    </tr>\n    <tr>\n      <th>349</th>\n      <td>ridgecrest</td>\n      <td>35.62</td>\n      <td>-117.67</td>\n      <td>24.71</td>\n      <td>16</td>\n      <td>0</td>\n      <td>2.13</td>\n      <td>US</td>\n      <td>1601619887</td>\n    </tr>\n    <tr>\n      <th>374</th>\n      <td>karpathos</td>\n      <td>35.51</td>\n      <td>27.21</td>\n      <td>24.00</td>\n      <td>60</td>\n      <td>0</td>\n      <td>2.60</td>\n      <td>GR</td>\n      <td>1601620048</td>\n    </tr>\n    <tr>\n      <th>376</th>\n      <td>hays</td>\n      <td>30.05</td>\n      <td>-98.03</td>\n      <td>20.56</td>\n      <td>60</td>\n      <td>0</td>\n      <td>1.79</td>\n      <td>US</td>\n      <td>1601620049</td>\n    </tr>\n    <tr>\n      <th>402</th>\n      <td>marzuq</td>\n      <td>14.40</td>\n      <td>46.47</td>\n      <td>27.67</td>\n      <td>27</td>\n      <td>0</td>\n      <td>3.62</td>\n      <td>YE</td>\n      <td>1601620064</td>\n    </tr>\n    <tr>\n      <th>411</th>\n      <td>bijar</td>\n      <td>35.87</td>\n      <td>47.61</td>\n      <td>20.24</td>\n      <td>29</td>\n      <td>0</td>\n      <td>3.27</td>\n      <td>IR</td>\n      <td>1601620069</td>\n    </tr>\n    <tr>\n      <th>481</th>\n      <td>wenzhou</td>\n      <td>28.00</td>\n      <td>120.67</td>\n      <td>27.78</td>\n      <td>46</td>\n      <td>0</td>\n      <td>3.04</td>\n      <td>CN</td>\n      <td>1601620114</td>\n    </tr>\n    <tr>\n      <th>485</th>\n      <td>sakaraha</td>\n      <td>-22.90</td>\n      <td>44.53</td>\n      <td>28.33</td>\n      <td>22</td>\n      <td>0</td>\n      <td>2.97</td>\n      <td>MG</td>\n      <td>1601620116</td>\n    </tr>\n    <tr>\n      <th>543</th>\n      <td>bardiyah</td>\n      <td>31.76</td>\n      <td>25.09</td>\n      <td>23.07</td>\n      <td>70</td>\n      <td>0</td>\n      <td>1.71</td>\n      <td>LY</td>\n      <td>1601620151</td>\n    </tr>\n    <tr>\n      <th>560</th>\n      <td>ballina</td>\n      <td>-28.87</td>\n      <td>153.57</td>\n      <td>24.00</td>\n      <td>78</td>\n      <td>0</td>\n      <td>6.70</td>\n      <td>AU</td>\n      <td>1601620162</td>\n    </tr>\n    <tr>\n      <th>574</th>\n      <td>matamoros</td>\n      <td>25.53</td>\n      <td>-103.25</td>\n      <td>20.56</td>\n      <td>31</td>\n      <td>0</td>\n      <td>0.89</td>\n      <td>MX</td>\n      <td>1601620170</td>\n    </tr>\n  </tbody>\n</table>\n</div>"
     },
     "metadata": {},
     "execution_count": 6
    }
   ],
   "source": [
    "# The most ideal vacations involve destinations with minimal cloud cover as well as having temperatures within the range of 20-30 degrees celcius. As such, there datframe will be narrowed down further in order to find hotels within these regions that have the ideal weather. \n",
    "\n",
    "ideal_weather_df = weather_df.loc[\n",
    "    (weather_df['Cloudiness']==0) & \n",
    "    (weather_df['Wind Speed'] <= 10) & \n",
    "    (weather_df['Max Temp'] >= 20) &\n",
    "    (weather_df['Max Temp'] <= 30)].dropna()\n",
    "\n",
    "print(f' The Number of Ideal Cities within the ideal weather criteria are {len(ideal_weather_df)}')\n",
    "ideal_weather_df\n"
   ]
  },
  {
   "cell_type": "markdown",
   "metadata": {},
   "source": [
    "### Hotel Map\n",
    "* Store into variable named `hotel_df`.\n",
    "* Add a \"Hotel Name\" column to the DataFrame.\n",
    "* Set parameters to search for hotels with 5000 meters.\n",
    "* Hit the Google Places API for each city's coordinates.\n",
    "* Store the first Hotel result into the DataFrame.\n",
    "* Plot markers on top of the heatmap."
   ]
  },
  {
   "cell_type": "code",
   "execution_count": 7,
   "metadata": {},
   "outputs": [
    {
     "output_type": "execute_result",
     "data": {
      "text/plain": "              City  Lattitude  Longitude Country Hotel Name\n4          kabompo     -13.59      24.20      ZM           \n31        sanandaj      35.31      46.99      IR           \n55       redcliffe     -27.23     153.10      AU           \n123           jalu      29.03      21.55      LY           \n134          basco      20.45     121.97      PH           \n145      ulladulla     -35.35     150.47      AU           \n148       flinders     -34.58     150.86      AU           \n206     abu samrah      24.60      72.70      IN           \n211         gerash      27.67      54.14      IR           \n235        wenling      28.37     121.36      CN           \n245       ajdabiya      30.76      20.23      LY           \n250         najran      17.49      44.13      SA           \n296  cockburn town     -32.08     141.00      AU           \n333          ginda      30.69      78.49      IN           \n349     ridgecrest      35.62    -117.67      US           \n374      karpathos      35.51      27.21      GR           \n376           hays      30.05     -98.03      US           \n402         marzuq      14.40      46.47      YE           \n411          bijar      35.87      47.61      IR           \n481        wenzhou      28.00     120.67      CN           \n485       sakaraha     -22.90      44.53      MG           \n543       bardiyah      31.76      25.09      LY           \n560        ballina     -28.87     153.57      AU           \n574      matamoros      25.53    -103.25      MX           ",
      "text/html": "<div>\n<style scoped>\n    .dataframe tbody tr th:only-of-type {\n        vertical-align: middle;\n    }\n\n    .dataframe tbody tr th {\n        vertical-align: top;\n    }\n\n    .dataframe thead th {\n        text-align: right;\n    }\n</style>\n<table border=\"1\" class=\"dataframe\">\n  <thead>\n    <tr style=\"text-align: right;\">\n      <th></th>\n      <th>City</th>\n      <th>Lattitude</th>\n      <th>Longitude</th>\n      <th>Country</th>\n      <th>Hotel Name</th>\n    </tr>\n  </thead>\n  <tbody>\n    <tr>\n      <th>4</th>\n      <td>kabompo</td>\n      <td>-13.59</td>\n      <td>24.20</td>\n      <td>ZM</td>\n      <td></td>\n    </tr>\n    <tr>\n      <th>31</th>\n      <td>sanandaj</td>\n      <td>35.31</td>\n      <td>46.99</td>\n      <td>IR</td>\n      <td></td>\n    </tr>\n    <tr>\n      <th>55</th>\n      <td>redcliffe</td>\n      <td>-27.23</td>\n      <td>153.10</td>\n      <td>AU</td>\n      <td></td>\n    </tr>\n    <tr>\n      <th>123</th>\n      <td>jalu</td>\n      <td>29.03</td>\n      <td>21.55</td>\n      <td>LY</td>\n      <td></td>\n    </tr>\n    <tr>\n      <th>134</th>\n      <td>basco</td>\n      <td>20.45</td>\n      <td>121.97</td>\n      <td>PH</td>\n      <td></td>\n    </tr>\n    <tr>\n      <th>145</th>\n      <td>ulladulla</td>\n      <td>-35.35</td>\n      <td>150.47</td>\n      <td>AU</td>\n      <td></td>\n    </tr>\n    <tr>\n      <th>148</th>\n      <td>flinders</td>\n      <td>-34.58</td>\n      <td>150.86</td>\n      <td>AU</td>\n      <td></td>\n    </tr>\n    <tr>\n      <th>206</th>\n      <td>abu samrah</td>\n      <td>24.60</td>\n      <td>72.70</td>\n      <td>IN</td>\n      <td></td>\n    </tr>\n    <tr>\n      <th>211</th>\n      <td>gerash</td>\n      <td>27.67</td>\n      <td>54.14</td>\n      <td>IR</td>\n      <td></td>\n    </tr>\n    <tr>\n      <th>235</th>\n      <td>wenling</td>\n      <td>28.37</td>\n      <td>121.36</td>\n      <td>CN</td>\n      <td></td>\n    </tr>\n    <tr>\n      <th>245</th>\n      <td>ajdabiya</td>\n      <td>30.76</td>\n      <td>20.23</td>\n      <td>LY</td>\n      <td></td>\n    </tr>\n    <tr>\n      <th>250</th>\n      <td>najran</td>\n      <td>17.49</td>\n      <td>44.13</td>\n      <td>SA</td>\n      <td></td>\n    </tr>\n    <tr>\n      <th>296</th>\n      <td>cockburn town</td>\n      <td>-32.08</td>\n      <td>141.00</td>\n      <td>AU</td>\n      <td></td>\n    </tr>\n    <tr>\n      <th>333</th>\n      <td>ginda</td>\n      <td>30.69</td>\n      <td>78.49</td>\n      <td>IN</td>\n      <td></td>\n    </tr>\n    <tr>\n      <th>349</th>\n      <td>ridgecrest</td>\n      <td>35.62</td>\n      <td>-117.67</td>\n      <td>US</td>\n      <td></td>\n    </tr>\n    <tr>\n      <th>374</th>\n      <td>karpathos</td>\n      <td>35.51</td>\n      <td>27.21</td>\n      <td>GR</td>\n      <td></td>\n    </tr>\n    <tr>\n      <th>376</th>\n      <td>hays</td>\n      <td>30.05</td>\n      <td>-98.03</td>\n      <td>US</td>\n      <td></td>\n    </tr>\n    <tr>\n      <th>402</th>\n      <td>marzuq</td>\n      <td>14.40</td>\n      <td>46.47</td>\n      <td>YE</td>\n      <td></td>\n    </tr>\n    <tr>\n      <th>411</th>\n      <td>bijar</td>\n      <td>35.87</td>\n      <td>47.61</td>\n      <td>IR</td>\n      <td></td>\n    </tr>\n    <tr>\n      <th>481</th>\n      <td>wenzhou</td>\n      <td>28.00</td>\n      <td>120.67</td>\n      <td>CN</td>\n      <td></td>\n    </tr>\n    <tr>\n      <th>485</th>\n      <td>sakaraha</td>\n      <td>-22.90</td>\n      <td>44.53</td>\n      <td>MG</td>\n      <td></td>\n    </tr>\n    <tr>\n      <th>543</th>\n      <td>bardiyah</td>\n      <td>31.76</td>\n      <td>25.09</td>\n      <td>LY</td>\n      <td></td>\n    </tr>\n    <tr>\n      <th>560</th>\n      <td>ballina</td>\n      <td>-28.87</td>\n      <td>153.57</td>\n      <td>AU</td>\n      <td></td>\n    </tr>\n    <tr>\n      <th>574</th>\n      <td>matamoros</td>\n      <td>25.53</td>\n      <td>-103.25</td>\n      <td>MX</td>\n      <td></td>\n    </tr>\n  </tbody>\n</table>\n</div>"
     },
     "metadata": {},
     "execution_count": 7
    }
   ],
   "source": [
    "# Creating a New Hotel DataFram\n",
    "hotel_df = ideal_weather_df.copy().drop(columns={'Date', 'Wind Speed','Max Temp','Humidity','Cloudiness'})\n",
    "\n",
    "hotel_df['Hotel Name'] = \"\"\n",
    "\n",
    "hotel_df\n"
   ]
  },
  {
   "cell_type": "code",
   "execution_count": 8,
   "metadata": {
    "tags": []
   },
   "outputs": [
    {
     "output_type": "stream",
     "name": "stdout",
     "text": "Data retrival in progress\nFinding nearest hotel for kabompo\n--------------------------\nFinding nearest hotel for sanandaj\n--------------------------\nFinding nearest hotel for redcliffe\n--------------------------\nFinding nearest hotel for jalu\n--------------------------\nFinding nearest hotel for basco\n--------------------------\nFinding nearest hotel for ulladulla\n--------------------------\nFinding nearest hotel for flinders\n--------------------------\nFinding nearest hotel for abu samrah\n--------------------------\nFinding nearest hotel for gerash\n--------------------------\nFinding nearest hotel for wenling\n--------------------------\nFinding nearest hotel for ajdabiya\n--------------------------\nFinding nearest hotel for najran\n--------------------------\nThere are no Hotels for najran, moving on to the next city....\n\nFinding nearest hotel for cockburn town\n--------------------------\nFinding nearest hotel for ginda\n--------------------------\nFinding nearest hotel for ridgecrest\n--------------------------\nFinding nearest hotel for karpathos\n--------------------------\nFinding nearest hotel for hays\n--------------------------\nThere are no Hotels for hays, moving on to the next city....\n\nFinding nearest hotel for marzuq\n--------------------------\nThere are no Hotels for marzuq, moving on to the next city....\n\nFinding nearest hotel for bijar\n--------------------------\nFinding nearest hotel for wenzhou\n--------------------------\nFinding nearest hotel for sakaraha\n--------------------------\nFinding nearest hotel for bardiyah\n--------------------------\nFinding nearest hotel for ballina\n--------------------------\nFinding nearest hotel for matamoros\n--------------------------\nEnd of Data Retreival\n*********************\nRemoving cities where hotels could not be retreived\n"
    }
   ],
   "source": [
    "# Setting up the parameters to determine the closest hotels within a 5 km radium (5000 m)\n",
    "\n",
    "base_url = \"https://maps.googleapis.com/maps/api/place/nearbysearch/json\"\n",
    "\n",
    "# Setting up the search parameters\n",
    "params = {\n",
    "    'type':'hotel',\n",
    "    'keyword': 'hotel',\n",
    "    'radius': 5000,\n",
    "    'key': g_key\n",
    "}\n",
    "\n",
    "# We will be itterating through the rows in order to hotels within the defined radius of the coordinates of each city\n",
    "print(f'Data retrival in progress')\n",
    "for index, row in hotel_df.iterrows():\n",
    "    latitude = row['Lattitude']\n",
    "    longitude = row['Longitude']\n",
    "    city = row['City']\n",
    "\n",
    "    # Now that the latitude and longitude has been defined, these need to be added to the dictionary\n",
    "\n",
    "    params['location'] = f'{latitude},{longitude}'\n",
    "\n",
    "    \n",
    "    response = requests.get(base_url, params=params).json()\n",
    "\n",
    "    search_results = response['results']\n",
    "\n",
    "    try:\n",
    "        print(f'Finding nearest hotel for {city}\\n--------------------------')\n",
    "        hotel_df.loc[index, 'Hotel Name'] = search_results[0]['name']\n",
    "    \n",
    "    except (KeyError, IndexError):\n",
    "        print(f'There are no Hotels for {city}, moving on to the next city....\\n')\n",
    "\n",
    "\n",
    "print('End of Data Retreival\\n*********************')\n",
    "print(f'Removing cities where hotels could not be retreived')\n",
    "hotel_df = hotel_df[hotel_df['Hotel Name']!=\"\"]\n",
    "\n",
    "\n"
   ]
  },
  {
   "cell_type": "code",
   "execution_count": 9,
   "metadata": {},
   "outputs": [
    {
     "output_type": "execute_result",
     "data": {
      "text/plain": "              City  Lattitude  Longitude Country  \\\n4          kabompo     -13.59      24.20      ZM   \n31        sanandaj      35.31      46.99      IR   \n55       redcliffe     -27.23     153.10      AU   \n123           jalu      29.03      21.55      LY   \n134          basco      20.45     121.97      PH   \n145      ulladulla     -35.35     150.47      AU   \n148       flinders     -34.58     150.86      AU   \n206     abu samrah      24.60      72.70      IN   \n211         gerash      27.67      54.14      IR   \n235        wenling      28.37     121.36      CN   \n245       ajdabiya      30.76      20.23      LY   \n296  cockburn town     -32.08     141.00      AU   \n333          ginda      30.69      78.49      IN   \n349     ridgecrest      35.62    -117.67      US   \n374      karpathos      35.51      27.21      GR   \n411          bijar      35.87      47.61      IR   \n481        wenzhou      28.00     120.67      CN   \n485       sakaraha     -22.90      44.53      MG   \n543       bardiyah      31.76      25.09      LY   \n560        ballina     -28.87     153.57      AU   \n574      matamoros      25.53    -103.25      MX   \n\n                                         Hotel Name  \n4                                Chidikumbidi Lodge  \n31                                    hedayat hotel  \n55                   Oaks Redcliffe Mon Komo Suites  \n123                                      Jalu Hotel  \n134                                  Villa Hontomin  \n145         Bannisters Pavilion Rooftop Bar &amp; Grill  \n148                            Lakeview Hotel Motel  \n206                                  Hotel Hilltone  \n211                                       Chelpasin  \n235                     Wenling International Hotel  \n245                                  Almadina Hotel  \n296                                    Coburn Hotel  \n333                Shri Ganga Lok Hotels Uttarkashi  \n349        SpringHill Suites by Marriott Ridgecrest  \n374                                   Meltemi Hotel  \n411                                 Hotel Bame Iran  \n481                                 Pullman Wenzhou  \n485                                      Hôtel 2000  \n543                                     Hotel Burdy  \n560  Ramada Hotel &amp; Suites by Wyndham Ballina Byron  \n574                           HOTEL PLAZA MATAMOROS  ",
      "text/html": "<div>\n<style scoped>\n    .dataframe tbody tr th:only-of-type {\n        vertical-align: middle;\n    }\n\n    .dataframe tbody tr th {\n        vertical-align: top;\n    }\n\n    .dataframe thead th {\n        text-align: right;\n    }\n</style>\n<table border=\"1\" class=\"dataframe\">\n  <thead>\n    <tr style=\"text-align: right;\">\n      <th></th>\n      <th>City</th>\n      <th>Lattitude</th>\n      <th>Longitude</th>\n      <th>Country</th>\n      <th>Hotel Name</th>\n    </tr>\n  </thead>\n  <tbody>\n    <tr>\n      <th>4</th>\n      <td>kabompo</td>\n      <td>-13.59</td>\n      <td>24.20</td>\n      <td>ZM</td>\n      <td>Chidikumbidi Lodge</td>\n    </tr>\n    <tr>\n      <th>31</th>\n      <td>sanandaj</td>\n      <td>35.31</td>\n      <td>46.99</td>\n      <td>IR</td>\n      <td>hedayat hotel</td>\n    </tr>\n    <tr>\n      <th>55</th>\n      <td>redcliffe</td>\n      <td>-27.23</td>\n      <td>153.10</td>\n      <td>AU</td>\n      <td>Oaks Redcliffe Mon Komo Suites</td>\n    </tr>\n    <tr>\n      <th>123</th>\n      <td>jalu</td>\n      <td>29.03</td>\n      <td>21.55</td>\n      <td>LY</td>\n      <td>Jalu Hotel</td>\n    </tr>\n    <tr>\n      <th>134</th>\n      <td>basco</td>\n      <td>20.45</td>\n      <td>121.97</td>\n      <td>PH</td>\n      <td>Villa Hontomin</td>\n    </tr>\n    <tr>\n      <th>145</th>\n      <td>ulladulla</td>\n      <td>-35.35</td>\n      <td>150.47</td>\n      <td>AU</td>\n      <td>Bannisters Pavilion Rooftop Bar &amp; Grill</td>\n    </tr>\n    <tr>\n      <th>148</th>\n      <td>flinders</td>\n      <td>-34.58</td>\n      <td>150.86</td>\n      <td>AU</td>\n      <td>Lakeview Hotel Motel</td>\n    </tr>\n    <tr>\n      <th>206</th>\n      <td>abu samrah</td>\n      <td>24.60</td>\n      <td>72.70</td>\n      <td>IN</td>\n      <td>Hotel Hilltone</td>\n    </tr>\n    <tr>\n      <th>211</th>\n      <td>gerash</td>\n      <td>27.67</td>\n      <td>54.14</td>\n      <td>IR</td>\n      <td>Chelpasin</td>\n    </tr>\n    <tr>\n      <th>235</th>\n      <td>wenling</td>\n      <td>28.37</td>\n      <td>121.36</td>\n      <td>CN</td>\n      <td>Wenling International Hotel</td>\n    </tr>\n    <tr>\n      <th>245</th>\n      <td>ajdabiya</td>\n      <td>30.76</td>\n      <td>20.23</td>\n      <td>LY</td>\n      <td>Almadina Hotel</td>\n    </tr>\n    <tr>\n      <th>296</th>\n      <td>cockburn town</td>\n      <td>-32.08</td>\n      <td>141.00</td>\n      <td>AU</td>\n      <td>Coburn Hotel</td>\n    </tr>\n    <tr>\n      <th>333</th>\n      <td>ginda</td>\n      <td>30.69</td>\n      <td>78.49</td>\n      <td>IN</td>\n      <td>Shri Ganga Lok Hotels Uttarkashi</td>\n    </tr>\n    <tr>\n      <th>349</th>\n      <td>ridgecrest</td>\n      <td>35.62</td>\n      <td>-117.67</td>\n      <td>US</td>\n      <td>SpringHill Suites by Marriott Ridgecrest</td>\n    </tr>\n    <tr>\n      <th>374</th>\n      <td>karpathos</td>\n      <td>35.51</td>\n      <td>27.21</td>\n      <td>GR</td>\n      <td>Meltemi Hotel</td>\n    </tr>\n    <tr>\n      <th>411</th>\n      <td>bijar</td>\n      <td>35.87</td>\n      <td>47.61</td>\n      <td>IR</td>\n      <td>Hotel Bame Iran</td>\n    </tr>\n    <tr>\n      <th>481</th>\n      <td>wenzhou</td>\n      <td>28.00</td>\n      <td>120.67</td>\n      <td>CN</td>\n      <td>Pullman Wenzhou</td>\n    </tr>\n    <tr>\n      <th>485</th>\n      <td>sakaraha</td>\n      <td>-22.90</td>\n      <td>44.53</td>\n      <td>MG</td>\n      <td>Hôtel 2000</td>\n    </tr>\n    <tr>\n      <th>543</th>\n      <td>bardiyah</td>\n      <td>31.76</td>\n      <td>25.09</td>\n      <td>LY</td>\n      <td>Hotel Burdy</td>\n    </tr>\n    <tr>\n      <th>560</th>\n      <td>ballina</td>\n      <td>-28.87</td>\n      <td>153.57</td>\n      <td>AU</td>\n      <td>Ramada Hotel &amp; Suites by Wyndham Ballina Byron</td>\n    </tr>\n    <tr>\n      <th>574</th>\n      <td>matamoros</td>\n      <td>25.53</td>\n      <td>-103.25</td>\n      <td>MX</td>\n      <td>HOTEL PLAZA MATAMOROS</td>\n    </tr>\n  </tbody>\n</table>\n</div>"
     },
     "metadata": {},
     "execution_count": 9
    }
   ],
   "source": [
    "# Results of the Hotel Search\n",
    "hotel_df"
   ]
  },
  {
   "cell_type": "code",
   "execution_count": 10,
   "metadata": {},
   "outputs": [],
   "source": [
    "# NOTE: Do not change any of the code in this cell\n",
    "\n",
    "# Using the template add the hotel marks to the heatmap\n",
    "info_box_template = \"\"\"\n",
    "<dl>\n",
    "<dt>Name</dt><dd>{Hotel Name}</dd>\n",
    "<dt>City</dt><dd>{City}</dd>\n",
    "<dt>Country</dt><dd>{Country}</dd>\n",
    "</dl>\n",
    "\"\"\"\n",
    "# Store the DataFrame Row\n",
    "# NOTE: be sure to update with your DataFrame name\n",
    "hotel_info = [info_box_template.format(**row) for index, row in hotel_df.iterrows()]\n",
    "locations = hotel_df[[\"Lattitude\", \"Longitude\"]]"
   ]
  },
  {
   "cell_type": "code",
   "execution_count": 11,
   "metadata": {},
   "outputs": [
    {
     "output_type": "display_data",
     "data": {
      "text/plain": "Figure(layout=FigureLayout(height=&#39;420px&#39;))",
      "application/vnd.jupyter.widget-view+json": {
       "version_major": 2,
       "version_minor": 0,
       "model_id": "fe33b3a6ec9e4482aa529243ae1a32dd"
      }
     },
     "metadata": {}
    }
   ],
   "source": [
    "# Add marker layer ontop of heat map\n",
    "hotel_marker = gmaps.marker_layer(locations, info_box_content=hotel_info)\n",
    "\n",
    "# We will add the new layer to the previous humidity heatmap\n",
    "fig.add_layer(hotel_marker)\n",
    "\n",
    "# Display figure\n",
    "fig"
   ]
  },
  {
   "cell_type": "code",
   "execution_count": null,
   "metadata": {},
   "outputs": [],
   "source": []
  }
 ],
 "metadata": {
  "kernelspec": {
   "name": "python_defaultSpec_1601620540248",
   "display_name": "Python 3.6.12 64-bit ('apiproject': conda)",
   "metadata": {
    "interpreter": {
     "hash": "6858991ae45970477c979e20bd003b285324046a59fb015a65b3ffb3c3b75fd3"
    }
   }
  },
  "language_info": {
   "codemirror_mode": {
    "name": "ipython",
    "version": 3
   },
   "file_extension": ".py",
   "mimetype": "text/x-python",
   "name": "python",
   "nbconvert_exporter": "python",
   "pygments_lexer": "ipython3",
   "version": "3.6.12-final"
  },
  "latex_envs": {
   "LaTeX_envs_menu_present": true,
   "autoclose": false,
   "autocomplete": true,
   "bibliofile": "biblio.bib",
   "cite_by": "apalike",
   "current_citInitial": 1,
   "eqLabelWithNumbers": true,
   "eqNumInitial": 1,
   "hotkeys": {
    "equation": "Ctrl-E",
    "itemize": "Ctrl-I"
   },
   "labels_anchors": false,
   "latex_user_defs": false,
   "report_style_numbering": false,
   "user_envs_cfg": false
  }
 },
 "nbformat": 4,
 "nbformat_minor": 4
}