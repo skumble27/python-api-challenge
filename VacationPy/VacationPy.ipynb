{
 "cells": [
  {
   "cell_type": "markdown",
   "metadata": {},
   "source": [
    "# VacationPy\n",
    "----\n",
    "\n",
    "#### Note\n",
    "* Keep an eye on your API usage. Use https://developers.google.com/maps/reporting/gmp-reporting as reference for how to monitor your usage and billing.\n",
    "\n",
    "* Instructions have been included for each segment. You do not have to follow them exactly, but they are included to help you think through the steps."
   ]
  },
  {
   "cell_type": "code",
   "execution_count": 1,
   "metadata": {},
   "outputs": [],
   "source": [
    "# Dependencies and Setup\n",
    "import matplotlib.pyplot as plt\n",
    "import pandas as pd\n",
    "import numpy as np\n",
    "import requests\n",
    "import gmaps\n",
    "import os\n",
    "\n",
    "# Import API key\n",
    "from api_keys import g_key\n",
    "\n",
    "# Configure the API Key\n",
    "gmaps.configure(api_key=g_key)"
   ]
  },
  {
   "cell_type": "markdown",
   "metadata": {},
   "source": [
    "### Store Part I results into DataFrame\n",
    "* Load the csv exported in Part I to a DataFrame"
   ]
  },
  {
   "cell_type": "code",
   "execution_count": 2,
   "metadata": {},
   "outputs": [
    {
     "output_type": "execute_result",
     "data": {
      "text/plain": "          City  Lattitude  Longitude  Max Temp  Humidity  Cloudiness  \\\n0   shitanjing      39.23     106.34     16.17        56          84   \n1  yerbogachen      61.28     108.01      1.43        80           0   \n2      chengam      12.30      78.80     22.27        88         100   \n3  clyde river      41.30     -82.98     12.78        76          52   \n4         nome      64.50    -165.41      6.11        60          90   \n\n   Wind Speed Country        Date  \n0        1.20      CN  1601430260  \n1        2.03      RU  1601430261  \n2        3.00      IN  1601430261  \n3        0.45      US  1601430262  \n4        3.60      US  1601430262  ",
      "text/html": "<div>\n<style scoped>\n    .dataframe tbody tr th:only-of-type {\n        vertical-align: middle;\n    }\n\n    .dataframe tbody tr th {\n        vertical-align: top;\n    }\n\n    .dataframe thead th {\n        text-align: right;\n    }\n</style>\n<table border=\"1\" class=\"dataframe\">\n  <thead>\n    <tr style=\"text-align: right;\">\n      <th></th>\n      <th>City</th>\n      <th>Lattitude</th>\n      <th>Longitude</th>\n      <th>Max Temp</th>\n      <th>Humidity</th>\n      <th>Cloudiness</th>\n      <th>Wind Speed</th>\n      <th>Country</th>\n      <th>Date</th>\n    </tr>\n  </thead>\n  <tbody>\n    <tr>\n      <th>0</th>\n      <td>shitanjing</td>\n      <td>39.23</td>\n      <td>106.34</td>\n      <td>16.17</td>\n      <td>56</td>\n      <td>84</td>\n      <td>1.20</td>\n      <td>CN</td>\n      <td>1601430260</td>\n    </tr>\n    <tr>\n      <th>1</th>\n      <td>yerbogachen</td>\n      <td>61.28</td>\n      <td>108.01</td>\n      <td>1.43</td>\n      <td>80</td>\n      <td>0</td>\n      <td>2.03</td>\n      <td>RU</td>\n      <td>1601430261</td>\n    </tr>\n    <tr>\n      <th>2</th>\n      <td>chengam</td>\n      <td>12.30</td>\n      <td>78.80</td>\n      <td>22.27</td>\n      <td>88</td>\n      <td>100</td>\n      <td>3.00</td>\n      <td>IN</td>\n      <td>1601430261</td>\n    </tr>\n    <tr>\n      <th>3</th>\n      <td>clyde river</td>\n      <td>41.30</td>\n      <td>-82.98</td>\n      <td>12.78</td>\n      <td>76</td>\n      <td>52</td>\n      <td>0.45</td>\n      <td>US</td>\n      <td>1601430262</td>\n    </tr>\n    <tr>\n      <th>4</th>\n      <td>nome</td>\n      <td>64.50</td>\n      <td>-165.41</td>\n      <td>6.11</td>\n      <td>60</td>\n      <td>90</td>\n      <td>3.60</td>\n      <td>US</td>\n      <td>1601430262</td>\n    </tr>\n  </tbody>\n</table>\n</div>"
     },
     "metadata": {},
     "execution_count": 2
    }
   ],
   "source": [
    "weather_df = pd.read_csv('..\\Output_Data\\Weather_Data_Collection.csv')\n",
    "weather_df = weather_df.drop(columns={'Unnamed: 0'})\n",
    "weather_df.head()\n",
    "\n"
   ]
  },
  {
   "cell_type": "markdown",
   "metadata": {},
   "source": [
    "### Humidity Heatmap\n",
    "* Configure gmaps.\n",
    "* Use the Lat and Lng as locations and Humidity as the weight.\n",
    "* Add Heatmap layer to map."
   ]
  },
  {
   "cell_type": "code",
   "execution_count": 3,
   "metadata": {},
   "outputs": [
    {
     "output_type": "execute_result",
     "data": {
      "text/plain": "   Lattitude  Longitude\n0      39.23     106.34\n1      61.28     108.01\n2      12.30      78.80\n3      41.30     -82.98\n4      64.50    -165.41",
      "text/html": "<div>\n<style scoped>\n    .dataframe tbody tr th:only-of-type {\n        vertical-align: middle;\n    }\n\n    .dataframe tbody tr th {\n        vertical-align: top;\n    }\n\n    .dataframe thead th {\n        text-align: right;\n    }\n</style>\n<table border=\"1\" class=\"dataframe\">\n  <thead>\n    <tr style=\"text-align: right;\">\n      <th></th>\n      <th>Lattitude</th>\n      <th>Longitude</th>\n    </tr>\n  </thead>\n  <tbody>\n    <tr>\n      <th>0</th>\n      <td>39.23</td>\n      <td>106.34</td>\n    </tr>\n    <tr>\n      <th>1</th>\n      <td>61.28</td>\n      <td>108.01</td>\n    </tr>\n    <tr>\n      <th>2</th>\n      <td>12.30</td>\n      <td>78.80</td>\n    </tr>\n    <tr>\n      <th>3</th>\n      <td>41.30</td>\n      <td>-82.98</td>\n    </tr>\n    <tr>\n      <th>4</th>\n      <td>64.50</td>\n      <td>-165.41</td>\n    </tr>\n  </tbody>\n</table>\n</div>"
     },
     "metadata": {},
     "execution_count": 3
    }
   ],
   "source": [
    "# Obtaining the Coordinates to plot on the map\n",
    "city_locations = weather_df[['Lattitude','Longitude']].astype(float)\n",
    "city_locations.head()"
   ]
  },
  {
   "cell_type": "code",
   "execution_count": 4,
   "metadata": {},
   "outputs": [
    {
     "output_type": "execute_result",
     "data": {
      "text/plain": "0    56\n1    80\n2    88\n3    76\n4    60\nName: Humidity, dtype: int64"
     },
     "metadata": {},
     "execution_count": 4
    }
   ],
   "source": [
    "# Humidity values\n",
    "humidity_data = weather_df['Humidity']\n",
    "humidity_data.head()"
   ]
  },
  {
   "cell_type": "code",
   "execution_count": 5,
   "metadata": {},
   "outputs": [
    {
     "output_type": "display_data",
     "data": {
      "text/plain": "Figure(layout=FigureLayout(height='420px'))",
      "application/vnd.jupyter.widget-view+json": {
       "version_major": 2,
       "version_minor": 0,
       "model_id": "9eac7dbdb03a4b91825dedd63157dbb3"
      }
     },
     "metadata": {}
    }
   ],
   "source": [
    "# Creating a Humidity Heatmap Layer\n",
    "fig = gmaps.figure()\n",
    "\n",
    "humidity_layer = gmaps.heatmap_layer(city_locations, weights=humidity_data, dissipating=False, max_intensity=100, point_radius=2)\n",
    "\n",
    "fig.add_layer(humidity_layer)\n",
    "\n",
    "fig\n",
    "\n"
   ]
  },
  {
   "cell_type": "code",
   "execution_count": null,
   "metadata": {},
   "outputs": [],
   "source": []
  },
  {
   "cell_type": "markdown",
   "metadata": {},
   "source": [
    "### Create new DataFrame fitting weather criteria\n",
    "* Narrow down the cities to fit weather conditions.\n",
    "* Drop any rows will null values."
   ]
  },
  {
   "cell_type": "code",
   "execution_count": 6,
   "metadata": {
    "tags": []
   },
   "outputs": [
    {
     "output_type": "stream",
     "name": "stdout",
     "text": " The Number of Ideal Cities within the ideal weather criteria are 26\n"
    },
    {
     "output_type": "execute_result",
     "data": {
      "text/plain": "                City  Lattitude  Longitude  Max Temp  Humidity  Cloudiness  \\\n14           yeppoon     -23.13     150.73     25.00        36           0   \n22         carnarvon     -24.87     113.63     22.00        46           0   \n31      palaikastron      35.20      26.25     23.33        52           0   \n43               gat      31.61      34.76     23.89        86           0   \n45            atuona      -9.80    -139.03     25.74        75           0   \n66            turayf      31.67      38.66     21.00        40           0   \n118         buraydah      26.33      43.98     22.00        35           0   \n139        morondava     -20.28      44.28     22.99        66           0   \n145            lahij      13.17      44.58     25.90        74           0   \n147         ambilobe     -13.20      49.05     20.79        91           0   \n148          bushehr      28.97      50.84     28.02        58           0   \n169       nouadhibou      20.93     -17.03     22.00        73           0   \n243         enumclaw      47.20    -121.99     23.33        77           0   \n245           waddan      29.16      16.14     22.87        77           0   \n276           yulara     -25.24     130.99     25.00        38           0   \n300         tangzhai      34.43     116.59     21.85        61           0   \n305           bosaso      11.28      49.18     28.27        65           0   \n307  barra do garcas     -11.09     -43.14     26.15        44           0   \n360         misratah      32.38      15.09     24.40        67           0   \n372            erzin      36.96      36.20     24.44        68           0   \n389        geraldton     -28.77     114.60     20.00        56           0   \n406             jalu      29.03      21.55     24.34        60           0   \n413         bardiyah      31.76      25.09     22.86        77           0   \n450       banda aceh      25.48      80.33     26.78        47           0   \n507            sabha      27.04      14.43     26.29        21           0   \n509             jais      26.25      81.53     24.85        57           0   \n\n     Wind Speed Country        Date  \n14         5.10      AU  1601430196  \n22         6.70      AU  1601430275  \n31         6.71      GR  1601430280  \n43         1.88      IL  1601430290  \n45         8.23      PF  1601430291  \n66         4.10      SA  1601430303  \n118        3.10      SA  1601430337  \n139        2.88      MG  1601430352  \n145        1.25      YE  1601430356  \n147        1.18      MG  1601430358  \n148        1.35      IR  1601430358  \n169        8.20      MR  1601430373  \n243        1.02      US  1601430425  \n245        4.23      LY  1601430426  \n276        4.60      AU  1601430447  \n300        2.77      CN  1601430463  \n305        1.65      SO  1601430466  \n307        3.83      BR  1601430284  \n360        2.70      LY  1601430502  \n372        0.86      TR  1601430510  \n389        5.70      AU  1601430427  \n406        3.75      LY  1601430536  \n413        4.70      LY  1601430540  \n450        1.94      IN  1601430569  \n507        2.76      LY  1601430612  \n509        1.64      IN  1601430613  ",
      "text/html": "<div>\n<style scoped>\n    .dataframe tbody tr th:only-of-type {\n        vertical-align: middle;\n    }\n\n    .dataframe tbody tr th {\n        vertical-align: top;\n    }\n\n    .dataframe thead th {\n        text-align: right;\n    }\n</style>\n<table border=\"1\" class=\"dataframe\">\n  <thead>\n    <tr style=\"text-align: right;\">\n      <th></th>\n      <th>City</th>\n      <th>Lattitude</th>\n      <th>Longitude</th>\n      <th>Max Temp</th>\n      <th>Humidity</th>\n      <th>Cloudiness</th>\n      <th>Wind Speed</th>\n      <th>Country</th>\n      <th>Date</th>\n    </tr>\n  </thead>\n  <tbody>\n    <tr>\n      <th>14</th>\n      <td>yeppoon</td>\n      <td>-23.13</td>\n      <td>150.73</td>\n      <td>25.00</td>\n      <td>36</td>\n      <td>0</td>\n      <td>5.10</td>\n      <td>AU</td>\n      <td>1601430196</td>\n    </tr>\n    <tr>\n      <th>22</th>\n      <td>carnarvon</td>\n      <td>-24.87</td>\n      <td>113.63</td>\n      <td>22.00</td>\n      <td>46</td>\n      <td>0</td>\n      <td>6.70</td>\n      <td>AU</td>\n      <td>1601430275</td>\n    </tr>\n    <tr>\n      <th>31</th>\n      <td>palaikastron</td>\n      <td>35.20</td>\n      <td>26.25</td>\n      <td>23.33</td>\n      <td>52</td>\n      <td>0</td>\n      <td>6.71</td>\n      <td>GR</td>\n      <td>1601430280</td>\n    </tr>\n    <tr>\n      <th>43</th>\n      <td>gat</td>\n      <td>31.61</td>\n      <td>34.76</td>\n      <td>23.89</td>\n      <td>86</td>\n      <td>0</td>\n      <td>1.88</td>\n      <td>IL</td>\n      <td>1601430290</td>\n    </tr>\n    <tr>\n      <th>45</th>\n      <td>atuona</td>\n      <td>-9.80</td>\n      <td>-139.03</td>\n      <td>25.74</td>\n      <td>75</td>\n      <td>0</td>\n      <td>8.23</td>\n      <td>PF</td>\n      <td>1601430291</td>\n    </tr>\n    <tr>\n      <th>66</th>\n      <td>turayf</td>\n      <td>31.67</td>\n      <td>38.66</td>\n      <td>21.00</td>\n      <td>40</td>\n      <td>0</td>\n      <td>4.10</td>\n      <td>SA</td>\n      <td>1601430303</td>\n    </tr>\n    <tr>\n      <th>118</th>\n      <td>buraydah</td>\n      <td>26.33</td>\n      <td>43.98</td>\n      <td>22.00</td>\n      <td>35</td>\n      <td>0</td>\n      <td>3.10</td>\n      <td>SA</td>\n      <td>1601430337</td>\n    </tr>\n    <tr>\n      <th>139</th>\n      <td>morondava</td>\n      <td>-20.28</td>\n      <td>44.28</td>\n      <td>22.99</td>\n      <td>66</td>\n      <td>0</td>\n      <td>2.88</td>\n      <td>MG</td>\n      <td>1601430352</td>\n    </tr>\n    <tr>\n      <th>145</th>\n      <td>lahij</td>\n      <td>13.17</td>\n      <td>44.58</td>\n      <td>25.90</td>\n      <td>74</td>\n      <td>0</td>\n      <td>1.25</td>\n      <td>YE</td>\n      <td>1601430356</td>\n    </tr>\n    <tr>\n      <th>147</th>\n      <td>ambilobe</td>\n      <td>-13.20</td>\n      <td>49.05</td>\n      <td>20.79</td>\n      <td>91</td>\n      <td>0</td>\n      <td>1.18</td>\n      <td>MG</td>\n      <td>1601430358</td>\n    </tr>\n    <tr>\n      <th>148</th>\n      <td>bushehr</td>\n      <td>28.97</td>\n      <td>50.84</td>\n      <td>28.02</td>\n      <td>58</td>\n      <td>0</td>\n      <td>1.35</td>\n      <td>IR</td>\n      <td>1601430358</td>\n    </tr>\n    <tr>\n      <th>169</th>\n      <td>nouadhibou</td>\n      <td>20.93</td>\n      <td>-17.03</td>\n      <td>22.00</td>\n      <td>73</td>\n      <td>0</td>\n      <td>8.20</td>\n      <td>MR</td>\n      <td>1601430373</td>\n    </tr>\n    <tr>\n      <th>243</th>\n      <td>enumclaw</td>\n      <td>47.20</td>\n      <td>-121.99</td>\n      <td>23.33</td>\n      <td>77</td>\n      <td>0</td>\n      <td>1.02</td>\n      <td>US</td>\n      <td>1601430425</td>\n    </tr>\n    <tr>\n      <th>245</th>\n      <td>waddan</td>\n      <td>29.16</td>\n      <td>16.14</td>\n      <td>22.87</td>\n      <td>77</td>\n      <td>0</td>\n      <td>4.23</td>\n      <td>LY</td>\n      <td>1601430426</td>\n    </tr>\n    <tr>\n      <th>276</th>\n      <td>yulara</td>\n      <td>-25.24</td>\n      <td>130.99</td>\n      <td>25.00</td>\n      <td>38</td>\n      <td>0</td>\n      <td>4.60</td>\n      <td>AU</td>\n      <td>1601430447</td>\n    </tr>\n    <tr>\n      <th>300</th>\n      <td>tangzhai</td>\n      <td>34.43</td>\n      <td>116.59</td>\n      <td>21.85</td>\n      <td>61</td>\n      <td>0</td>\n      <td>2.77</td>\n      <td>CN</td>\n      <td>1601430463</td>\n    </tr>\n    <tr>\n      <th>305</th>\n      <td>bosaso</td>\n      <td>11.28</td>\n      <td>49.18</td>\n      <td>28.27</td>\n      <td>65</td>\n      <td>0</td>\n      <td>1.65</td>\n      <td>SO</td>\n      <td>1601430466</td>\n    </tr>\n    <tr>\n      <th>307</th>\n      <td>barra do garcas</td>\n      <td>-11.09</td>\n      <td>-43.14</td>\n      <td>26.15</td>\n      <td>44</td>\n      <td>0</td>\n      <td>3.83</td>\n      <td>BR</td>\n      <td>1601430284</td>\n    </tr>\n    <tr>\n      <th>360</th>\n      <td>misratah</td>\n      <td>32.38</td>\n      <td>15.09</td>\n      <td>24.40</td>\n      <td>67</td>\n      <td>0</td>\n      <td>2.70</td>\n      <td>LY</td>\n      <td>1601430502</td>\n    </tr>\n    <tr>\n      <th>372</th>\n      <td>erzin</td>\n      <td>36.96</td>\n      <td>36.20</td>\n      <td>24.44</td>\n      <td>68</td>\n      <td>0</td>\n      <td>0.86</td>\n      <td>TR</td>\n      <td>1601430510</td>\n    </tr>\n    <tr>\n      <th>389</th>\n      <td>geraldton</td>\n      <td>-28.77</td>\n      <td>114.60</td>\n      <td>20.00</td>\n      <td>56</td>\n      <td>0</td>\n      <td>5.70</td>\n      <td>AU</td>\n      <td>1601430427</td>\n    </tr>\n    <tr>\n      <th>406</th>\n      <td>jalu</td>\n      <td>29.03</td>\n      <td>21.55</td>\n      <td>24.34</td>\n      <td>60</td>\n      <td>0</td>\n      <td>3.75</td>\n      <td>LY</td>\n      <td>1601430536</td>\n    </tr>\n    <tr>\n      <th>413</th>\n      <td>bardiyah</td>\n      <td>31.76</td>\n      <td>25.09</td>\n      <td>22.86</td>\n      <td>77</td>\n      <td>0</td>\n      <td>4.70</td>\n      <td>LY</td>\n      <td>1601430540</td>\n    </tr>\n    <tr>\n      <th>450</th>\n      <td>banda aceh</td>\n      <td>25.48</td>\n      <td>80.33</td>\n      <td>26.78</td>\n      <td>47</td>\n      <td>0</td>\n      <td>1.94</td>\n      <td>IN</td>\n      <td>1601430569</td>\n    </tr>\n    <tr>\n      <th>507</th>\n      <td>sabha</td>\n      <td>27.04</td>\n      <td>14.43</td>\n      <td>26.29</td>\n      <td>21</td>\n      <td>0</td>\n      <td>2.76</td>\n      <td>LY</td>\n      <td>1601430612</td>\n    </tr>\n    <tr>\n      <th>509</th>\n      <td>jais</td>\n      <td>26.25</td>\n      <td>81.53</td>\n      <td>24.85</td>\n      <td>57</td>\n      <td>0</td>\n      <td>1.64</td>\n      <td>IN</td>\n      <td>1601430613</td>\n    </tr>\n  </tbody>\n</table>\n</div>"
     },
     "metadata": {},
     "execution_count": 6
    }
   ],
   "source": [
    "# The most ideal vacations involve destinations with minimal cloud cover as well as having temperatures within the range of 20-30 degrees celcius. As such, there datframe will be narrowed down further in order to find hotels within these regions that have the ideal weather. \n",
    "\n",
    "ideal_weather_df = weather_df.loc[\n",
    "    (weather_df['Cloudiness']==0) & \n",
    "    (weather_df['Wind Speed'] <= 10) & \n",
    "    (weather_df['Max Temp'] >= 20) &\n",
    "    (weather_df['Max Temp'] <= 30)].dropna()\n",
    "\n",
    "print(f' The Number of Ideal Cities within the ideal weather criteria are {len(ideal_weather_df)}')\n",
    "ideal_weather_df\n"
   ]
  },
  {
   "cell_type": "markdown",
   "metadata": {},
   "source": [
    "### Hotel Map\n",
    "* Store into variable named `hotel_df`.\n",
    "* Add a \"Hotel Name\" column to the DataFrame.\n",
    "* Set parameters to search for hotels with 5000 meters.\n",
    "* Hit the Google Places API for each city's coordinates.\n",
    "* Store the first Hotel result into the DataFrame.\n",
    "* Plot markers on top of the heatmap."
   ]
  },
  {
   "cell_type": "code",
   "execution_count": 7,
   "metadata": {},
   "outputs": [
    {
     "output_type": "execute_result",
     "data": {
      "text/plain": "                City  Lattitude  Longitude Country Hotel Name\n14           yeppoon     -23.13     150.73      AU           \n22         carnarvon     -24.87     113.63      AU           \n31      palaikastron      35.20      26.25      GR           \n43               gat      31.61      34.76      IL           \n45            atuona      -9.80    -139.03      PF           \n66            turayf      31.67      38.66      SA           \n118         buraydah      26.33      43.98      SA           \n139        morondava     -20.28      44.28      MG           \n145            lahij      13.17      44.58      YE           \n147         ambilobe     -13.20      49.05      MG           \n148          bushehr      28.97      50.84      IR           \n169       nouadhibou      20.93     -17.03      MR           \n243         enumclaw      47.20    -121.99      US           \n245           waddan      29.16      16.14      LY           \n276           yulara     -25.24     130.99      AU           \n300         tangzhai      34.43     116.59      CN           \n305           bosaso      11.28      49.18      SO           \n307  barra do garcas     -11.09     -43.14      BR           \n360         misratah      32.38      15.09      LY           \n372            erzin      36.96      36.20      TR           \n389        geraldton     -28.77     114.60      AU           \n406             jalu      29.03      21.55      LY           \n413         bardiyah      31.76      25.09      LY           \n450       banda aceh      25.48      80.33      IN           \n507            sabha      27.04      14.43      LY           \n509             jais      26.25      81.53      IN           ",
      "text/html": "<div>\n<style scoped>\n    .dataframe tbody tr th:only-of-type {\n        vertical-align: middle;\n    }\n\n    .dataframe tbody tr th {\n        vertical-align: top;\n    }\n\n    .dataframe thead th {\n        text-align: right;\n    }\n</style>\n<table border=\"1\" class=\"dataframe\">\n  <thead>\n    <tr style=\"text-align: right;\">\n      <th></th>\n      <th>City</th>\n      <th>Lattitude</th>\n      <th>Longitude</th>\n      <th>Country</th>\n      <th>Hotel Name</th>\n    </tr>\n  </thead>\n  <tbody>\n    <tr>\n      <th>14</th>\n      <td>yeppoon</td>\n      <td>-23.13</td>\n      <td>150.73</td>\n      <td>AU</td>\n      <td></td>\n    </tr>\n    <tr>\n      <th>22</th>\n      <td>carnarvon</td>\n      <td>-24.87</td>\n      <td>113.63</td>\n      <td>AU</td>\n      <td></td>\n    </tr>\n    <tr>\n      <th>31</th>\n      <td>palaikastron</td>\n      <td>35.20</td>\n      <td>26.25</td>\n      <td>GR</td>\n      <td></td>\n    </tr>\n    <tr>\n      <th>43</th>\n      <td>gat</td>\n      <td>31.61</td>\n      <td>34.76</td>\n      <td>IL</td>\n      <td></td>\n    </tr>\n    <tr>\n      <th>45</th>\n      <td>atuona</td>\n      <td>-9.80</td>\n      <td>-139.03</td>\n      <td>PF</td>\n      <td></td>\n    </tr>\n    <tr>\n      <th>66</th>\n      <td>turayf</td>\n      <td>31.67</td>\n      <td>38.66</td>\n      <td>SA</td>\n      <td></td>\n    </tr>\n    <tr>\n      <th>118</th>\n      <td>buraydah</td>\n      <td>26.33</td>\n      <td>43.98</td>\n      <td>SA</td>\n      <td></td>\n    </tr>\n    <tr>\n      <th>139</th>\n      <td>morondava</td>\n      <td>-20.28</td>\n      <td>44.28</td>\n      <td>MG</td>\n      <td></td>\n    </tr>\n    <tr>\n      <th>145</th>\n      <td>lahij</td>\n      <td>13.17</td>\n      <td>44.58</td>\n      <td>YE</td>\n      <td></td>\n    </tr>\n    <tr>\n      <th>147</th>\n      <td>ambilobe</td>\n      <td>-13.20</td>\n      <td>49.05</td>\n      <td>MG</td>\n      <td></td>\n    </tr>\n    <tr>\n      <th>148</th>\n      <td>bushehr</td>\n      <td>28.97</td>\n      <td>50.84</td>\n      <td>IR</td>\n      <td></td>\n    </tr>\n    <tr>\n      <th>169</th>\n      <td>nouadhibou</td>\n      <td>20.93</td>\n      <td>-17.03</td>\n      <td>MR</td>\n      <td></td>\n    </tr>\n    <tr>\n      <th>243</th>\n      <td>enumclaw</td>\n      <td>47.20</td>\n      <td>-121.99</td>\n      <td>US</td>\n      <td></td>\n    </tr>\n    <tr>\n      <th>245</th>\n      <td>waddan</td>\n      <td>29.16</td>\n      <td>16.14</td>\n      <td>LY</td>\n      <td></td>\n    </tr>\n    <tr>\n      <th>276</th>\n      <td>yulara</td>\n      <td>-25.24</td>\n      <td>130.99</td>\n      <td>AU</td>\n      <td></td>\n    </tr>\n    <tr>\n      <th>300</th>\n      <td>tangzhai</td>\n      <td>34.43</td>\n      <td>116.59</td>\n      <td>CN</td>\n      <td></td>\n    </tr>\n    <tr>\n      <th>305</th>\n      <td>bosaso</td>\n      <td>11.28</td>\n      <td>49.18</td>\n      <td>SO</td>\n      <td></td>\n    </tr>\n    <tr>\n      <th>307</th>\n      <td>barra do garcas</td>\n      <td>-11.09</td>\n      <td>-43.14</td>\n      <td>BR</td>\n      <td></td>\n    </tr>\n    <tr>\n      <th>360</th>\n      <td>misratah</td>\n      <td>32.38</td>\n      <td>15.09</td>\n      <td>LY</td>\n      <td></td>\n    </tr>\n    <tr>\n      <th>372</th>\n      <td>erzin</td>\n      <td>36.96</td>\n      <td>36.20</td>\n      <td>TR</td>\n      <td></td>\n    </tr>\n    <tr>\n      <th>389</th>\n      <td>geraldton</td>\n      <td>-28.77</td>\n      <td>114.60</td>\n      <td>AU</td>\n      <td></td>\n    </tr>\n    <tr>\n      <th>406</th>\n      <td>jalu</td>\n      <td>29.03</td>\n      <td>21.55</td>\n      <td>LY</td>\n      <td></td>\n    </tr>\n    <tr>\n      <th>413</th>\n      <td>bardiyah</td>\n      <td>31.76</td>\n      <td>25.09</td>\n      <td>LY</td>\n      <td></td>\n    </tr>\n    <tr>\n      <th>450</th>\n      <td>banda aceh</td>\n      <td>25.48</td>\n      <td>80.33</td>\n      <td>IN</td>\n      <td></td>\n    </tr>\n    <tr>\n      <th>507</th>\n      <td>sabha</td>\n      <td>27.04</td>\n      <td>14.43</td>\n      <td>LY</td>\n      <td></td>\n    </tr>\n    <tr>\n      <th>509</th>\n      <td>jais</td>\n      <td>26.25</td>\n      <td>81.53</td>\n      <td>IN</td>\n      <td></td>\n    </tr>\n  </tbody>\n</table>\n</div>"
     },
     "metadata": {},
     "execution_count": 7
    }
   ],
   "source": [
    "# Creating a New Hotel DataFram\n",
    "hotel_df = ideal_weather_df.copy().drop(columns={'Date', 'Wind Speed','Max Temp','Humidity','Cloudiness'})\n",
    "\n",
    "hotel_df['Hotel Name'] = \"\"\n",
    "\n",
    "hotel_df\n"
   ]
  },
  {
   "cell_type": "code",
   "execution_count": 8,
   "metadata": {
    "tags": []
   },
   "outputs": [
    {
     "output_type": "stream",
     "name": "stdout",
     "text": "Data retrival in progress\nFinding nearest hotel for yeppoon\n--------------------------\nFinding nearest hotel for carnarvon\n--------------------------\nFinding nearest hotel for palaikastron\n--------------------------\nFinding nearest hotel for gat\n--------------------------\nThere are no Hotels for gat, moving on to the next city....\n\nFinding nearest hotel for atuona\n--------------------------\nFinding nearest hotel for turayf\n--------------------------\nFinding nearest hotel for buraydah\n--------------------------\nFinding nearest hotel for morondava\n--------------------------\nFinding nearest hotel for lahij\n--------------------------\nThere are no Hotels for lahij, moving on to the next city....\n\nFinding nearest hotel for ambilobe\n--------------------------\nFinding nearest hotel for bushehr\n--------------------------\nFinding nearest hotel for nouadhibou\n--------------------------\nFinding nearest hotel for enumclaw\n--------------------------\nFinding nearest hotel for waddan\n--------------------------\nThere are no Hotels for waddan, moving on to the next city....\n\nFinding nearest hotel for yulara\n--------------------------\nFinding nearest hotel for tangzhai\n--------------------------\nThere are no Hotels for tangzhai, moving on to the next city....\n\nFinding nearest hotel for bosaso\n--------------------------\nFinding nearest hotel for barra do garcas\n--------------------------\nFinding nearest hotel for misratah\n--------------------------\nFinding nearest hotel for erzin\n--------------------------\nFinding nearest hotel for geraldton\n--------------------------\nFinding nearest hotel for jalu\n--------------------------\nFinding nearest hotel for bardiyah\n--------------------------\nFinding nearest hotel for banda aceh\n--------------------------\nFinding nearest hotel for sabha\n--------------------------\nFinding nearest hotel for jais\n--------------------------\nEnd of Data Retreival\n*********************\nRemoving cities where hotels could not be retreived\n"
    }
   ],
   "source": [
    "# Setting up the parameters to determine the closest hotels within a 5 km radium (5000 m)\n",
    "\n",
    "base_url = \"https://maps.googleapis.com/maps/api/place/nearbysearch/json\"\n",
    "\n",
    "# Setting up the search parameters\n",
    "params = {\n",
    "    'type':'hotel',\n",
    "    'keyword': 'hotel',\n",
    "    'radius': 5000,\n",
    "    'key': g_key\n",
    "}\n",
    "\n",
    "# We will be itterating through the rows in order to hotels within the defined radius of the coordinates of each city\n",
    "print(f'Data retrival in progress')\n",
    "for index, row in hotel_df.iterrows():\n",
    "    latitude = row['Lattitude']\n",
    "    longitude = row['Longitude']\n",
    "    city = row['City']\n",
    "\n",
    "    # Now that the latitude and longitude has been defined, these need to be added to the dictionary\n",
    "\n",
    "    params['location'] = f'{latitude},{longitude}'\n",
    "\n",
    "    \n",
    "    response = requests.get(base_url, params=params).json()\n",
    "\n",
    "    search_results = response['results']\n",
    "\n",
    "    try:\n",
    "        print(f'Finding nearest hotel for {city}\\n--------------------------')\n",
    "        hotel_df.loc[index, 'Hotel Name'] = search_results[0]['name']\n",
    "    \n",
    "    except (KeyError, IndexError):\n",
    "        print(f'There are no Hotels for {city}, moving on to the next city....\\n')\n",
    "\n",
    "\n",
    "print('End of Data Retreival\\n*********************')\n",
    "print(f'Removing cities where hotels could not be retreived')\n",
    "hotel_df = hotel_df[hotel_df['Hotel Name']!=\"\"]\n",
    "\n",
    "\n"
   ]
  },
  {
   "cell_type": "code",
   "execution_count": 9,
   "metadata": {},
   "outputs": [
    {
     "output_type": "execute_result",
     "data": {
      "text/plain": "                City  Lattitude  Longitude Country  \\\n14           yeppoon     -23.13     150.73      AU   \n22         carnarvon     -24.87     113.63      AU   \n31      palaikastron      35.20      26.25      GR   \n45            atuona      -9.80    -139.03      PF   \n66            turayf      31.67      38.66      SA   \n118         buraydah      26.33      43.98      SA   \n139        morondava     -20.28      44.28      MG   \n147         ambilobe     -13.20      49.05      MG   \n148          bushehr      28.97      50.84      IR   \n169       nouadhibou      20.93     -17.03      MR   \n243         enumclaw      47.20    -121.99      US   \n276           yulara     -25.24     130.99      AU   \n305           bosaso      11.28      49.18      SO   \n307  barra do garcas     -11.09     -43.14      BR   \n360         misratah      32.38      15.09      LY   \n372            erzin      36.96      36.20      TR   \n389        geraldton     -28.77     114.60      AU   \n406             jalu      29.03      21.55      LY   \n413         bardiyah      31.76      25.09      LY   \n450       banda aceh      25.48      80.33      IN   \n507            sabha      27.04      14.43      LY   \n509             jais      26.25      81.53      IN   \n\n                              Hotel Name  \n14                    Echelon Apartments  \n22                       Carnarvon Motel  \n31                  Hotel Kastri Village  \n45           Hôtel Hiva Oa Hanakee Lodge  \n66                     Golden Dune Hotel  \n118               Mövenpick Hotel Qassim  \n139  Palissandre Cote Ouest resort & SPA  \n147                       Hotel National  \n148                          Sky 2 hotel  \n169           Free Zone Hotel Nouadhibou  \n243                  GuestHouse Enumclaw  \n276                    Ayers Rock Resort  \n305                        Gacayte Hotel  \n307                   Hotel Barra Palace  \n360                  TAJ APARTMENT HOTEL  \n372  Hattusa Vacation Thermal Club Erzin  \n389           The Gerald Apartment Hotel  \n406                           Jalu Hotel  \n413                          Hotel Burdy  \n450        Hotel Sarang Intercontinental  \n507                             فندق علي  \n509                         Mushtaq Lawn  ",
      "text/html": "<div>\n<style scoped>\n    .dataframe tbody tr th:only-of-type {\n        vertical-align: middle;\n    }\n\n    .dataframe tbody tr th {\n        vertical-align: top;\n    }\n\n    .dataframe thead th {\n        text-align: right;\n    }\n</style>\n<table border=\"1\" class=\"dataframe\">\n  <thead>\n    <tr style=\"text-align: right;\">\n      <th></th>\n      <th>City</th>\n      <th>Lattitude</th>\n      <th>Longitude</th>\n      <th>Country</th>\n      <th>Hotel Name</th>\n    </tr>\n  </thead>\n  <tbody>\n    <tr>\n      <th>14</th>\n      <td>yeppoon</td>\n      <td>-23.13</td>\n      <td>150.73</td>\n      <td>AU</td>\n      <td>Echelon Apartments</td>\n    </tr>\n    <tr>\n      <th>22</th>\n      <td>carnarvon</td>\n      <td>-24.87</td>\n      <td>113.63</td>\n      <td>AU</td>\n      <td>Carnarvon Motel</td>\n    </tr>\n    <tr>\n      <th>31</th>\n      <td>palaikastron</td>\n      <td>35.20</td>\n      <td>26.25</td>\n      <td>GR</td>\n      <td>Hotel Kastri Village</td>\n    </tr>\n    <tr>\n      <th>45</th>\n      <td>atuona</td>\n      <td>-9.80</td>\n      <td>-139.03</td>\n      <td>PF</td>\n      <td>Hôtel Hiva Oa Hanakee Lodge</td>\n    </tr>\n    <tr>\n      <th>66</th>\n      <td>turayf</td>\n      <td>31.67</td>\n      <td>38.66</td>\n      <td>SA</td>\n      <td>Golden Dune Hotel</td>\n    </tr>\n    <tr>\n      <th>118</th>\n      <td>buraydah</td>\n      <td>26.33</td>\n      <td>43.98</td>\n      <td>SA</td>\n      <td>Mövenpick Hotel Qassim</td>\n    </tr>\n    <tr>\n      <th>139</th>\n      <td>morondava</td>\n      <td>-20.28</td>\n      <td>44.28</td>\n      <td>MG</td>\n      <td>Palissandre Cote Ouest resort &amp; SPA</td>\n    </tr>\n    <tr>\n      <th>147</th>\n      <td>ambilobe</td>\n      <td>-13.20</td>\n      <td>49.05</td>\n      <td>MG</td>\n      <td>Hotel National</td>\n    </tr>\n    <tr>\n      <th>148</th>\n      <td>bushehr</td>\n      <td>28.97</td>\n      <td>50.84</td>\n      <td>IR</td>\n      <td>Sky 2 hotel</td>\n    </tr>\n    <tr>\n      <th>169</th>\n      <td>nouadhibou</td>\n      <td>20.93</td>\n      <td>-17.03</td>\n      <td>MR</td>\n      <td>Free Zone Hotel Nouadhibou</td>\n    </tr>\n    <tr>\n      <th>243</th>\n      <td>enumclaw</td>\n      <td>47.20</td>\n      <td>-121.99</td>\n      <td>US</td>\n      <td>GuestHouse Enumclaw</td>\n    </tr>\n    <tr>\n      <th>276</th>\n      <td>yulara</td>\n      <td>-25.24</td>\n      <td>130.99</td>\n      <td>AU</td>\n      <td>Ayers Rock Resort</td>\n    </tr>\n    <tr>\n      <th>305</th>\n      <td>bosaso</td>\n      <td>11.28</td>\n      <td>49.18</td>\n      <td>SO</td>\n      <td>Gacayte Hotel</td>\n    </tr>\n    <tr>\n      <th>307</th>\n      <td>barra do garcas</td>\n      <td>-11.09</td>\n      <td>-43.14</td>\n      <td>BR</td>\n      <td>Hotel Barra Palace</td>\n    </tr>\n    <tr>\n      <th>360</th>\n      <td>misratah</td>\n      <td>32.38</td>\n      <td>15.09</td>\n      <td>LY</td>\n      <td>TAJ APARTMENT HOTEL</td>\n    </tr>\n    <tr>\n      <th>372</th>\n      <td>erzin</td>\n      <td>36.96</td>\n      <td>36.20</td>\n      <td>TR</td>\n      <td>Hattusa Vacation Thermal Club Erzin</td>\n    </tr>\n    <tr>\n      <th>389</th>\n      <td>geraldton</td>\n      <td>-28.77</td>\n      <td>114.60</td>\n      <td>AU</td>\n      <td>The Gerald Apartment Hotel</td>\n    </tr>\n    <tr>\n      <th>406</th>\n      <td>jalu</td>\n      <td>29.03</td>\n      <td>21.55</td>\n      <td>LY</td>\n      <td>Jalu Hotel</td>\n    </tr>\n    <tr>\n      <th>413</th>\n      <td>bardiyah</td>\n      <td>31.76</td>\n      <td>25.09</td>\n      <td>LY</td>\n      <td>Hotel Burdy</td>\n    </tr>\n    <tr>\n      <th>450</th>\n      <td>banda aceh</td>\n      <td>25.48</td>\n      <td>80.33</td>\n      <td>IN</td>\n      <td>Hotel Sarang Intercontinental</td>\n    </tr>\n    <tr>\n      <th>507</th>\n      <td>sabha</td>\n      <td>27.04</td>\n      <td>14.43</td>\n      <td>LY</td>\n      <td>فندق علي</td>\n    </tr>\n    <tr>\n      <th>509</th>\n      <td>jais</td>\n      <td>26.25</td>\n      <td>81.53</td>\n      <td>IN</td>\n      <td>Mushtaq Lawn</td>\n    </tr>\n  </tbody>\n</table>\n</div>"
     },
     "metadata": {},
     "execution_count": 9
    }
   ],
   "source": [
    "# Results of the Hotel Search\n",
    "hotel_df"
   ]
  },
  {
   "cell_type": "code",
   "execution_count": 10,
   "metadata": {},
   "outputs": [],
   "source": [
    "# NOTE: Do not change any of the code in this cell\n",
    "\n",
    "# Using the template add the hotel marks to the heatmap\n",
    "info_box_template = \"\"\"\n",
    "<dl>\n",
    "<dt>Name</dt><dd>{Hotel Name}</dd>\n",
    "<dt>City</dt><dd>{City}</dd>\n",
    "<dt>Country</dt><dd>{Country}</dd>\n",
    "</dl>\n",
    "\"\"\"\n",
    "# Store the DataFrame Row\n",
    "# NOTE: be sure to update with your DataFrame name\n",
    "hotel_info = [info_box_template.format(**row) for index, row in hotel_df.iterrows()]\n",
    "locations = hotel_df[[\"Lattitude\", \"Longitude\"]]"
   ]
  },
  {
   "cell_type": "code",
   "execution_count": 11,
   "metadata": {},
   "outputs": [
    {
     "output_type": "display_data",
     "data": {
      "text/plain": "Figure(layout=FigureLayout(height='420px'))",
      "application/vnd.jupyter.widget-view+json": {
       "version_major": 2,
       "version_minor": 0,
       "model_id": "9eac7dbdb03a4b91825dedd63157dbb3"
      }
     },
     "metadata": {}
    }
   ],
   "source": [
    "# Add marker layer ontop of heat map\n",
    "hotel_marker = gmaps.marker_layer(locations, info_box_content=hotel_info)\n",
    "\n",
    "# We will add the new layer to the previous humidity heatmap\n",
    "fig.add_layer(hotel_marker)\n",
    "\n",
    "# Display figure\n",
    "fig"
   ]
  },
  {
   "cell_type": "code",
   "execution_count": null,
   "metadata": {},
   "outputs": [],
   "source": []
  }
 ],
 "metadata": {
  "kernelspec": {
   "name": "python_defaultSpec_1601430753178",
   "display_name": "Python 3.6.12 64-bit ('apiproject': conda)",
   "metadata": {
    "interpreter": {
     "hash": "6858991ae45970477c979e20bd003b285324046a59fb015a65b3ffb3c3b75fd3"
    }
   }
  },
  "language_info": {
   "codemirror_mode": {
    "name": "ipython",
    "version": 3
   },
   "file_extension": ".py",
   "mimetype": "text/x-python",
   "name": "python",
   "nbconvert_exporter": "python",
   "pygments_lexer": "ipython3",
   "version": "3.6.12-final"
  },
  "latex_envs": {
   "LaTeX_envs_menu_present": true,
   "autoclose": false,
   "autocomplete": true,
   "bibliofile": "biblio.bib",
   "cite_by": "apalike",
   "current_citInitial": 1,
   "eqLabelWithNumbers": true,
   "eqNumInitial": 1,
   "hotkeys": {
    "equation": "Ctrl-E",
    "itemize": "Ctrl-I"
   },
   "labels_anchors": false,
   "latex_user_defs": false,
   "report_style_numbering": false,
   "user_envs_cfg": false
  }
 },
 "nbformat": 4,
 "nbformat_minor": 4
}