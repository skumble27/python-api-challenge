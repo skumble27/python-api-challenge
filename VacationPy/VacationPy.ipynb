{
 "cells": [
  {
   "cell_type": "markdown",
   "metadata": {},
   "source": [
    "# VacationPy\n",
    "----\n",
    "\n",
    "#### Note\n",
    "* Keep an eye on your API usage. Use https://developers.google.com/maps/reporting/gmp-reporting as reference for how to monitor your usage and billing.\n",
    "\n",
    "* Instructions have been included for each segment. You do not have to follow them exactly, but they are included to help you think through the steps."
   ]
  },
  {
   "cell_type": "code",
   "execution_count": 1,
   "metadata": {},
   "outputs": [],
   "source": [
    "# Dependencies and Setup\n",
    "import matplotlib.pyplot as plt\n",
    "import pandas as pd\n",
    "import numpy as np\n",
    "import requests\n",
    "import gmaps\n",
    "import os\n",
    "\n",
    "# Import API key\n",
    "from api_keys import g_key\n",
    "\n",
    "# Configure the API Key\n",
    "gmaps.configure(api_key=g_key)"
   ]
  },
  {
   "cell_type": "markdown",
   "metadata": {},
   "source": [
    "### Store Part I results into DataFrame\n",
    "* Load the csv exported in Part I to a DataFrame"
   ]
  },
  {
   "cell_type": "code",
   "execution_count": 2,
   "metadata": {},
   "outputs": [
    {
     "output_type": "execute_result",
     "data": {
      "text/plain": "        City  Lattitude  Longitude  Max Temp  Humidity  Cloudiness  \\\n0   portland      45.52    -122.68     20.00        84           0   \n1     hobart     -42.88     147.33     15.00        38          75   \n2    chapais      49.78     -74.85      7.00       100          90   \n3  kavarskas      55.43      24.92      9.16        74         100   \n4  fairbanks      64.84    -147.72     13.00        43           1   \n\n   Wind Speed Country        Date  \n0        1.18      US  1601529367  \n1        4.60      AU  1601529298  \n2        2.10      CA  1601529581  \n3        4.92      LT  1601529581  \n4        3.10      US  1601529313  ",
      "text/html": "<div>\n<style scoped>\n    .dataframe tbody tr th:only-of-type {\n        vertical-align: middle;\n    }\n\n    .dataframe tbody tr th {\n        vertical-align: top;\n    }\n\n    .dataframe thead th {\n        text-align: right;\n    }\n</style>\n<table border=\"1\" class=\"dataframe\">\n  <thead>\n    <tr style=\"text-align: right;\">\n      <th></th>\n      <th>City</th>\n      <th>Lattitude</th>\n      <th>Longitude</th>\n      <th>Max Temp</th>\n      <th>Humidity</th>\n      <th>Cloudiness</th>\n      <th>Wind Speed</th>\n      <th>Country</th>\n      <th>Date</th>\n    </tr>\n  </thead>\n  <tbody>\n    <tr>\n      <th>0</th>\n      <td>portland</td>\n      <td>45.52</td>\n      <td>-122.68</td>\n      <td>20.00</td>\n      <td>84</td>\n      <td>0</td>\n      <td>1.18</td>\n      <td>US</td>\n      <td>1601529367</td>\n    </tr>\n    <tr>\n      <th>1</th>\n      <td>hobart</td>\n      <td>-42.88</td>\n      <td>147.33</td>\n      <td>15.00</td>\n      <td>38</td>\n      <td>75</td>\n      <td>4.60</td>\n      <td>AU</td>\n      <td>1601529298</td>\n    </tr>\n    <tr>\n      <th>2</th>\n      <td>chapais</td>\n      <td>49.78</td>\n      <td>-74.85</td>\n      <td>7.00</td>\n      <td>100</td>\n      <td>90</td>\n      <td>2.10</td>\n      <td>CA</td>\n      <td>1601529581</td>\n    </tr>\n    <tr>\n      <th>3</th>\n      <td>kavarskas</td>\n      <td>55.43</td>\n      <td>24.92</td>\n      <td>9.16</td>\n      <td>74</td>\n      <td>100</td>\n      <td>4.92</td>\n      <td>LT</td>\n      <td>1601529581</td>\n    </tr>\n    <tr>\n      <th>4</th>\n      <td>fairbanks</td>\n      <td>64.84</td>\n      <td>-147.72</td>\n      <td>13.00</td>\n      <td>43</td>\n      <td>1</td>\n      <td>3.10</td>\n      <td>US</td>\n      <td>1601529313</td>\n    </tr>\n  </tbody>\n</table>\n</div>"
     },
     "metadata": {},
     "execution_count": 2
    }
   ],
   "source": [
    "weather_df = pd.read_csv('..\\Output_Data\\Weather_Data_Collection.csv')\n",
    "weather_df = weather_df.drop(columns={'Unnamed: 0'})\n",
    "weather_df.head()\n",
    "\n"
   ]
  },
  {
   "cell_type": "markdown",
   "metadata": {},
   "source": [
    "### Humidity Heatmap\n",
    "* Configure gmaps.\n",
    "* Use the Lat and Lng as locations and Humidity as the weight.\n",
    "* Add Heatmap layer to map."
   ]
  },
  {
   "cell_type": "code",
   "execution_count": 3,
   "metadata": {},
   "outputs": [
    {
     "output_type": "execute_result",
     "data": {
      "text/plain": "   Lattitude  Longitude\n0      45.52    -122.68\n1     -42.88     147.33\n2      49.78     -74.85\n3      55.43      24.92\n4      64.84    -147.72",
      "text/html": "<div>\n<style scoped>\n    .dataframe tbody tr th:only-of-type {\n        vertical-align: middle;\n    }\n\n    .dataframe tbody tr th {\n        vertical-align: top;\n    }\n\n    .dataframe thead th {\n        text-align: right;\n    }\n</style>\n<table border=\"1\" class=\"dataframe\">\n  <thead>\n    <tr style=\"text-align: right;\">\n      <th></th>\n      <th>Lattitude</th>\n      <th>Longitude</th>\n    </tr>\n  </thead>\n  <tbody>\n    <tr>\n      <th>0</th>\n      <td>45.52</td>\n      <td>-122.68</td>\n    </tr>\n    <tr>\n      <th>1</th>\n      <td>-42.88</td>\n      <td>147.33</td>\n    </tr>\n    <tr>\n      <th>2</th>\n      <td>49.78</td>\n      <td>-74.85</td>\n    </tr>\n    <tr>\n      <th>3</th>\n      <td>55.43</td>\n      <td>24.92</td>\n    </tr>\n    <tr>\n      <th>4</th>\n      <td>64.84</td>\n      <td>-147.72</td>\n    </tr>\n  </tbody>\n</table>\n</div>"
     },
     "metadata": {},
     "execution_count": 3
    }
   ],
   "source": [
    "# Obtaining the Coordinates to plot on the map\n",
    "city_locations = weather_df[['Lattitude','Longitude']].astype(float)\n",
    "city_locations.head()"
   ]
  },
  {
   "cell_type": "code",
   "execution_count": 4,
   "metadata": {},
   "outputs": [
    {
     "output_type": "execute_result",
     "data": {
      "text/plain": "0     84\n1     38\n2    100\n3     74\n4     43\nName: Humidity, dtype: int64"
     },
     "metadata": {},
     "execution_count": 4
    }
   ],
   "source": [
    "# Humidity values\n",
    "humidity_data = weather_df['Humidity']\n",
    "humidity_data.head()"
   ]
  },
  {
   "cell_type": "code",
   "execution_count": 5,
   "metadata": {},
   "outputs": [
    {
     "output_type": "display_data",
     "data": {
      "text/plain": "Figure(layout=FigureLayout(height=&#39;420px&#39;))",
      "application/vnd.jupyter.widget-view+json": {
       "version_major": 2,
       "version_minor": 0,
       "model_id": "12b0f8d23d304c08b1f3960b707f99af"
      }
     },
     "metadata": {}
    }
   ],
   "source": [
    "# Creating a Humidity Heatmap Layer\n",
    "fig = gmaps.figure()\n",
    "\n",
    "humidity_layer = gmaps.heatmap_layer(city_locations, weights=humidity_data, dissipating=False, max_intensity=100, point_radius=2)\n",
    "\n",
    "fig.add_layer(humidity_layer)\n",
    "\n",
    "fig\n",
    "\n"
   ]
  },
  {
   "cell_type": "code",
   "execution_count": null,
   "metadata": {},
   "outputs": [],
   "source": []
  },
  {
   "cell_type": "markdown",
   "metadata": {},
   "source": [
    "### Create new DataFrame fitting weather criteria\n",
    "* Narrow down the cities to fit weather conditions.\n",
    "* Drop any rows will null values."
   ]
  },
  {
   "cell_type": "code",
   "execution_count": 6,
   "metadata": {
    "tags": []
   },
   "outputs": [
    {
     "output_type": "stream",
     "name": "stdout",
     "text": " The Number of Ideal Cities within the ideal weather criteria are 18\n"
    },
    {
     "output_type": "execute_result",
     "data": {
      "text/plain": "           City  Lattitude  Longitude  Max Temp  Humidity  Cloudiness  \\\n0      portland      45.52    -122.68     20.00        84           0   \n78    caravelas     -17.71     -39.25     21.99        91           0   \n99    carnarvon     -24.87     113.63     23.00        64           0   \n103   morondava     -20.28      44.28     26.53        55           0   \n112        elat      29.56      34.95     27.00        61           0   \n128       jumla      29.27      82.18     23.30        34           0   \n145     sonoita      31.85    -112.83     28.89        15           0   \n235     mareeba     -17.00     145.43     29.44        48           0   \n338    flinders     -34.58     150.86     24.44        35           0   \n351  abu samrah      24.60      72.70     24.82        61           0   \n354       kiama     -34.68     150.87     24.44        68           0   \n394       bowen     -20.02     148.23     28.00        34           0   \n422        aden      12.78      45.04     29.84        70           0   \n464      sonqor      34.78      47.60     21.00        46           0   \n499       abyek      36.07      50.55     20.00        31           0   \n501      agadez      19.75      10.25     26.05        17           0   \n537    castanos      26.78    -101.42     22.22        29           0   \n541       matay      28.42      30.78     24.06        70           0   \n\n     Wind Speed Country        Date  \n0          1.18      US  1601529367  \n78         2.25      BR  1601529628  \n99         9.30      AU  1601529417  \n103        1.24      MG  1601529642  \n112        5.10      IL  1601529557  \n128        2.07      NP  1601529657  \n145        1.55      MX  1601529667  \n235        6.70      AU  1601529723  \n338        3.58      AU  1601529789  \n351        2.47      IN  1601529797  \n354        1.34      AU  1601529799  \n394        6.20      AU  1601529824  \n422        5.42      YE  1601529785  \n464        4.10      IR  1601529868  \n499        2.10      IR  1601529890  \n501        4.44      NE  1601529891  \n537        1.34      MX  1601529916  \n541        6.30      EG  1601529919  ",
      "text/html": "<div>\n<style scoped>\n    .dataframe tbody tr th:only-of-type {\n        vertical-align: middle;\n    }\n\n    .dataframe tbody tr th {\n        vertical-align: top;\n    }\n\n    .dataframe thead th {\n        text-align: right;\n    }\n</style>\n<table border=\"1\" class=\"dataframe\">\n  <thead>\n    <tr style=\"text-align: right;\">\n      <th></th>\n      <th>City</th>\n      <th>Lattitude</th>\n      <th>Longitude</th>\n      <th>Max Temp</th>\n      <th>Humidity</th>\n      <th>Cloudiness</th>\n      <th>Wind Speed</th>\n      <th>Country</th>\n      <th>Date</th>\n    </tr>\n  </thead>\n  <tbody>\n    <tr>\n      <th>0</th>\n      <td>portland</td>\n      <td>45.52</td>\n      <td>-122.68</td>\n      <td>20.00</td>\n      <td>84</td>\n      <td>0</td>\n      <td>1.18</td>\n      <td>US</td>\n      <td>1601529367</td>\n    </tr>\n    <tr>\n      <th>78</th>\n      <td>caravelas</td>\n      <td>-17.71</td>\n      <td>-39.25</td>\n      <td>21.99</td>\n      <td>91</td>\n      <td>0</td>\n      <td>2.25</td>\n      <td>BR</td>\n      <td>1601529628</td>\n    </tr>\n    <tr>\n      <th>99</th>\n      <td>carnarvon</td>\n      <td>-24.87</td>\n      <td>113.63</td>\n      <td>23.00</td>\n      <td>64</td>\n      <td>0</td>\n      <td>9.30</td>\n      <td>AU</td>\n      <td>1601529417</td>\n    </tr>\n    <tr>\n      <th>103</th>\n      <td>morondava</td>\n      <td>-20.28</td>\n      <td>44.28</td>\n      <td>26.53</td>\n      <td>55</td>\n      <td>0</td>\n      <td>1.24</td>\n      <td>MG</td>\n      <td>1601529642</td>\n    </tr>\n    <tr>\n      <th>112</th>\n      <td>elat</td>\n      <td>29.56</td>\n      <td>34.95</td>\n      <td>27.00</td>\n      <td>61</td>\n      <td>0</td>\n      <td>5.10</td>\n      <td>IL</td>\n      <td>1601529557</td>\n    </tr>\n    <tr>\n      <th>128</th>\n      <td>jumla</td>\n      <td>29.27</td>\n      <td>82.18</td>\n      <td>23.30</td>\n      <td>34</td>\n      <td>0</td>\n      <td>2.07</td>\n      <td>NP</td>\n      <td>1601529657</td>\n    </tr>\n    <tr>\n      <th>145</th>\n      <td>sonoita</td>\n      <td>31.85</td>\n      <td>-112.83</td>\n      <td>28.89</td>\n      <td>15</td>\n      <td>0</td>\n      <td>1.55</td>\n      <td>MX</td>\n      <td>1601529667</td>\n    </tr>\n    <tr>\n      <th>235</th>\n      <td>mareeba</td>\n      <td>-17.00</td>\n      <td>145.43</td>\n      <td>29.44</td>\n      <td>48</td>\n      <td>0</td>\n      <td>6.70</td>\n      <td>AU</td>\n      <td>1601529723</td>\n    </tr>\n    <tr>\n      <th>338</th>\n      <td>flinders</td>\n      <td>-34.58</td>\n      <td>150.86</td>\n      <td>24.44</td>\n      <td>35</td>\n      <td>0</td>\n      <td>3.58</td>\n      <td>AU</td>\n      <td>1601529789</td>\n    </tr>\n    <tr>\n      <th>351</th>\n      <td>abu samrah</td>\n      <td>24.60</td>\n      <td>72.70</td>\n      <td>24.82</td>\n      <td>61</td>\n      <td>0</td>\n      <td>2.47</td>\n      <td>IN</td>\n      <td>1601529797</td>\n    </tr>\n    <tr>\n      <th>354</th>\n      <td>kiama</td>\n      <td>-34.68</td>\n      <td>150.87</td>\n      <td>24.44</td>\n      <td>68</td>\n      <td>0</td>\n      <td>1.34</td>\n      <td>AU</td>\n      <td>1601529799</td>\n    </tr>\n    <tr>\n      <th>394</th>\n      <td>bowen</td>\n      <td>-20.02</td>\n      <td>148.23</td>\n      <td>28.00</td>\n      <td>34</td>\n      <td>0</td>\n      <td>6.20</td>\n      <td>AU</td>\n      <td>1601529824</td>\n    </tr>\n    <tr>\n      <th>422</th>\n      <td>aden</td>\n      <td>12.78</td>\n      <td>45.04</td>\n      <td>29.84</td>\n      <td>70</td>\n      <td>0</td>\n      <td>5.42</td>\n      <td>YE</td>\n      <td>1601529785</td>\n    </tr>\n    <tr>\n      <th>464</th>\n      <td>sonqor</td>\n      <td>34.78</td>\n      <td>47.60</td>\n      <td>21.00</td>\n      <td>46</td>\n      <td>0</td>\n      <td>4.10</td>\n      <td>IR</td>\n      <td>1601529868</td>\n    </tr>\n    <tr>\n      <th>499</th>\n      <td>abyek</td>\n      <td>36.07</td>\n      <td>50.55</td>\n      <td>20.00</td>\n      <td>31</td>\n      <td>0</td>\n      <td>2.10</td>\n      <td>IR</td>\n      <td>1601529890</td>\n    </tr>\n    <tr>\n      <th>501</th>\n      <td>agadez</td>\n      <td>19.75</td>\n      <td>10.25</td>\n      <td>26.05</td>\n      <td>17</td>\n      <td>0</td>\n      <td>4.44</td>\n      <td>NE</td>\n      <td>1601529891</td>\n    </tr>\n    <tr>\n      <th>537</th>\n      <td>castanos</td>\n      <td>26.78</td>\n      <td>-101.42</td>\n      <td>22.22</td>\n      <td>29</td>\n      <td>0</td>\n      <td>1.34</td>\n      <td>MX</td>\n      <td>1601529916</td>\n    </tr>\n    <tr>\n      <th>541</th>\n      <td>matay</td>\n      <td>28.42</td>\n      <td>30.78</td>\n      <td>24.06</td>\n      <td>70</td>\n      <td>0</td>\n      <td>6.30</td>\n      <td>EG</td>\n      <td>1601529919</td>\n    </tr>\n  </tbody>\n</table>\n</div>"
     },
     "metadata": {},
     "execution_count": 6
    }
   ],
   "source": [
    "# The most ideal vacations involve destinations with minimal cloud cover as well as having temperatures within the range of 20-30 degrees celcius. As such, there datframe will be narrowed down further in order to find hotels within these regions that have the ideal weather. \n",
    "\n",
    "ideal_weather_df = weather_df.loc[\n",
    "    (weather_df['Cloudiness']==0) & \n",
    "    (weather_df['Wind Speed'] <= 10) & \n",
    "    (weather_df['Max Temp'] >= 20) &\n",
    "    (weather_df['Max Temp'] <= 30)].dropna()\n",
    "\n",
    "print(f' The Number of Ideal Cities within the ideal weather criteria are {len(ideal_weather_df)}')\n",
    "ideal_weather_df\n"
   ]
  },
  {
   "cell_type": "markdown",
   "metadata": {},
   "source": [
    "### Hotel Map\n",
    "* Store into variable named `hotel_df`.\n",
    "* Add a \"Hotel Name\" column to the DataFrame.\n",
    "* Set parameters to search for hotels with 5000 meters.\n",
    "* Hit the Google Places API for each city's coordinates.\n",
    "* Store the first Hotel result into the DataFrame.\n",
    "* Plot markers on top of the heatmap."
   ]
  },
  {
   "cell_type": "code",
   "execution_count": 7,
   "metadata": {},
   "outputs": [
    {
     "output_type": "execute_result",
     "data": {
      "text/plain": "           City  Lattitude  Longitude Country Hotel Name\n0      portland      45.52    -122.68      US           \n78    caravelas     -17.71     -39.25      BR           \n99    carnarvon     -24.87     113.63      AU           \n103   morondava     -20.28      44.28      MG           \n112        elat      29.56      34.95      IL           \n128       jumla      29.27      82.18      NP           \n145     sonoita      31.85    -112.83      MX           \n235     mareeba     -17.00     145.43      AU           \n338    flinders     -34.58     150.86      AU           \n351  abu samrah      24.60      72.70      IN           \n354       kiama     -34.68     150.87      AU           \n394       bowen     -20.02     148.23      AU           \n422        aden      12.78      45.04      YE           \n464      sonqor      34.78      47.60      IR           \n499       abyek      36.07      50.55      IR           \n501      agadez      19.75      10.25      NE           \n537    castanos      26.78    -101.42      MX           \n541       matay      28.42      30.78      EG           ",
      "text/html": "<div>\n<style scoped>\n    .dataframe tbody tr th:only-of-type {\n        vertical-align: middle;\n    }\n\n    .dataframe tbody tr th {\n        vertical-align: top;\n    }\n\n    .dataframe thead th {\n        text-align: right;\n    }\n</style>\n<table border=\"1\" class=\"dataframe\">\n  <thead>\n    <tr style=\"text-align: right;\">\n      <th></th>\n      <th>City</th>\n      <th>Lattitude</th>\n      <th>Longitude</th>\n      <th>Country</th>\n      <th>Hotel Name</th>\n    </tr>\n  </thead>\n  <tbody>\n    <tr>\n      <th>0</th>\n      <td>portland</td>\n      <td>45.52</td>\n      <td>-122.68</td>\n      <td>US</td>\n      <td></td>\n    </tr>\n    <tr>\n      <th>78</th>\n      <td>caravelas</td>\n      <td>-17.71</td>\n      <td>-39.25</td>\n      <td>BR</td>\n      <td></td>\n    </tr>\n    <tr>\n      <th>99</th>\n      <td>carnarvon</td>\n      <td>-24.87</td>\n      <td>113.63</td>\n      <td>AU</td>\n      <td></td>\n    </tr>\n    <tr>\n      <th>103</th>\n      <td>morondava</td>\n      <td>-20.28</td>\n      <td>44.28</td>\n      <td>MG</td>\n      <td></td>\n    </tr>\n    <tr>\n      <th>112</th>\n      <td>elat</td>\n      <td>29.56</td>\n      <td>34.95</td>\n      <td>IL</td>\n      <td></td>\n    </tr>\n    <tr>\n      <th>128</th>\n      <td>jumla</td>\n      <td>29.27</td>\n      <td>82.18</td>\n      <td>NP</td>\n      <td></td>\n    </tr>\n    <tr>\n      <th>145</th>\n      <td>sonoita</td>\n      <td>31.85</td>\n      <td>-112.83</td>\n      <td>MX</td>\n      <td></td>\n    </tr>\n    <tr>\n      <th>235</th>\n      <td>mareeba</td>\n      <td>-17.00</td>\n      <td>145.43</td>\n      <td>AU</td>\n      <td></td>\n    </tr>\n    <tr>\n      <th>338</th>\n      <td>flinders</td>\n      <td>-34.58</td>\n      <td>150.86</td>\n      <td>AU</td>\n      <td></td>\n    </tr>\n    <tr>\n      <th>351</th>\n      <td>abu samrah</td>\n      <td>24.60</td>\n      <td>72.70</td>\n      <td>IN</td>\n      <td></td>\n    </tr>\n    <tr>\n      <th>354</th>\n      <td>kiama</td>\n      <td>-34.68</td>\n      <td>150.87</td>\n      <td>AU</td>\n      <td></td>\n    </tr>\n    <tr>\n      <th>394</th>\n      <td>bowen</td>\n      <td>-20.02</td>\n      <td>148.23</td>\n      <td>AU</td>\n      <td></td>\n    </tr>\n    <tr>\n      <th>422</th>\n      <td>aden</td>\n      <td>12.78</td>\n      <td>45.04</td>\n      <td>YE</td>\n      <td></td>\n    </tr>\n    <tr>\n      <th>464</th>\n      <td>sonqor</td>\n      <td>34.78</td>\n      <td>47.60</td>\n      <td>IR</td>\n      <td></td>\n    </tr>\n    <tr>\n      <th>499</th>\n      <td>abyek</td>\n      <td>36.07</td>\n      <td>50.55</td>\n      <td>IR</td>\n      <td></td>\n    </tr>\n    <tr>\n      <th>501</th>\n      <td>agadez</td>\n      <td>19.75</td>\n      <td>10.25</td>\n      <td>NE</td>\n      <td></td>\n    </tr>\n    <tr>\n      <th>537</th>\n      <td>castanos</td>\n      <td>26.78</td>\n      <td>-101.42</td>\n      <td>MX</td>\n      <td></td>\n    </tr>\n    <tr>\n      <th>541</th>\n      <td>matay</td>\n      <td>28.42</td>\n      <td>30.78</td>\n      <td>EG</td>\n      <td></td>\n    </tr>\n  </tbody>\n</table>\n</div>"
     },
     "metadata": {},
     "execution_count": 7
    }
   ],
   "source": [
    "# Creating a New Hotel DataFram\n",
    "hotel_df = ideal_weather_df.copy().drop(columns={'Date', 'Wind Speed','Max Temp','Humidity','Cloudiness'})\n",
    "\n",
    "hotel_df['Hotel Name'] = \"\"\n",
    "\n",
    "hotel_df\n"
   ]
  },
  {
   "cell_type": "code",
   "execution_count": 8,
   "metadata": {
    "tags": []
   },
   "outputs": [
    {
     "output_type": "stream",
     "name": "stdout",
     "text": "Data retrival in progress\nFinding nearest hotel for portland\n--------------------------\nFinding nearest hotel for caravelas\n--------------------------\nFinding nearest hotel for carnarvon\n--------------------------\nFinding nearest hotel for morondava\n--------------------------\nFinding nearest hotel for elat\n--------------------------\nFinding nearest hotel for jumla\n--------------------------\nFinding nearest hotel for sonoita\n--------------------------\nFinding nearest hotel for mareeba\n--------------------------\nFinding nearest hotel for flinders\n--------------------------\nFinding nearest hotel for abu samrah\n--------------------------\nFinding nearest hotel for kiama\n--------------------------\nFinding nearest hotel for bowen\n--------------------------\nFinding nearest hotel for aden\n--------------------------\nFinding nearest hotel for sonqor\n--------------------------\nFinding nearest hotel for abyek\n--------------------------\nFinding nearest hotel for agadez\n--------------------------\nThere are no Hotels for agadez, moving on to the next city....\n\nFinding nearest hotel for castanos\n--------------------------\nFinding nearest hotel for matay\n--------------------------\nEnd of Data Retreival\n*********************\nRemoving cities where hotels could not be retreived\n"
    }
   ],
   "source": [
    "# Setting up the parameters to determine the closest hotels within a 5 km radium (5000 m)\n",
    "\n",
    "base_url = \"https://maps.googleapis.com/maps/api/place/nearbysearch/json\"\n",
    "\n",
    "# Setting up the search parameters\n",
    "params = {\n",
    "    'type':'hotel',\n",
    "    'keyword': 'hotel',\n",
    "    'radius': 5000,\n",
    "    'key': g_key\n",
    "}\n",
    "\n",
    "# We will be itterating through the rows in order to hotels within the defined radius of the coordinates of each city\n",
    "print(f'Data retrival in progress')\n",
    "for index, row in hotel_df.iterrows():\n",
    "    latitude = row['Lattitude']\n",
    "    longitude = row['Longitude']\n",
    "    city = row['City']\n",
    "\n",
    "    # Now that the latitude and longitude has been defined, these need to be added to the dictionary\n",
    "\n",
    "    params['location'] = f'{latitude},{longitude}'\n",
    "\n",
    "    \n",
    "    response = requests.get(base_url, params=params).json()\n",
    "\n",
    "    search_results = response['results']\n",
    "\n",
    "    try:\n",
    "        print(f'Finding nearest hotel for {city}\\n--------------------------')\n",
    "        hotel_df.loc[index, 'Hotel Name'] = search_results[0]['name']\n",
    "    \n",
    "    except (KeyError, IndexError):\n",
    "        print(f'There are no Hotels for {city}, moving on to the next city....\\n')\n",
    "\n",
    "\n",
    "print('End of Data Retreival\\n*********************')\n",
    "print(f'Removing cities where hotels could not be retreived')\n",
    "hotel_df = hotel_df[hotel_df['Hotel Name']!=\"\"]\n",
    "\n",
    "\n"
   ]
  },
  {
   "cell_type": "code",
   "execution_count": 9,
   "metadata": {},
   "outputs": [
    {
     "output_type": "execute_result",
     "data": {
      "text/plain": "           City  Lattitude  Longitude Country  \\\n0      portland      45.52    -122.68      US   \n78    caravelas     -17.71     -39.25      BR   \n99    carnarvon     -24.87     113.63      AU   \n103   morondava     -20.28      44.28      MG   \n112        elat      29.56      34.95      IL   \n128       jumla      29.27      82.18      NP   \n145     sonoita      31.85    -112.83      MX   \n235     mareeba     -17.00     145.43      AU   \n338    flinders     -34.58     150.86      AU   \n351  abu samrah      24.60      72.70      IN   \n354       kiama     -34.68     150.87      AU   \n394       bowen     -20.02     148.23      AU   \n422        aden      12.78      45.04      YE   \n464      sonqor      34.78      47.60      IR   \n499       abyek      36.07      50.55      IR   \n537    castanos      26.78    -101.42      MX   \n541       matay      28.42      30.78      EG   \n\n                                            Hotel Name  \n0                             Kimpton RiverPlace Hotel  \n78                                Mar Doce de Abrolhos  \n99                                     Carnarvon Motel  \n103                Palissandre Cote Ouest resort &amp; SPA  \n112  Al Manara, a Luxury Collection Hotel, Saraya A...  \n128                                     Shrestha Hotel  \n145                                    Hotel Excelsior  \n235         Taj on Byrnes Mareeba Luxury Accommodation  \n338                               Lakeview Hotel Motel  \n351                                 Sterling Mount Abu  \n354                        The Sebel Kiama Harbourside  \n394                            Whitsunday Sands Resort  \n422                                   Coral Hotel Aden  \n464                                      هتل تالار نور  \n499                                          کاخ بهروز  \n537                                              Motel  \n541                                         Nag Aespen  ",
      "text/html": "<div>\n<style scoped>\n    .dataframe tbody tr th:only-of-type {\n        vertical-align: middle;\n    }\n\n    .dataframe tbody tr th {\n        vertical-align: top;\n    }\n\n    .dataframe thead th {\n        text-align: right;\n    }\n</style>\n<table border=\"1\" class=\"dataframe\">\n  <thead>\n    <tr style=\"text-align: right;\">\n      <th></th>\n      <th>City</th>\n      <th>Lattitude</th>\n      <th>Longitude</th>\n      <th>Country</th>\n      <th>Hotel Name</th>\n    </tr>\n  </thead>\n  <tbody>\n    <tr>\n      <th>0</th>\n      <td>portland</td>\n      <td>45.52</td>\n      <td>-122.68</td>\n      <td>US</td>\n      <td>Kimpton RiverPlace Hotel</td>\n    </tr>\n    <tr>\n      <th>78</th>\n      <td>caravelas</td>\n      <td>-17.71</td>\n      <td>-39.25</td>\n      <td>BR</td>\n      <td>Mar Doce de Abrolhos</td>\n    </tr>\n    <tr>\n      <th>99</th>\n      <td>carnarvon</td>\n      <td>-24.87</td>\n      <td>113.63</td>\n      <td>AU</td>\n      <td>Carnarvon Motel</td>\n    </tr>\n    <tr>\n      <th>103</th>\n      <td>morondava</td>\n      <td>-20.28</td>\n      <td>44.28</td>\n      <td>MG</td>\n      <td>Palissandre Cote Ouest resort &amp; SPA</td>\n    </tr>\n    <tr>\n      <th>112</th>\n      <td>elat</td>\n      <td>29.56</td>\n      <td>34.95</td>\n      <td>IL</td>\n      <td>Al Manara, a Luxury Collection Hotel, Saraya A...</td>\n    </tr>\n    <tr>\n      <th>128</th>\n      <td>jumla</td>\n      <td>29.27</td>\n      <td>82.18</td>\n      <td>NP</td>\n      <td>Shrestha Hotel</td>\n    </tr>\n    <tr>\n      <th>145</th>\n      <td>sonoita</td>\n      <td>31.85</td>\n      <td>-112.83</td>\n      <td>MX</td>\n      <td>Hotel Excelsior</td>\n    </tr>\n    <tr>\n      <th>235</th>\n      <td>mareeba</td>\n      <td>-17.00</td>\n      <td>145.43</td>\n      <td>AU</td>\n      <td>Taj on Byrnes Mareeba Luxury Accommodation</td>\n    </tr>\n    <tr>\n      <th>338</th>\n      <td>flinders</td>\n      <td>-34.58</td>\n      <td>150.86</td>\n      <td>AU</td>\n      <td>Lakeview Hotel Motel</td>\n    </tr>\n    <tr>\n      <th>351</th>\n      <td>abu samrah</td>\n      <td>24.60</td>\n      <td>72.70</td>\n      <td>IN</td>\n      <td>Sterling Mount Abu</td>\n    </tr>\n    <tr>\n      <th>354</th>\n      <td>kiama</td>\n      <td>-34.68</td>\n      <td>150.87</td>\n      <td>AU</td>\n      <td>The Sebel Kiama Harbourside</td>\n    </tr>\n    <tr>\n      <th>394</th>\n      <td>bowen</td>\n      <td>-20.02</td>\n      <td>148.23</td>\n      <td>AU</td>\n      <td>Whitsunday Sands Resort</td>\n    </tr>\n    <tr>\n      <th>422</th>\n      <td>aden</td>\n      <td>12.78</td>\n      <td>45.04</td>\n      <td>YE</td>\n      <td>Coral Hotel Aden</td>\n    </tr>\n    <tr>\n      <th>464</th>\n      <td>sonqor</td>\n      <td>34.78</td>\n      <td>47.60</td>\n      <td>IR</td>\n      <td>هتل تالار نور</td>\n    </tr>\n    <tr>\n      <th>499</th>\n      <td>abyek</td>\n      <td>36.07</td>\n      <td>50.55</td>\n      <td>IR</td>\n      <td>کاخ بهروز</td>\n    </tr>\n    <tr>\n      <th>537</th>\n      <td>castanos</td>\n      <td>26.78</td>\n      <td>-101.42</td>\n      <td>MX</td>\n      <td>Motel</td>\n    </tr>\n    <tr>\n      <th>541</th>\n      <td>matay</td>\n      <td>28.42</td>\n      <td>30.78</td>\n      <td>EG</td>\n      <td>Nag Aespen</td>\n    </tr>\n  </tbody>\n</table>\n</div>"
     },
     "metadata": {},
     "execution_count": 9
    }
   ],
   "source": [
    "# Results of the Hotel Search\n",
    "hotel_df"
   ]
  },
  {
   "cell_type": "code",
   "execution_count": 10,
   "metadata": {},
   "outputs": [],
   "source": [
    "# NOTE: Do not change any of the code in this cell\n",
    "\n",
    "# Using the template add the hotel marks to the heatmap\n",
    "info_box_template = \"\"\"\n",
    "<dl>\n",
    "<dt>Name</dt><dd>{Hotel Name}</dd>\n",
    "<dt>City</dt><dd>{City}</dd>\n",
    "<dt>Country</dt><dd>{Country}</dd>\n",
    "</dl>\n",
    "\"\"\"\n",
    "# Store the DataFrame Row\n",
    "# NOTE: be sure to update with your DataFrame name\n",
    "hotel_info = [info_box_template.format(**row) for index, row in hotel_df.iterrows()]\n",
    "locations = hotel_df[[\"Lattitude\", \"Longitude\"]]"
   ]
  },
  {
   "cell_type": "code",
   "execution_count": 11,
   "metadata": {},
   "outputs": [
    {
     "output_type": "display_data",
     "data": {
      "text/plain": "Figure(layout=FigureLayout(height=&#39;420px&#39;))",
      "application/vnd.jupyter.widget-view+json": {
       "version_major": 2,
       "version_minor": 0,
       "model_id": "12b0f8d23d304c08b1f3960b707f99af"
      }
     },
     "metadata": {}
    }
   ],
   "source": [
    "# Add marker layer ontop of heat map\n",
    "hotel_marker = gmaps.marker_layer(locations, info_box_content=hotel_info)\n",
    "\n",
    "# We will add the new layer to the previous humidity heatmap\n",
    "fig.add_layer(hotel_marker)\n",
    "\n",
    "# Display figure\n",
    "fig"
   ]
  },
  {
   "cell_type": "code",
   "execution_count": null,
   "metadata": {},
   "outputs": [],
   "source": []
  }
 ],
 "metadata": {
  "kernelspec": {
   "name": "python_defaultSpec_1601528176850",
   "display_name": "Python 3.6.12 64-bit ('apiproject': conda)",
   "metadata": {
    "interpreter": {
     "hash": "6858991ae45970477c979e20bd003b285324046a59fb015a65b3ffb3c3b75fd3"
    }
   }
  },
  "language_info": {
   "codemirror_mode": {
    "name": "ipython",
    "version": 3
   },
   "file_extension": ".py",
   "mimetype": "text/x-python",
   "name": "python",
   "nbconvert_exporter": "python",
   "pygments_lexer": "ipython3",
   "version": "3.6.12-final"
  },
  "latex_envs": {
   "LaTeX_envs_menu_present": true,
   "autoclose": false,
   "autocomplete": true,
   "bibliofile": "biblio.bib",
   "cite_by": "apalike",
   "current_citInitial": 1,
   "eqLabelWithNumbers": true,
   "eqNumInitial": 1,
   "hotkeys": {
    "equation": "Ctrl-E",
    "itemize": "Ctrl-I"
   },
   "labels_anchors": false,
   "latex_user_defs": false,
   "report_style_numbering": false,
   "user_envs_cfg": false
  }
 },
 "nbformat": 4,
 "nbformat_minor": 4
}