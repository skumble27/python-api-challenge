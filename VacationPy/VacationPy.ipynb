{
 "cells": [
  {
   "cell_type": "markdown",
   "metadata": {},
   "source": [
    "# VacationPy\n",
    "----\n",
    "\n",
    "#### Note\n",
    "* Keep an eye on your API usage. Use https://developers.google.com/maps/reporting/gmp-reporting as reference for how to monitor your usage and billing.\n",
    "\n",
    "* Instructions have been included for each segment. You do not have to follow them exactly, but they are included to help you think through the steps."
   ]
  },
  {
   "cell_type": "code",
   "execution_count": 1,
   "metadata": {},
   "outputs": [],
   "source": [
    "# Dependencies and Setup\n",
    "import matplotlib.pyplot as plt\n",
    "import pandas as pd\n",
    "import numpy as np\n",
    "import requests\n",
    "import gmaps\n",
    "import os\n",
    "\n",
    "# Import API key\n",
    "from api_keys import g_key\n",
    "\n",
    "# Configure the API Key\n",
    "gmaps.configure(api_key=g_key)"
   ]
  },
  {
   "cell_type": "markdown",
   "metadata": {},
   "source": [
    "### Store Part I results into DataFrame\n",
    "* Load the csv exported in Part I to a DataFrame"
   ]
  },
  {
   "cell_type": "code",
   "execution_count": 2,
   "metadata": {},
   "outputs": [
    {
     "output_type": "execute_result",
     "data": {
      "text/plain": "           City  Lattitude  Longitude  Max Temp  Humidity  Cloudiness  \\\n0    butaritari       3.07     172.79     27.30        79           0   \n1  puerto ayora      36.59      -6.23     15.00        93           3   \n2          auki      -8.77     160.70     27.89        77          31   \n3      cherskiy      68.75     161.30      6.86        61          99   \n4        noumea     -22.28     166.46     21.00        88          90   \n\n   Wind Speed Country        Date  \n0        6.66      KI  1601273230  \n1        2.60      ES  1601273231  \n2        2.76      SB  1601273232  \n3        2.85      RU  1601273232  \n4        6.20      NC  1601273233  ",
      "text/html": "<div>\n<style scoped>\n    .dataframe tbody tr th:only-of-type {\n        vertical-align: middle;\n    }\n\n    .dataframe tbody tr th {\n        vertical-align: top;\n    }\n\n    .dataframe thead th {\n        text-align: right;\n    }\n</style>\n<table border=\"1\" class=\"dataframe\">\n  <thead>\n    <tr style=\"text-align: right;\">\n      <th></th>\n      <th>City</th>\n      <th>Lattitude</th>\n      <th>Longitude</th>\n      <th>Max Temp</th>\n      <th>Humidity</th>\n      <th>Cloudiness</th>\n      <th>Wind Speed</th>\n      <th>Country</th>\n      <th>Date</th>\n    </tr>\n  </thead>\n  <tbody>\n    <tr>\n      <th>0</th>\n      <td>butaritari</td>\n      <td>3.07</td>\n      <td>172.79</td>\n      <td>27.30</td>\n      <td>79</td>\n      <td>0</td>\n      <td>6.66</td>\n      <td>KI</td>\n      <td>1601273230</td>\n    </tr>\n    <tr>\n      <th>1</th>\n      <td>puerto ayora</td>\n      <td>36.59</td>\n      <td>-6.23</td>\n      <td>15.00</td>\n      <td>93</td>\n      <td>3</td>\n      <td>2.60</td>\n      <td>ES</td>\n      <td>1601273231</td>\n    </tr>\n    <tr>\n      <th>2</th>\n      <td>auki</td>\n      <td>-8.77</td>\n      <td>160.70</td>\n      <td>27.89</td>\n      <td>77</td>\n      <td>31</td>\n      <td>2.76</td>\n      <td>SB</td>\n      <td>1601273232</td>\n    </tr>\n    <tr>\n      <th>3</th>\n      <td>cherskiy</td>\n      <td>68.75</td>\n      <td>161.30</td>\n      <td>6.86</td>\n      <td>61</td>\n      <td>99</td>\n      <td>2.85</td>\n      <td>RU</td>\n      <td>1601273232</td>\n    </tr>\n    <tr>\n      <th>4</th>\n      <td>noumea</td>\n      <td>-22.28</td>\n      <td>166.46</td>\n      <td>21.00</td>\n      <td>88</td>\n      <td>90</td>\n      <td>6.20</td>\n      <td>NC</td>\n      <td>1601273233</td>\n    </tr>\n  </tbody>\n</table>\n</div>"
     },
     "metadata": {},
     "execution_count": 2
    }
   ],
   "source": [
    "weather_df = pd.read_csv('..\\Output_Data\\Weather_Data_Collection.csv')\n",
    "weather_df = weather_df.drop(columns={'Unnamed: 0'})\n",
    "weather_df.head()\n",
    "\n"
   ]
  },
  {
   "cell_type": "markdown",
   "metadata": {},
   "source": [
    "### Humidity Heatmap\n",
    "* Configure gmaps.\n",
    "* Use the Lat and Lng as locations and Humidity as the weight.\n",
    "* Add Heatmap layer to map."
   ]
  },
  {
   "cell_type": "code",
   "execution_count": 3,
   "metadata": {},
   "outputs": [
    {
     "output_type": "execute_result",
     "data": {
      "text/plain": "   Lattitude  Longitude\n0       3.07     172.79\n1      36.59      -6.23\n2      -8.77     160.70\n3      68.75     161.30\n4     -22.28     166.46",
      "text/html": "<div>\n<style scoped>\n    .dataframe tbody tr th:only-of-type {\n        vertical-align: middle;\n    }\n\n    .dataframe tbody tr th {\n        vertical-align: top;\n    }\n\n    .dataframe thead th {\n        text-align: right;\n    }\n</style>\n<table border=\"1\" class=\"dataframe\">\n  <thead>\n    <tr style=\"text-align: right;\">\n      <th></th>\n      <th>Lattitude</th>\n      <th>Longitude</th>\n    </tr>\n  </thead>\n  <tbody>\n    <tr>\n      <th>0</th>\n      <td>3.07</td>\n      <td>172.79</td>\n    </tr>\n    <tr>\n      <th>1</th>\n      <td>36.59</td>\n      <td>-6.23</td>\n    </tr>\n    <tr>\n      <th>2</th>\n      <td>-8.77</td>\n      <td>160.70</td>\n    </tr>\n    <tr>\n      <th>3</th>\n      <td>68.75</td>\n      <td>161.30</td>\n    </tr>\n    <tr>\n      <th>4</th>\n      <td>-22.28</td>\n      <td>166.46</td>\n    </tr>\n  </tbody>\n</table>\n</div>"
     },
     "metadata": {},
     "execution_count": 3
    }
   ],
   "source": [
    "# Obtaining the Coordinates to plot on the map\n",
    "city_locations = weather_df[['Lattitude','Longitude']].astype(float)\n",
    "city_locations.head()"
   ]
  },
  {
   "cell_type": "code",
   "execution_count": 4,
   "metadata": {},
   "outputs": [
    {
     "output_type": "execute_result",
     "data": {
      "text/plain": "0    79\n1    93\n2    77\n3    61\n4    88\nName: Humidity, dtype: int64"
     },
     "metadata": {},
     "execution_count": 4
    }
   ],
   "source": [
    "# Humidity values\n",
    "humidity_data = weather_df['Humidity']\n",
    "humidity_data.head()"
   ]
  },
  {
   "cell_type": "code",
   "execution_count": 5,
   "metadata": {},
   "outputs": [
    {
     "output_type": "display_data",
     "data": {
      "text/plain": "Figure(layout=FigureLayout(height='420px'))",
      "application/vnd.jupyter.widget-view+json": {
       "version_major": 2,
       "version_minor": 0,
       "model_id": "2e914f17f7504f329acd271db2e5b546"
      }
     },
     "metadata": {}
    }
   ],
   "source": [
    "# Creating a Humidity Heatmap Layer\n",
    "fig = gmaps.figure()\n",
    "\n",
    "humidity_layer = gmaps.heatmap_layer(city_locations, weights=humidity_data, dissipating=False, max_intensity=100, point_radius=2)\n",
    "\n",
    "fig.add_layer(humidity_layer)\n",
    "\n",
    "fig\n",
    "\n"
   ]
  },
  {
   "cell_type": "code",
   "execution_count": null,
   "metadata": {},
   "outputs": [],
   "source": []
  },
  {
   "cell_type": "markdown",
   "metadata": {},
   "source": [
    "### Create new DataFrame fitting weather criteria\n",
    "* Narrow down the cities to fit weather conditions.\n",
    "* Drop any rows will null values."
   ]
  },
  {
   "cell_type": "code",
   "execution_count": 6,
   "metadata": {
    "tags": []
   },
   "outputs": [
    {
     "output_type": "stream",
     "name": "stdout",
     "text": " The Number of Ideal Cities within the ideal weather criteria are 25\n"
    },
    {
     "output_type": "execute_result",
     "data": {
      "text/plain": "              City  Lattitude  Longitude  Max Temp  Humidity  Cloudiness  \\\n0       butaritari       3.07     172.79     27.30        79           0   \n47         rikitea     -23.12    -134.97     23.63        81           0   \n80           ginda      30.69      78.49     29.00        62           0   \n93        katsuura      35.13     140.30     28.33        40           0   \n116            hun      29.13      15.95     29.25        18           0   \n142         kozluk      38.19      41.49     23.00        49           0   \n163     nouadhibou      20.93     -17.03     22.00        73           0   \n172          adrar      20.50     -10.07     28.77        22           0   \n205       kishtwar      33.32      75.77     24.32        19           0   \n238         tiznit      29.58      -9.50     20.97        50           0   \n280       castanos      26.78    -101.42     29.44        41           0   \n316          asyut      27.18      31.18     22.00        56           0   \n327      nadadores      27.05    -101.60     29.44        41           0   \n336       tessalit      20.20       1.01     26.80        16           0   \n379         awbari      26.59      12.78     27.32        16           0   \n420       bardiyah      31.76      25.09     26.88        65           0   \n457          tahta      26.77      31.50     26.00        29           0   \n461        mahabad      36.76      45.72     20.75        47           0   \n466  pervomayskoye      43.92      46.71     21.76        42           0   \n514       bocaiuva     -17.11     -43.81     21.26        37           0   \n529          tabas      33.60      56.92     27.00        15           0   \n558       buraydah      26.33      43.98     28.00        39           0   \n569            gat      31.61      34.76     30.00        72           0   \n577        sakakah      29.97      40.21     27.00        24           0   \n580         yerkoy      39.64      34.47     21.98        49           0   \n\n     Wind Speed Country        Date  \n0          6.66      KI  1601273230  \n47         4.79      PF  1601273261  \n80         2.23      IN  1601273284  \n93         2.68      JP  1601273293  \n116        0.66      LY  1601273307  \n142        2.60      TR  1601273325  \n163        9.80      MR  1601273339  \n172        2.83      MR  1601273345  \n205        1.78      IN  1601273370  \n238        0.39      MA  1601273393  \n280        0.82      MX  1601273428  \n316        5.10      EG  1601273455  \n327        1.04      MX  1601273464  \n336        1.59      ML  1601273471  \n379        5.19      LY  1601273505  \n420        4.38      LY  1601273541  \n457        3.10      EG  1601273571  \n461        3.96      IR  1601273573  \n466        9.48      RU  1601273577  \n514        0.68      BR  1601273620  \n529        2.10      IR  1601273636  \n558        2.60      SA  1601273661  \n569        0.63      IL  1601273665  \n577        1.50      SA  1601273676  \n580        1.05      TR  1601273409  ",
      "text/html": "<div>\n<style scoped>\n    .dataframe tbody tr th:only-of-type {\n        vertical-align: middle;\n    }\n\n    .dataframe tbody tr th {\n        vertical-align: top;\n    }\n\n    .dataframe thead th {\n        text-align: right;\n    }\n</style>\n<table border=\"1\" class=\"dataframe\">\n  <thead>\n    <tr style=\"text-align: right;\">\n      <th></th>\n      <th>City</th>\n      <th>Lattitude</th>\n      <th>Longitude</th>\n      <th>Max Temp</th>\n      <th>Humidity</th>\n      <th>Cloudiness</th>\n      <th>Wind Speed</th>\n      <th>Country</th>\n      <th>Date</th>\n    </tr>\n  </thead>\n  <tbody>\n    <tr>\n      <th>0</th>\n      <td>butaritari</td>\n      <td>3.07</td>\n      <td>172.79</td>\n      <td>27.30</td>\n      <td>79</td>\n      <td>0</td>\n      <td>6.66</td>\n      <td>KI</td>\n      <td>1601273230</td>\n    </tr>\n    <tr>\n      <th>47</th>\n      <td>rikitea</td>\n      <td>-23.12</td>\n      <td>-134.97</td>\n      <td>23.63</td>\n      <td>81</td>\n      <td>0</td>\n      <td>4.79</td>\n      <td>PF</td>\n      <td>1601273261</td>\n    </tr>\n    <tr>\n      <th>80</th>\n      <td>ginda</td>\n      <td>30.69</td>\n      <td>78.49</td>\n      <td>29.00</td>\n      <td>62</td>\n      <td>0</td>\n      <td>2.23</td>\n      <td>IN</td>\n      <td>1601273284</td>\n    </tr>\n    <tr>\n      <th>93</th>\n      <td>katsuura</td>\n      <td>35.13</td>\n      <td>140.30</td>\n      <td>28.33</td>\n      <td>40</td>\n      <td>0</td>\n      <td>2.68</td>\n      <td>JP</td>\n      <td>1601273293</td>\n    </tr>\n    <tr>\n      <th>116</th>\n      <td>hun</td>\n      <td>29.13</td>\n      <td>15.95</td>\n      <td>29.25</td>\n      <td>18</td>\n      <td>0</td>\n      <td>0.66</td>\n      <td>LY</td>\n      <td>1601273307</td>\n    </tr>\n    <tr>\n      <th>142</th>\n      <td>kozluk</td>\n      <td>38.19</td>\n      <td>41.49</td>\n      <td>23.00</td>\n      <td>49</td>\n      <td>0</td>\n      <td>2.60</td>\n      <td>TR</td>\n      <td>1601273325</td>\n    </tr>\n    <tr>\n      <th>163</th>\n      <td>nouadhibou</td>\n      <td>20.93</td>\n      <td>-17.03</td>\n      <td>22.00</td>\n      <td>73</td>\n      <td>0</td>\n      <td>9.80</td>\n      <td>MR</td>\n      <td>1601273339</td>\n    </tr>\n    <tr>\n      <th>172</th>\n      <td>adrar</td>\n      <td>20.50</td>\n      <td>-10.07</td>\n      <td>28.77</td>\n      <td>22</td>\n      <td>0</td>\n      <td>2.83</td>\n      <td>MR</td>\n      <td>1601273345</td>\n    </tr>\n    <tr>\n      <th>205</th>\n      <td>kishtwar</td>\n      <td>33.32</td>\n      <td>75.77</td>\n      <td>24.32</td>\n      <td>19</td>\n      <td>0</td>\n      <td>1.78</td>\n      <td>IN</td>\n      <td>1601273370</td>\n    </tr>\n    <tr>\n      <th>238</th>\n      <td>tiznit</td>\n      <td>29.58</td>\n      <td>-9.50</td>\n      <td>20.97</td>\n      <td>50</td>\n      <td>0</td>\n      <td>0.39</td>\n      <td>MA</td>\n      <td>1601273393</td>\n    </tr>\n    <tr>\n      <th>280</th>\n      <td>castanos</td>\n      <td>26.78</td>\n      <td>-101.42</td>\n      <td>29.44</td>\n      <td>41</td>\n      <td>0</td>\n      <td>0.82</td>\n      <td>MX</td>\n      <td>1601273428</td>\n    </tr>\n    <tr>\n      <th>316</th>\n      <td>asyut</td>\n      <td>27.18</td>\n      <td>31.18</td>\n      <td>22.00</td>\n      <td>56</td>\n      <td>0</td>\n      <td>5.10</td>\n      <td>EG</td>\n      <td>1601273455</td>\n    </tr>\n    <tr>\n      <th>327</th>\n      <td>nadadores</td>\n      <td>27.05</td>\n      <td>-101.60</td>\n      <td>29.44</td>\n      <td>41</td>\n      <td>0</td>\n      <td>1.04</td>\n      <td>MX</td>\n      <td>1601273464</td>\n    </tr>\n    <tr>\n      <th>336</th>\n      <td>tessalit</td>\n      <td>20.20</td>\n      <td>1.01</td>\n      <td>26.80</td>\n      <td>16</td>\n      <td>0</td>\n      <td>1.59</td>\n      <td>ML</td>\n      <td>1601273471</td>\n    </tr>\n    <tr>\n      <th>379</th>\n      <td>awbari</td>\n      <td>26.59</td>\n      <td>12.78</td>\n      <td>27.32</td>\n      <td>16</td>\n      <td>0</td>\n      <td>5.19</td>\n      <td>LY</td>\n      <td>1601273505</td>\n    </tr>\n    <tr>\n      <th>420</th>\n      <td>bardiyah</td>\n      <td>31.76</td>\n      <td>25.09</td>\n      <td>26.88</td>\n      <td>65</td>\n      <td>0</td>\n      <td>4.38</td>\n      <td>LY</td>\n      <td>1601273541</td>\n    </tr>\n    <tr>\n      <th>457</th>\n      <td>tahta</td>\n      <td>26.77</td>\n      <td>31.50</td>\n      <td>26.00</td>\n      <td>29</td>\n      <td>0</td>\n      <td>3.10</td>\n      <td>EG</td>\n      <td>1601273571</td>\n    </tr>\n    <tr>\n      <th>461</th>\n      <td>mahabad</td>\n      <td>36.76</td>\n      <td>45.72</td>\n      <td>20.75</td>\n      <td>47</td>\n      <td>0</td>\n      <td>3.96</td>\n      <td>IR</td>\n      <td>1601273573</td>\n    </tr>\n    <tr>\n      <th>466</th>\n      <td>pervomayskoye</td>\n      <td>43.92</td>\n      <td>46.71</td>\n      <td>21.76</td>\n      <td>42</td>\n      <td>0</td>\n      <td>9.48</td>\n      <td>RU</td>\n      <td>1601273577</td>\n    </tr>\n    <tr>\n      <th>514</th>\n      <td>bocaiuva</td>\n      <td>-17.11</td>\n      <td>-43.81</td>\n      <td>21.26</td>\n      <td>37</td>\n      <td>0</td>\n      <td>0.68</td>\n      <td>BR</td>\n      <td>1601273620</td>\n    </tr>\n    <tr>\n      <th>529</th>\n      <td>tabas</td>\n      <td>33.60</td>\n      <td>56.92</td>\n      <td>27.00</td>\n      <td>15</td>\n      <td>0</td>\n      <td>2.10</td>\n      <td>IR</td>\n      <td>1601273636</td>\n    </tr>\n    <tr>\n      <th>558</th>\n      <td>buraydah</td>\n      <td>26.33</td>\n      <td>43.98</td>\n      <td>28.00</td>\n      <td>39</td>\n      <td>0</td>\n      <td>2.60</td>\n      <td>SA</td>\n      <td>1601273661</td>\n    </tr>\n    <tr>\n      <th>569</th>\n      <td>gat</td>\n      <td>31.61</td>\n      <td>34.76</td>\n      <td>30.00</td>\n      <td>72</td>\n      <td>0</td>\n      <td>0.63</td>\n      <td>IL</td>\n      <td>1601273665</td>\n    </tr>\n    <tr>\n      <th>577</th>\n      <td>sakakah</td>\n      <td>29.97</td>\n      <td>40.21</td>\n      <td>27.00</td>\n      <td>24</td>\n      <td>0</td>\n      <td>1.50</td>\n      <td>SA</td>\n      <td>1601273676</td>\n    </tr>\n    <tr>\n      <th>580</th>\n      <td>yerkoy</td>\n      <td>39.64</td>\n      <td>34.47</td>\n      <td>21.98</td>\n      <td>49</td>\n      <td>0</td>\n      <td>1.05</td>\n      <td>TR</td>\n      <td>1601273409</td>\n    </tr>\n  </tbody>\n</table>\n</div>"
     },
     "metadata": {},
     "execution_count": 6
    }
   ],
   "source": [
    "# The most ideal vacations involve destinations with minimal cloud cover as well as having temperatures within the range of 20-30 degrees celcius. As such, there datframe will be narrowed down further in order to find hotels within these regions that have the ideal weather. \n",
    "\n",
    "ideal_weather_df = weather_df.loc[\n",
    "    (weather_df['Cloudiness']==0) & \n",
    "    (weather_df['Wind Speed'] <= 10) & \n",
    "    (weather_df['Max Temp'] >= 20) &\n",
    "    (weather_df['Max Temp'] <= 30)].dropna()\n",
    "\n",
    "print(f' The Number of Ideal Cities within the ideal weather criteria are {len(ideal_weather_df)}')\n",
    "ideal_weather_df\n"
   ]
  },
  {
   "cell_type": "markdown",
   "metadata": {},
   "source": [
    "### Hotel Map\n",
    "* Store into variable named `hotel_df`.\n",
    "* Add a \"Hotel Name\" column to the DataFrame.\n",
    "* Set parameters to search for hotels with 5000 meters.\n",
    "* Hit the Google Places API for each city's coordinates.\n",
    "* Store the first Hotel result into the DataFrame.\n",
    "* Plot markers on top of the heatmap."
   ]
  },
  {
   "cell_type": "code",
   "execution_count": 7,
   "metadata": {},
   "outputs": [
    {
     "output_type": "execute_result",
     "data": {
      "text/plain": "              City  Lattitude  Longitude Country Hotel Name\n0       butaritari       3.07     172.79      KI           \n47         rikitea     -23.12    -134.97      PF           \n80           ginda      30.69      78.49      IN           \n93        katsuura      35.13     140.30      JP           \n116            hun      29.13      15.95      LY           \n142         kozluk      38.19      41.49      TR           \n163     nouadhibou      20.93     -17.03      MR           \n172          adrar      20.50     -10.07      MR           \n205       kishtwar      33.32      75.77      IN           \n238         tiznit      29.58      -9.50      MA           \n280       castanos      26.78    -101.42      MX           \n316          asyut      27.18      31.18      EG           \n327      nadadores      27.05    -101.60      MX           \n336       tessalit      20.20       1.01      ML           \n379         awbari      26.59      12.78      LY           \n420       bardiyah      31.76      25.09      LY           \n457          tahta      26.77      31.50      EG           \n461        mahabad      36.76      45.72      IR           \n466  pervomayskoye      43.92      46.71      RU           \n514       bocaiuva     -17.11     -43.81      BR           \n529          tabas      33.60      56.92      IR           \n558       buraydah      26.33      43.98      SA           \n569            gat      31.61      34.76      IL           \n577        sakakah      29.97      40.21      SA           \n580         yerkoy      39.64      34.47      TR           ",
      "text/html": "<div>\n<style scoped>\n    .dataframe tbody tr th:only-of-type {\n        vertical-align: middle;\n    }\n\n    .dataframe tbody tr th {\n        vertical-align: top;\n    }\n\n    .dataframe thead th {\n        text-align: right;\n    }\n</style>\n<table border=\"1\" class=\"dataframe\">\n  <thead>\n    <tr style=\"text-align: right;\">\n      <th></th>\n      <th>City</th>\n      <th>Lattitude</th>\n      <th>Longitude</th>\n      <th>Country</th>\n      <th>Hotel Name</th>\n    </tr>\n  </thead>\n  <tbody>\n    <tr>\n      <th>0</th>\n      <td>butaritari</td>\n      <td>3.07</td>\n      <td>172.79</td>\n      <td>KI</td>\n      <td></td>\n    </tr>\n    <tr>\n      <th>47</th>\n      <td>rikitea</td>\n      <td>-23.12</td>\n      <td>-134.97</td>\n      <td>PF</td>\n      <td></td>\n    </tr>\n    <tr>\n      <th>80</th>\n      <td>ginda</td>\n      <td>30.69</td>\n      <td>78.49</td>\n      <td>IN</td>\n      <td></td>\n    </tr>\n    <tr>\n      <th>93</th>\n      <td>katsuura</td>\n      <td>35.13</td>\n      <td>140.30</td>\n      <td>JP</td>\n      <td></td>\n    </tr>\n    <tr>\n      <th>116</th>\n      <td>hun</td>\n      <td>29.13</td>\n      <td>15.95</td>\n      <td>LY</td>\n      <td></td>\n    </tr>\n    <tr>\n      <th>142</th>\n      <td>kozluk</td>\n      <td>38.19</td>\n      <td>41.49</td>\n      <td>TR</td>\n      <td></td>\n    </tr>\n    <tr>\n      <th>163</th>\n      <td>nouadhibou</td>\n      <td>20.93</td>\n      <td>-17.03</td>\n      <td>MR</td>\n      <td></td>\n    </tr>\n    <tr>\n      <th>172</th>\n      <td>adrar</td>\n      <td>20.50</td>\n      <td>-10.07</td>\n      <td>MR</td>\n      <td></td>\n    </tr>\n    <tr>\n      <th>205</th>\n      <td>kishtwar</td>\n      <td>33.32</td>\n      <td>75.77</td>\n      <td>IN</td>\n      <td></td>\n    </tr>\n    <tr>\n      <th>238</th>\n      <td>tiznit</td>\n      <td>29.58</td>\n      <td>-9.50</td>\n      <td>MA</td>\n      <td></td>\n    </tr>\n    <tr>\n      <th>280</th>\n      <td>castanos</td>\n      <td>26.78</td>\n      <td>-101.42</td>\n      <td>MX</td>\n      <td></td>\n    </tr>\n    <tr>\n      <th>316</th>\n      <td>asyut</td>\n      <td>27.18</td>\n      <td>31.18</td>\n      <td>EG</td>\n      <td></td>\n    </tr>\n    <tr>\n      <th>327</th>\n      <td>nadadores</td>\n      <td>27.05</td>\n      <td>-101.60</td>\n      <td>MX</td>\n      <td></td>\n    </tr>\n    <tr>\n      <th>336</th>\n      <td>tessalit</td>\n      <td>20.20</td>\n      <td>1.01</td>\n      <td>ML</td>\n      <td></td>\n    </tr>\n    <tr>\n      <th>379</th>\n      <td>awbari</td>\n      <td>26.59</td>\n      <td>12.78</td>\n      <td>LY</td>\n      <td></td>\n    </tr>\n    <tr>\n      <th>420</th>\n      <td>bardiyah</td>\n      <td>31.76</td>\n      <td>25.09</td>\n      <td>LY</td>\n      <td></td>\n    </tr>\n    <tr>\n      <th>457</th>\n      <td>tahta</td>\n      <td>26.77</td>\n      <td>31.50</td>\n      <td>EG</td>\n      <td></td>\n    </tr>\n    <tr>\n      <th>461</th>\n      <td>mahabad</td>\n      <td>36.76</td>\n      <td>45.72</td>\n      <td>IR</td>\n      <td></td>\n    </tr>\n    <tr>\n      <th>466</th>\n      <td>pervomayskoye</td>\n      <td>43.92</td>\n      <td>46.71</td>\n      <td>RU</td>\n      <td></td>\n    </tr>\n    <tr>\n      <th>514</th>\n      <td>bocaiuva</td>\n      <td>-17.11</td>\n      <td>-43.81</td>\n      <td>BR</td>\n      <td></td>\n    </tr>\n    <tr>\n      <th>529</th>\n      <td>tabas</td>\n      <td>33.60</td>\n      <td>56.92</td>\n      <td>IR</td>\n      <td></td>\n    </tr>\n    <tr>\n      <th>558</th>\n      <td>buraydah</td>\n      <td>26.33</td>\n      <td>43.98</td>\n      <td>SA</td>\n      <td></td>\n    </tr>\n    <tr>\n      <th>569</th>\n      <td>gat</td>\n      <td>31.61</td>\n      <td>34.76</td>\n      <td>IL</td>\n      <td></td>\n    </tr>\n    <tr>\n      <th>577</th>\n      <td>sakakah</td>\n      <td>29.97</td>\n      <td>40.21</td>\n      <td>SA</td>\n      <td></td>\n    </tr>\n    <tr>\n      <th>580</th>\n      <td>yerkoy</td>\n      <td>39.64</td>\n      <td>34.47</td>\n      <td>TR</td>\n      <td></td>\n    </tr>\n  </tbody>\n</table>\n</div>"
     },
     "metadata": {},
     "execution_count": 7
    }
   ],
   "source": [
    "# Creating a New Hotel DataFram\n",
    "hotel_df = ideal_weather_df.copy().drop(columns={'Date', 'Wind Speed','Max Temp','Humidity','Cloudiness'})\n",
    "\n",
    "hotel_df['Hotel Name'] = \"\"\n",
    "\n",
    "hotel_df\n"
   ]
  },
  {
   "cell_type": "code",
   "execution_count": 8,
   "metadata": {
    "tags": []
   },
   "outputs": [
    {
     "output_type": "stream",
     "name": "stdout",
     "text": "Data retrival in progress\nFinding nearest hotel for butaritari\n--------------------------\nThere are no Hotels for butaritari, moving on to the next city....\n\nFinding nearest hotel for rikitea\n--------------------------\nFinding nearest hotel for ginda\n--------------------------\nFinding nearest hotel for katsuura\n--------------------------\nFinding nearest hotel for hun\n--------------------------\nFinding nearest hotel for kozluk\n--------------------------\nThere are no Hotels for kozluk, moving on to the next city....\n\nFinding nearest hotel for nouadhibou\n--------------------------\nFinding nearest hotel for adrar\n--------------------------\nThere are no Hotels for adrar, moving on to the next city....\n\nFinding nearest hotel for kishtwar\n--------------------------\nFinding nearest hotel for tiznit\n--------------------------\nThere are no Hotels for tiznit, moving on to the next city....\n\nFinding nearest hotel for castanos\n--------------------------\nFinding nearest hotel for asyut\n--------------------------\nFinding nearest hotel for nadadores\n--------------------------\nFinding nearest hotel for tessalit\n--------------------------\nThere are no Hotels for tessalit, moving on to the next city....\n\nFinding nearest hotel for awbari\n--------------------------\nFinding nearest hotel for bardiyah\n--------------------------\nFinding nearest hotel for tahta\n--------------------------\nFinding nearest hotel for mahabad\n--------------------------\nFinding nearest hotel for pervomayskoye\n--------------------------\nThere are no Hotels for pervomayskoye, moving on to the next city....\n\nFinding nearest hotel for bocaiuva\n--------------------------\nFinding nearest hotel for tabas\n--------------------------\nFinding nearest hotel for buraydah\n--------------------------\nFinding nearest hotel for gat\n--------------------------\nThere are no Hotels for gat, moving on to the next city....\n\nFinding nearest hotel for sakakah\n--------------------------\nFinding nearest hotel for yerkoy\n--------------------------\nEnd of Data Retreival\n*********************\nRemoving cities where hotels could not be retreived\n"
    }
   ],
   "source": [
    "# Setting up the parameters to determine the closest hotels within a 5 km radium (5000 m)\n",
    "\n",
    "base_url = \"https://maps.googleapis.com/maps/api/place/nearbysearch/json\"\n",
    "\n",
    "# Setting up the search parameters\n",
    "params = {\n",
    "    'type':'hotel',\n",
    "    'keyword': 'hotel',\n",
    "    'radius': 5000,\n",
    "    'key': g_key\n",
    "}\n",
    "\n",
    "# We will be itterating through the rows in order to hotels within the defined radius of the coordinates of each city\n",
    "print(f'Data retrival in progress')\n",
    "for index, row in hotel_df.iterrows():\n",
    "    latitude = row['Lattitude']\n",
    "    longitude = row['Longitude']\n",
    "    city = row['City']\n",
    "\n",
    "    # Now that the latitude and longitude has been defined, these need to be added to the dictionary\n",
    "\n",
    "    params['location'] = f'{latitude},{longitude}'\n",
    "\n",
    "    \n",
    "    response = requests.get(base_url, params=params).json()\n",
    "\n",
    "    search_results = response['results']\n",
    "\n",
    "    try:\n",
    "        print(f'Finding nearest hotel for {city}\\n--------------------------')\n",
    "        hotel_df.loc[index, 'Hotel Name'] = search_results[0]['name']\n",
    "    \n",
    "    except (KeyError, IndexError):\n",
    "        print(f'There are no Hotels for {city}, moving on to the next city....\\n')\n",
    "\n",
    "\n",
    "print('End of Data Retreival\\n*********************')\n",
    "print(f'Removing cities where hotels could not be retreived')\n",
    "hotel_df = hotel_df[hotel_df['Hotel Name']!=\"\"]\n",
    "\n",
    "\n"
   ]
  },
  {
   "cell_type": "code",
   "execution_count": 9,
   "metadata": {},
   "outputs": [
    {
     "output_type": "execute_result",
     "data": {
      "text/plain": "           City  Lattitude  Longitude Country                     Hotel Name\n47      rikitea     -23.12    -134.97      PF                 Pension Maro'i\n80        ginda      30.69      78.49      IN            Hotel Himalayan Inn\n93     katsuura      35.13     140.30      JP             Splash Guest House\n116         hun      29.13      15.95      LY                  Alrwasi Hotel\n163  nouadhibou      20.93     -17.03      MR     Free Zone Hotel Nouadhibou\n205    kishtwar      33.32      75.77      IN    Hotel Phoenix International\n280    castanos      26.78    -101.42      MX                          Motel\n316       asyut      27.18      31.18      EG     Assiut hotels Armed Forces\n327   nadadores      27.05    -101.60      MX             Hotel Villa Jardín\n379      awbari      26.59      12.78      LY                    فندق أوباري\n420    bardiyah      31.76      25.09      LY                    Hotel Burdy\n457       tahta      26.77      31.50      EG                 El Salam Hotel\n461     mahabad      36.76      45.72      IR                   Afshar Hotel\n514    bocaiuva     -17.11     -43.81      BR                  Pontual Hotel\n529       tabas      33.60      56.92      IR                     Amir hotel\n558    buraydah      26.33      43.98      SA  Ewaa Express Hotel - Buraydah\n577     sakakah      29.97      40.21      SA         ZAYAFAH AL RIMAL hotel\n580      yerkoy      39.64      34.47      TR                     Otel Murat",
      "text/html": "<div>\n<style scoped>\n    .dataframe tbody tr th:only-of-type {\n        vertical-align: middle;\n    }\n\n    .dataframe tbody tr th {\n        vertical-align: top;\n    }\n\n    .dataframe thead th {\n        text-align: right;\n    }\n</style>\n<table border=\"1\" class=\"dataframe\">\n  <thead>\n    <tr style=\"text-align: right;\">\n      <th></th>\n      <th>City</th>\n      <th>Lattitude</th>\n      <th>Longitude</th>\n      <th>Country</th>\n      <th>Hotel Name</th>\n    </tr>\n  </thead>\n  <tbody>\n    <tr>\n      <th>47</th>\n      <td>rikitea</td>\n      <td>-23.12</td>\n      <td>-134.97</td>\n      <td>PF</td>\n      <td>Pension Maro'i</td>\n    </tr>\n    <tr>\n      <th>80</th>\n      <td>ginda</td>\n      <td>30.69</td>\n      <td>78.49</td>\n      <td>IN</td>\n      <td>Hotel Himalayan Inn</td>\n    </tr>\n    <tr>\n      <th>93</th>\n      <td>katsuura</td>\n      <td>35.13</td>\n      <td>140.30</td>\n      <td>JP</td>\n      <td>Splash Guest House</td>\n    </tr>\n    <tr>\n      <th>116</th>\n      <td>hun</td>\n      <td>29.13</td>\n      <td>15.95</td>\n      <td>LY</td>\n      <td>Alrwasi Hotel</td>\n    </tr>\n    <tr>\n      <th>163</th>\n      <td>nouadhibou</td>\n      <td>20.93</td>\n      <td>-17.03</td>\n      <td>MR</td>\n      <td>Free Zone Hotel Nouadhibou</td>\n    </tr>\n    <tr>\n      <th>205</th>\n      <td>kishtwar</td>\n      <td>33.32</td>\n      <td>75.77</td>\n      <td>IN</td>\n      <td>Hotel Phoenix International</td>\n    </tr>\n    <tr>\n      <th>280</th>\n      <td>castanos</td>\n      <td>26.78</td>\n      <td>-101.42</td>\n      <td>MX</td>\n      <td>Motel</td>\n    </tr>\n    <tr>\n      <th>316</th>\n      <td>asyut</td>\n      <td>27.18</td>\n      <td>31.18</td>\n      <td>EG</td>\n      <td>Assiut hotels Armed Forces</td>\n    </tr>\n    <tr>\n      <th>327</th>\n      <td>nadadores</td>\n      <td>27.05</td>\n      <td>-101.60</td>\n      <td>MX</td>\n      <td>Hotel Villa Jardín</td>\n    </tr>\n    <tr>\n      <th>379</th>\n      <td>awbari</td>\n      <td>26.59</td>\n      <td>12.78</td>\n      <td>LY</td>\n      <td>فندق أوباري</td>\n    </tr>\n    <tr>\n      <th>420</th>\n      <td>bardiyah</td>\n      <td>31.76</td>\n      <td>25.09</td>\n      <td>LY</td>\n      <td>Hotel Burdy</td>\n    </tr>\n    <tr>\n      <th>457</th>\n      <td>tahta</td>\n      <td>26.77</td>\n      <td>31.50</td>\n      <td>EG</td>\n      <td>El Salam Hotel</td>\n    </tr>\n    <tr>\n      <th>461</th>\n      <td>mahabad</td>\n      <td>36.76</td>\n      <td>45.72</td>\n      <td>IR</td>\n      <td>Afshar Hotel</td>\n    </tr>\n    <tr>\n      <th>514</th>\n      <td>bocaiuva</td>\n      <td>-17.11</td>\n      <td>-43.81</td>\n      <td>BR</td>\n      <td>Pontual Hotel</td>\n    </tr>\n    <tr>\n      <th>529</th>\n      <td>tabas</td>\n      <td>33.60</td>\n      <td>56.92</td>\n      <td>IR</td>\n      <td>Amir hotel</td>\n    </tr>\n    <tr>\n      <th>558</th>\n      <td>buraydah</td>\n      <td>26.33</td>\n      <td>43.98</td>\n      <td>SA</td>\n      <td>Ewaa Express Hotel - Buraydah</td>\n    </tr>\n    <tr>\n      <th>577</th>\n      <td>sakakah</td>\n      <td>29.97</td>\n      <td>40.21</td>\n      <td>SA</td>\n      <td>ZAYAFAH AL RIMAL hotel</td>\n    </tr>\n    <tr>\n      <th>580</th>\n      <td>yerkoy</td>\n      <td>39.64</td>\n      <td>34.47</td>\n      <td>TR</td>\n      <td>Otel Murat</td>\n    </tr>\n  </tbody>\n</table>\n</div>"
     },
     "metadata": {},
     "execution_count": 9
    }
   ],
   "source": [
    "# Results of the Hotel Search\n",
    "hotel_df"
   ]
  },
  {
   "cell_type": "code",
   "execution_count": 10,
   "metadata": {},
   "outputs": [],
   "source": [
    "# NOTE: Do not change any of the code in this cell\n",
    "\n",
    "# Using the template add the hotel marks to the heatmap\n",
    "info_box_template = \"\"\"\n",
    "<dl>\n",
    "<dt>Name</dt><dd>{Hotel Name}</dd>\n",
    "<dt>City</dt><dd>{City}</dd>\n",
    "<dt>Country</dt><dd>{Country}</dd>\n",
    "</dl>\n",
    "\"\"\"\n",
    "# Store the DataFrame Row\n",
    "# NOTE: be sure to update with your DataFrame name\n",
    "hotel_info = [info_box_template.format(**row) for index, row in hotel_df.iterrows()]\n",
    "locations = hotel_df[[\"Lattitude\", \"Longitude\"]]"
   ]
  },
  {
   "cell_type": "code",
   "execution_count": 11,
   "metadata": {},
   "outputs": [
    {
     "output_type": "display_data",
     "data": {
      "text/plain": "Figure(layout=FigureLayout(height='420px'))",
      "application/vnd.jupyter.widget-view+json": {
       "version_major": 2,
       "version_minor": 0,
       "model_id": "2e914f17f7504f329acd271db2e5b546"
      }
     },
     "metadata": {}
    }
   ],
   "source": [
    "# Add marker layer ontop of heat map\n",
    "hotel_marker = gmaps.marker_layer(locations, info_box_content=hotel_info)\n",
    "\n",
    "# We will add the new layer to the previous humidity heatmap\n",
    "fig.add_layer(hotel_marker)\n",
    "\n",
    "# Display figure\n",
    "fig"
   ]
  },
  {
   "cell_type": "code",
   "execution_count": null,
   "metadata": {},
   "outputs": [],
   "source": []
  }
 ],
 "metadata": {
  "kernelspec": {
   "name": "python_defaultSpec_1601273866361",
   "display_name": "Python 3.6.12 64-bit ('apiproject': conda)",
   "metadata": {
    "interpreter": {
     "hash": "6858991ae45970477c979e20bd003b285324046a59fb015a65b3ffb3c3b75fd3"
    }
   }
  },
  "language_info": {
   "codemirror_mode": {
    "name": "ipython",
    "version": 3
   },
   "file_extension": ".py",
   "mimetype": "text/x-python",
   "name": "python",
   "nbconvert_exporter": "python",
   "pygments_lexer": "ipython3",
   "version": "3.6.12-final"
  },
  "latex_envs": {
   "LaTeX_envs_menu_present": true,
   "autoclose": false,
   "autocomplete": true,
   "bibliofile": "biblio.bib",
   "cite_by": "apalike",
   "current_citInitial": 1,
   "eqLabelWithNumbers": true,
   "eqNumInitial": 1,
   "hotkeys": {
    "equation": "Ctrl-E",
    "itemize": "Ctrl-I"
   },
   "labels_anchors": false,
   "latex_user_defs": false,
   "report_style_numbering": false,
   "user_envs_cfg": false
  }
 },
 "nbformat": 4,
 "nbformat_minor": 4
}