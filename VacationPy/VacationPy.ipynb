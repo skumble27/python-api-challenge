{
 "cells": [
  {
   "cell_type": "markdown",
   "metadata": {},
   "source": [
    "# VacationPy\n",
    "----\n",
    "\n",
    "#### Note\n",
    "* Keep an eye on your API usage. Use https://developers.google.com/maps/reporting/gmp-reporting as reference for how to monitor your usage and billing.\n",
    "\n",
    "* Instructions have been included for each segment. You do not have to follow them exactly, but they are included to help you think through the steps."
   ]
  },
  {
   "cell_type": "code",
   "execution_count": 1,
   "metadata": {},
   "outputs": [],
   "source": [
    "# Dependencies and Setup\n",
    "import matplotlib.pyplot as plt\n",
    "import pandas as pd\n",
    "import numpy as np\n",
    "import requests\n",
    "import gmaps\n",
    "import os\n",
    "\n",
    "# Import API key\n",
    "from api_keys import g_key\n",
    "\n",
    "# Configure the API Key\n",
    "gmaps.configure(api_key=g_key)"
   ]
  },
  {
   "cell_type": "markdown",
   "metadata": {},
   "source": [
    "### Store Part I results into DataFrame\n",
    "* Load the csv exported in Part I to a DataFrame"
   ]
  },
  {
   "cell_type": "code",
   "execution_count": 2,
   "metadata": {},
   "outputs": [
    {
     "output_type": "execute_result",
     "data": {
      "text/plain": "          City  Lattitude  Longitude  Max Temp  Humidity  Cloudiness  \\\n0         gazi      35.33      25.07     26.11        78          40   \n1        bluff     -46.60     168.33      5.56        73          99   \n2    cape town     -36.41     -71.90      6.00       100         100   \n3  porto velho      41.15      -8.61     14.44        93          48   \n4      mataura     -46.19     168.86      5.56        73          94   \n\n   Wind Speed Country        Date  \n0        2.60      GR  1601355047  \n1        9.39      NZ  1601355047  \n2        1.00      CL  1601355048  \n3        1.00      PT  1601355049  \n4        9.39      NZ  1601355049  ",
      "text/html": "<div>\n<style scoped>\n    .dataframe tbody tr th:only-of-type {\n        vertical-align: middle;\n    }\n\n    .dataframe tbody tr th {\n        vertical-align: top;\n    }\n\n    .dataframe thead th {\n        text-align: right;\n    }\n</style>\n<table border=\"1\" class=\"dataframe\">\n  <thead>\n    <tr style=\"text-align: right;\">\n      <th></th>\n      <th>City</th>\n      <th>Lattitude</th>\n      <th>Longitude</th>\n      <th>Max Temp</th>\n      <th>Humidity</th>\n      <th>Cloudiness</th>\n      <th>Wind Speed</th>\n      <th>Country</th>\n      <th>Date</th>\n    </tr>\n  </thead>\n  <tbody>\n    <tr>\n      <th>0</th>\n      <td>gazi</td>\n      <td>35.33</td>\n      <td>25.07</td>\n      <td>26.11</td>\n      <td>78</td>\n      <td>40</td>\n      <td>2.60</td>\n      <td>GR</td>\n      <td>1601355047</td>\n    </tr>\n    <tr>\n      <th>1</th>\n      <td>bluff</td>\n      <td>-46.60</td>\n      <td>168.33</td>\n      <td>5.56</td>\n      <td>73</td>\n      <td>99</td>\n      <td>9.39</td>\n      <td>NZ</td>\n      <td>1601355047</td>\n    </tr>\n    <tr>\n      <th>2</th>\n      <td>cape town</td>\n      <td>-36.41</td>\n      <td>-71.90</td>\n      <td>6.00</td>\n      <td>100</td>\n      <td>100</td>\n      <td>1.00</td>\n      <td>CL</td>\n      <td>1601355048</td>\n    </tr>\n    <tr>\n      <th>3</th>\n      <td>porto velho</td>\n      <td>41.15</td>\n      <td>-8.61</td>\n      <td>14.44</td>\n      <td>93</td>\n      <td>48</td>\n      <td>1.00</td>\n      <td>PT</td>\n      <td>1601355049</td>\n    </tr>\n    <tr>\n      <th>4</th>\n      <td>mataura</td>\n      <td>-46.19</td>\n      <td>168.86</td>\n      <td>5.56</td>\n      <td>73</td>\n      <td>94</td>\n      <td>9.39</td>\n      <td>NZ</td>\n      <td>1601355049</td>\n    </tr>\n  </tbody>\n</table>\n</div>"
     },
     "metadata": {},
     "execution_count": 2
    }
   ],
   "source": [
    "weather_df = pd.read_csv('..\\Output_Data\\Weather_Data_Collection.csv')\n",
    "weather_df = weather_df.drop(columns={'Unnamed: 0'})\n",
    "weather_df.head()\n",
    "\n"
   ]
  },
  {
   "cell_type": "markdown",
   "metadata": {},
   "source": [
    "### Humidity Heatmap\n",
    "* Configure gmaps.\n",
    "* Use the Lat and Lng as locations and Humidity as the weight.\n",
    "* Add Heatmap layer to map."
   ]
  },
  {
   "cell_type": "code",
   "execution_count": 3,
   "metadata": {},
   "outputs": [
    {
     "output_type": "execute_result",
     "data": {
      "text/plain": "   Lattitude  Longitude\n0      35.33      25.07\n1     -46.60     168.33\n2     -36.41     -71.90\n3      41.15      -8.61\n4     -46.19     168.86",
      "text/html": "<div>\n<style scoped>\n    .dataframe tbody tr th:only-of-type {\n        vertical-align: middle;\n    }\n\n    .dataframe tbody tr th {\n        vertical-align: top;\n    }\n\n    .dataframe thead th {\n        text-align: right;\n    }\n</style>\n<table border=\"1\" class=\"dataframe\">\n  <thead>\n    <tr style=\"text-align: right;\">\n      <th></th>\n      <th>Lattitude</th>\n      <th>Longitude</th>\n    </tr>\n  </thead>\n  <tbody>\n    <tr>\n      <th>0</th>\n      <td>35.33</td>\n      <td>25.07</td>\n    </tr>\n    <tr>\n      <th>1</th>\n      <td>-46.60</td>\n      <td>168.33</td>\n    </tr>\n    <tr>\n      <th>2</th>\n      <td>-36.41</td>\n      <td>-71.90</td>\n    </tr>\n    <tr>\n      <th>3</th>\n      <td>41.15</td>\n      <td>-8.61</td>\n    </tr>\n    <tr>\n      <th>4</th>\n      <td>-46.19</td>\n      <td>168.86</td>\n    </tr>\n  </tbody>\n</table>\n</div>"
     },
     "metadata": {},
     "execution_count": 3
    }
   ],
   "source": [
    "# Obtaining the Coordinates to plot on the map\n",
    "city_locations = weather_df[['Lattitude','Longitude']].astype(float)\n",
    "city_locations.head()"
   ]
  },
  {
   "cell_type": "code",
   "execution_count": 4,
   "metadata": {},
   "outputs": [
    {
     "output_type": "execute_result",
     "data": {
      "text/plain": "0     78\n1     73\n2    100\n3     93\n4     73\nName: Humidity, dtype: int64"
     },
     "metadata": {},
     "execution_count": 4
    }
   ],
   "source": [
    "# Humidity values\n",
    "humidity_data = weather_df['Humidity']\n",
    "humidity_data.head()"
   ]
  },
  {
   "cell_type": "code",
   "execution_count": 5,
   "metadata": {},
   "outputs": [
    {
     "output_type": "display_data",
     "data": {
      "text/plain": "Figure(layout=FigureLayout(height='420px'))",
      "application/vnd.jupyter.widget-view+json": {
       "version_major": 2,
       "version_minor": 0,
       "model_id": "3b190349d3db48a6b5af52ba5d883809"
      }
     },
     "metadata": {}
    }
   ],
   "source": [
    "# Creating a Humidity Heatmap Layer\n",
    "fig = gmaps.figure()\n",
    "\n",
    "humidity_layer = gmaps.heatmap_layer(city_locations, weights=humidity_data, dissipating=False, max_intensity=100, point_radius=2)\n",
    "\n",
    "fig.add_layer(humidity_layer)\n",
    "\n",
    "fig\n",
    "\n"
   ]
  },
  {
   "cell_type": "code",
   "execution_count": null,
   "metadata": {},
   "outputs": [],
   "source": []
  },
  {
   "cell_type": "markdown",
   "metadata": {},
   "source": [
    "### Create new DataFrame fitting weather criteria\n",
    "* Narrow down the cities to fit weather conditions.\n",
    "* Drop any rows will null values."
   ]
  },
  {
   "cell_type": "code",
   "execution_count": 6,
   "metadata": {
    "tags": []
   },
   "outputs": [
    {
     "output_type": "stream",
     "name": "stdout",
     "text": " The Number of Ideal Cities within the ideal weather criteria are 17\n"
    },
    {
     "output_type": "execute_result",
     "data": {
      "text/plain": "             City  Lattitude  Longitude  Max Temp  Humidity  Cloudiness  \\\n48      geraldton     -28.77     114.60     22.00        53           0   \n68       benghazi      32.12      20.07     25.18        81           0   \n81         gilgit      35.92      74.31     21.79        22           0   \n98         jiwani      25.05      61.74     28.73        67           0   \n164        tiznit      29.58      -9.50     21.15        45           0   \n193        mocuba     -16.84      36.99     26.88        45           0   \n216      damnagar      21.70      71.52     28.86        64           0   \n230         caico      -6.46     -37.10     22.40        77           0   \n236        darnah      32.77      22.64     25.00        82           0   \n254   saint-louis      16.33     -15.00     27.23        68           0   \n367          atar      20.52     -13.05     28.83        29           0   \n405        turayf      31.67      38.66     20.00        52           0   \n413       pokhara      28.23      83.98     27.42        61           0   \n431        turbat      26.00      63.04     28.93        58           0   \n445  mirpur sakro      33.15      73.76     29.88        29           0   \n464     salamiyah      35.01      37.05     25.49        40           0   \n481          mana       5.66     -53.78     25.54        85           0   \n\n     Wind Speed Country        Date  \n48         5.10      AU  1601355083  \n68         6.97      LY  1601355099  \n81         1.89      PK  1601355108  \n98         2.38      PK  1601355119  \n164        0.97      MA  1601355165  \n193        1.39      MZ  1601355188  \n216        3.09      IN  1601355204  \n230        5.61      BR  1601355214  \n236        6.30      LY  1601355218  \n254        3.67      SN  1601355231  \n367        2.58      MR  1601355316  \n405        4.10      SA  1601355342  \n413        2.18      NP  1601355347  \n431        1.81      PK  1601355360  \n445        1.17      PK  1601355370  \n464        1.96      SY  1601355385  \n481        5.08      GF  1601355396  ",
      "text/html": "<div>\n<style scoped>\n    .dataframe tbody tr th:only-of-type {\n        vertical-align: middle;\n    }\n\n    .dataframe tbody tr th {\n        vertical-align: top;\n    }\n\n    .dataframe thead th {\n        text-align: right;\n    }\n</style>\n<table border=\"1\" class=\"dataframe\">\n  <thead>\n    <tr style=\"text-align: right;\">\n      <th></th>\n      <th>City</th>\n      <th>Lattitude</th>\n      <th>Longitude</th>\n      <th>Max Temp</th>\n      <th>Humidity</th>\n      <th>Cloudiness</th>\n      <th>Wind Speed</th>\n      <th>Country</th>\n      <th>Date</th>\n    </tr>\n  </thead>\n  <tbody>\n    <tr>\n      <th>48</th>\n      <td>geraldton</td>\n      <td>-28.77</td>\n      <td>114.60</td>\n      <td>22.00</td>\n      <td>53</td>\n      <td>0</td>\n      <td>5.10</td>\n      <td>AU</td>\n      <td>1601355083</td>\n    </tr>\n    <tr>\n      <th>68</th>\n      <td>benghazi</td>\n      <td>32.12</td>\n      <td>20.07</td>\n      <td>25.18</td>\n      <td>81</td>\n      <td>0</td>\n      <td>6.97</td>\n      <td>LY</td>\n      <td>1601355099</td>\n    </tr>\n    <tr>\n      <th>81</th>\n      <td>gilgit</td>\n      <td>35.92</td>\n      <td>74.31</td>\n      <td>21.79</td>\n      <td>22</td>\n      <td>0</td>\n      <td>1.89</td>\n      <td>PK</td>\n      <td>1601355108</td>\n    </tr>\n    <tr>\n      <th>98</th>\n      <td>jiwani</td>\n      <td>25.05</td>\n      <td>61.74</td>\n      <td>28.73</td>\n      <td>67</td>\n      <td>0</td>\n      <td>2.38</td>\n      <td>PK</td>\n      <td>1601355119</td>\n    </tr>\n    <tr>\n      <th>164</th>\n      <td>tiznit</td>\n      <td>29.58</td>\n      <td>-9.50</td>\n      <td>21.15</td>\n      <td>45</td>\n      <td>0</td>\n      <td>0.97</td>\n      <td>MA</td>\n      <td>1601355165</td>\n    </tr>\n    <tr>\n      <th>193</th>\n      <td>mocuba</td>\n      <td>-16.84</td>\n      <td>36.99</td>\n      <td>26.88</td>\n      <td>45</td>\n      <td>0</td>\n      <td>1.39</td>\n      <td>MZ</td>\n      <td>1601355188</td>\n    </tr>\n    <tr>\n      <th>216</th>\n      <td>damnagar</td>\n      <td>21.70</td>\n      <td>71.52</td>\n      <td>28.86</td>\n      <td>64</td>\n      <td>0</td>\n      <td>3.09</td>\n      <td>IN</td>\n      <td>1601355204</td>\n    </tr>\n    <tr>\n      <th>230</th>\n      <td>caico</td>\n      <td>-6.46</td>\n      <td>-37.10</td>\n      <td>22.40</td>\n      <td>77</td>\n      <td>0</td>\n      <td>5.61</td>\n      <td>BR</td>\n      <td>1601355214</td>\n    </tr>\n    <tr>\n      <th>236</th>\n      <td>darnah</td>\n      <td>32.77</td>\n      <td>22.64</td>\n      <td>25.00</td>\n      <td>82</td>\n      <td>0</td>\n      <td>6.30</td>\n      <td>LY</td>\n      <td>1601355218</td>\n    </tr>\n    <tr>\n      <th>254</th>\n      <td>saint-louis</td>\n      <td>16.33</td>\n      <td>-15.00</td>\n      <td>27.23</td>\n      <td>68</td>\n      <td>0</td>\n      <td>3.67</td>\n      <td>SN</td>\n      <td>1601355231</td>\n    </tr>\n    <tr>\n      <th>367</th>\n      <td>atar</td>\n      <td>20.52</td>\n      <td>-13.05</td>\n      <td>28.83</td>\n      <td>29</td>\n      <td>0</td>\n      <td>2.58</td>\n      <td>MR</td>\n      <td>1601355316</td>\n    </tr>\n    <tr>\n      <th>405</th>\n      <td>turayf</td>\n      <td>31.67</td>\n      <td>38.66</td>\n      <td>20.00</td>\n      <td>52</td>\n      <td>0</td>\n      <td>4.10</td>\n      <td>SA</td>\n      <td>1601355342</td>\n    </tr>\n    <tr>\n      <th>413</th>\n      <td>pokhara</td>\n      <td>28.23</td>\n      <td>83.98</td>\n      <td>27.42</td>\n      <td>61</td>\n      <td>0</td>\n      <td>2.18</td>\n      <td>NP</td>\n      <td>1601355347</td>\n    </tr>\n    <tr>\n      <th>431</th>\n      <td>turbat</td>\n      <td>26.00</td>\n      <td>63.04</td>\n      <td>28.93</td>\n      <td>58</td>\n      <td>0</td>\n      <td>1.81</td>\n      <td>PK</td>\n      <td>1601355360</td>\n    </tr>\n    <tr>\n      <th>445</th>\n      <td>mirpur sakro</td>\n      <td>33.15</td>\n      <td>73.76</td>\n      <td>29.88</td>\n      <td>29</td>\n      <td>0</td>\n      <td>1.17</td>\n      <td>PK</td>\n      <td>1601355370</td>\n    </tr>\n    <tr>\n      <th>464</th>\n      <td>salamiyah</td>\n      <td>35.01</td>\n      <td>37.05</td>\n      <td>25.49</td>\n      <td>40</td>\n      <td>0</td>\n      <td>1.96</td>\n      <td>SY</td>\n      <td>1601355385</td>\n    </tr>\n    <tr>\n      <th>481</th>\n      <td>mana</td>\n      <td>5.66</td>\n      <td>-53.78</td>\n      <td>25.54</td>\n      <td>85</td>\n      <td>0</td>\n      <td>5.08</td>\n      <td>GF</td>\n      <td>1601355396</td>\n    </tr>\n  </tbody>\n</table>\n</div>"
     },
     "metadata": {},
     "execution_count": 6
    }
   ],
   "source": [
    "# The most ideal vacations involve destinations with minimal cloud cover as well as having temperatures within the range of 20-30 degrees celcius. As such, there datframe will be narrowed down further in order to find hotels within these regions that have the ideal weather. \n",
    "\n",
    "ideal_weather_df = weather_df.loc[\n",
    "    (weather_df['Cloudiness']==0) & \n",
    "    (weather_df['Wind Speed'] <= 10) & \n",
    "    (weather_df['Max Temp'] >= 20) &\n",
    "    (weather_df['Max Temp'] <= 30)].dropna()\n",
    "\n",
    "print(f' The Number of Ideal Cities within the ideal weather criteria are {len(ideal_weather_df)}')\n",
    "ideal_weather_df\n"
   ]
  },
  {
   "cell_type": "markdown",
   "metadata": {},
   "source": [
    "### Hotel Map\n",
    "* Store into variable named `hotel_df`.\n",
    "* Add a \"Hotel Name\" column to the DataFrame.\n",
    "* Set parameters to search for hotels with 5000 meters.\n",
    "* Hit the Google Places API for each city's coordinates.\n",
    "* Store the first Hotel result into the DataFrame.\n",
    "* Plot markers on top of the heatmap."
   ]
  },
  {
   "cell_type": "code",
   "execution_count": 7,
   "metadata": {},
   "outputs": [
    {
     "output_type": "execute_result",
     "data": {
      "text/plain": "             City  Lattitude  Longitude Country Hotel Name\n48      geraldton     -28.77     114.60      AU           \n68       benghazi      32.12      20.07      LY           \n81         gilgit      35.92      74.31      PK           \n98         jiwani      25.05      61.74      PK           \n164        tiznit      29.58      -9.50      MA           \n193        mocuba     -16.84      36.99      MZ           \n216      damnagar      21.70      71.52      IN           \n230         caico      -6.46     -37.10      BR           \n236        darnah      32.77      22.64      LY           \n254   saint-louis      16.33     -15.00      SN           \n367          atar      20.52     -13.05      MR           \n405        turayf      31.67      38.66      SA           \n413       pokhara      28.23      83.98      NP           \n431        turbat      26.00      63.04      PK           \n445  mirpur sakro      33.15      73.76      PK           \n464     salamiyah      35.01      37.05      SY           \n481          mana       5.66     -53.78      GF           ",
      "text/html": "<div>\n<style scoped>\n    .dataframe tbody tr th:only-of-type {\n        vertical-align: middle;\n    }\n\n    .dataframe tbody tr th {\n        vertical-align: top;\n    }\n\n    .dataframe thead th {\n        text-align: right;\n    }\n</style>\n<table border=\"1\" class=\"dataframe\">\n  <thead>\n    <tr style=\"text-align: right;\">\n      <th></th>\n      <th>City</th>\n      <th>Lattitude</th>\n      <th>Longitude</th>\n      <th>Country</th>\n      <th>Hotel Name</th>\n    </tr>\n  </thead>\n  <tbody>\n    <tr>\n      <th>48</th>\n      <td>geraldton</td>\n      <td>-28.77</td>\n      <td>114.60</td>\n      <td>AU</td>\n      <td></td>\n    </tr>\n    <tr>\n      <th>68</th>\n      <td>benghazi</td>\n      <td>32.12</td>\n      <td>20.07</td>\n      <td>LY</td>\n      <td></td>\n    </tr>\n    <tr>\n      <th>81</th>\n      <td>gilgit</td>\n      <td>35.92</td>\n      <td>74.31</td>\n      <td>PK</td>\n      <td></td>\n    </tr>\n    <tr>\n      <th>98</th>\n      <td>jiwani</td>\n      <td>25.05</td>\n      <td>61.74</td>\n      <td>PK</td>\n      <td></td>\n    </tr>\n    <tr>\n      <th>164</th>\n      <td>tiznit</td>\n      <td>29.58</td>\n      <td>-9.50</td>\n      <td>MA</td>\n      <td></td>\n    </tr>\n    <tr>\n      <th>193</th>\n      <td>mocuba</td>\n      <td>-16.84</td>\n      <td>36.99</td>\n      <td>MZ</td>\n      <td></td>\n    </tr>\n    <tr>\n      <th>216</th>\n      <td>damnagar</td>\n      <td>21.70</td>\n      <td>71.52</td>\n      <td>IN</td>\n      <td></td>\n    </tr>\n    <tr>\n      <th>230</th>\n      <td>caico</td>\n      <td>-6.46</td>\n      <td>-37.10</td>\n      <td>BR</td>\n      <td></td>\n    </tr>\n    <tr>\n      <th>236</th>\n      <td>darnah</td>\n      <td>32.77</td>\n      <td>22.64</td>\n      <td>LY</td>\n      <td></td>\n    </tr>\n    <tr>\n      <th>254</th>\n      <td>saint-louis</td>\n      <td>16.33</td>\n      <td>-15.00</td>\n      <td>SN</td>\n      <td></td>\n    </tr>\n    <tr>\n      <th>367</th>\n      <td>atar</td>\n      <td>20.52</td>\n      <td>-13.05</td>\n      <td>MR</td>\n      <td></td>\n    </tr>\n    <tr>\n      <th>405</th>\n      <td>turayf</td>\n      <td>31.67</td>\n      <td>38.66</td>\n      <td>SA</td>\n      <td></td>\n    </tr>\n    <tr>\n      <th>413</th>\n      <td>pokhara</td>\n      <td>28.23</td>\n      <td>83.98</td>\n      <td>NP</td>\n      <td></td>\n    </tr>\n    <tr>\n      <th>431</th>\n      <td>turbat</td>\n      <td>26.00</td>\n      <td>63.04</td>\n      <td>PK</td>\n      <td></td>\n    </tr>\n    <tr>\n      <th>445</th>\n      <td>mirpur sakro</td>\n      <td>33.15</td>\n      <td>73.76</td>\n      <td>PK</td>\n      <td></td>\n    </tr>\n    <tr>\n      <th>464</th>\n      <td>salamiyah</td>\n      <td>35.01</td>\n      <td>37.05</td>\n      <td>SY</td>\n      <td></td>\n    </tr>\n    <tr>\n      <th>481</th>\n      <td>mana</td>\n      <td>5.66</td>\n      <td>-53.78</td>\n      <td>GF</td>\n      <td></td>\n    </tr>\n  </tbody>\n</table>\n</div>"
     },
     "metadata": {},
     "execution_count": 7
    }
   ],
   "source": [
    "# Creating a New Hotel DataFram\n",
    "hotel_df = ideal_weather_df.copy().drop(columns={'Date', 'Wind Speed','Max Temp','Humidity','Cloudiness'})\n",
    "\n",
    "hotel_df['Hotel Name'] = \"\"\n",
    "\n",
    "hotel_df\n"
   ]
  },
  {
   "cell_type": "code",
   "execution_count": 8,
   "metadata": {
    "tags": []
   },
   "outputs": [
    {
     "output_type": "stream",
     "name": "stdout",
     "text": "Data retrival in progress\nFinding nearest hotel for geraldton\n--------------------------\nFinding nearest hotel for benghazi\n--------------------------\nFinding nearest hotel for gilgit\n--------------------------\nFinding nearest hotel for jiwani\n--------------------------\nFinding nearest hotel for tiznit\n--------------------------\nThere are no Hotels for tiznit, moving on to the next city....\n\nFinding nearest hotel for mocuba\n--------------------------\nFinding nearest hotel for damnagar\n--------------------------\nFinding nearest hotel for caico\n--------------------------\nFinding nearest hotel for darnah\n--------------------------\nFinding nearest hotel for saint-louis\n--------------------------\nThere are no Hotels for saint-louis, moving on to the next city....\n\nFinding nearest hotel for atar\n--------------------------\nFinding nearest hotel for turayf\n--------------------------\nFinding nearest hotel for pokhara\n--------------------------\nFinding nearest hotel for turbat\n--------------------------\nFinding nearest hotel for mirpur sakro\n--------------------------\nFinding nearest hotel for salamiyah\n--------------------------\nFinding nearest hotel for mana\n--------------------------\nEnd of Data Retreival\n*********************\nRemoving cities where hotels could not be retreived\n"
    }
   ],
   "source": [
    "# Setting up the parameters to determine the closest hotels within a 5 km radium (5000 m)\n",
    "\n",
    "base_url = \"https://maps.googleapis.com/maps/api/place/nearbysearch/json\"\n",
    "\n",
    "# Setting up the search parameters\n",
    "params = {\n",
    "    'type':'hotel',\n",
    "    'keyword': 'hotel',\n",
    "    'radius': 5000,\n",
    "    'key': g_key\n",
    "}\n",
    "\n",
    "# We will be itterating through the rows in order to hotels within the defined radius of the coordinates of each city\n",
    "print(f'Data retrival in progress')\n",
    "for index, row in hotel_df.iterrows():\n",
    "    latitude = row['Lattitude']\n",
    "    longitude = row['Longitude']\n",
    "    city = row['City']\n",
    "\n",
    "    # Now that the latitude and longitude has been defined, these need to be added to the dictionary\n",
    "\n",
    "    params['location'] = f'{latitude},{longitude}'\n",
    "\n",
    "    \n",
    "    response = requests.get(base_url, params=params).json()\n",
    "\n",
    "    search_results = response['results']\n",
    "\n",
    "    try:\n",
    "        print(f'Finding nearest hotel for {city}\\n--------------------------')\n",
    "        hotel_df.loc[index, 'Hotel Name'] = search_results[0]['name']\n",
    "    \n",
    "    except (KeyError, IndexError):\n",
    "        print(f'There are no Hotels for {city}, moving on to the next city....\\n')\n",
    "\n",
    "\n",
    "print('End of Data Retreival\\n*********************')\n",
    "print(f'Removing cities where hotels could not be retreived')\n",
    "hotel_df = hotel_df[hotel_df['Hotel Name']!=\"\"]\n",
    "\n",
    "\n"
   ]
  },
  {
   "cell_type": "code",
   "execution_count": 9,
   "metadata": {},
   "outputs": [
    {
     "output_type": "execute_result",
     "data": {
      "text/plain": "             City  Lattitude  Longitude Country  \\\n48      geraldton     -28.77     114.60      AU   \n68       benghazi      32.12      20.07      LY   \n81         gilgit      35.92      74.31      PK   \n98         jiwani      25.05      61.74      PK   \n193        mocuba     -16.84      36.99      MZ   \n216      damnagar      21.70      71.52      IN   \n230         caico      -6.46     -37.10      BR   \n236        darnah      32.77      22.64      LY   \n367          atar      20.52     -13.05      MR   \n405        turayf      31.67      38.66      SA   \n413       pokhara      28.23      83.98      NP   \n431        turbat      26.00      63.04      PK   \n445  mirpur sakro      33.15      73.76      PK   \n464     salamiyah      35.01      37.05      SY   \n481          mana       5.66     -53.78      GF   \n\n                                 Hotel Name  \n48               The Gerald Apartment Hotel  \n68                            Tibesti Hotel  \n81                      Gilgit Serena Hotel  \n98                             Victoria Hut  \n193                            Pensão Venus  \n216                      Gujarat tea centre  \n230                     Hotel Porto Bello 2  \n236                             فندق النعيم  \n367                            Odar kanawal  \n405                       Golden Dune Hotel  \n413                   Himalayan Front Hotel  \n431                            Shapur Hotel  \n445              Grand Regency Hotel Mirpur  \n464  Resort Safari Souria منتجع سفاري سورية  \n481                               LE SAMANA  ",
      "text/html": "<div>\n<style scoped>\n    .dataframe tbody tr th:only-of-type {\n        vertical-align: middle;\n    }\n\n    .dataframe tbody tr th {\n        vertical-align: top;\n    }\n\n    .dataframe thead th {\n        text-align: right;\n    }\n</style>\n<table border=\"1\" class=\"dataframe\">\n  <thead>\n    <tr style=\"text-align: right;\">\n      <th></th>\n      <th>City</th>\n      <th>Lattitude</th>\n      <th>Longitude</th>\n      <th>Country</th>\n      <th>Hotel Name</th>\n    </tr>\n  </thead>\n  <tbody>\n    <tr>\n      <th>48</th>\n      <td>geraldton</td>\n      <td>-28.77</td>\n      <td>114.60</td>\n      <td>AU</td>\n      <td>The Gerald Apartment Hotel</td>\n    </tr>\n    <tr>\n      <th>68</th>\n      <td>benghazi</td>\n      <td>32.12</td>\n      <td>20.07</td>\n      <td>LY</td>\n      <td>Tibesti Hotel</td>\n    </tr>\n    <tr>\n      <th>81</th>\n      <td>gilgit</td>\n      <td>35.92</td>\n      <td>74.31</td>\n      <td>PK</td>\n      <td>Gilgit Serena Hotel</td>\n    </tr>\n    <tr>\n      <th>98</th>\n      <td>jiwani</td>\n      <td>25.05</td>\n      <td>61.74</td>\n      <td>PK</td>\n      <td>Victoria Hut</td>\n    </tr>\n    <tr>\n      <th>193</th>\n      <td>mocuba</td>\n      <td>-16.84</td>\n      <td>36.99</td>\n      <td>MZ</td>\n      <td>Pensão Venus</td>\n    </tr>\n    <tr>\n      <th>216</th>\n      <td>damnagar</td>\n      <td>21.70</td>\n      <td>71.52</td>\n      <td>IN</td>\n      <td>Gujarat tea centre</td>\n    </tr>\n    <tr>\n      <th>230</th>\n      <td>caico</td>\n      <td>-6.46</td>\n      <td>-37.10</td>\n      <td>BR</td>\n      <td>Hotel Porto Bello 2</td>\n    </tr>\n    <tr>\n      <th>236</th>\n      <td>darnah</td>\n      <td>32.77</td>\n      <td>22.64</td>\n      <td>LY</td>\n      <td>فندق النعيم</td>\n    </tr>\n    <tr>\n      <th>367</th>\n      <td>atar</td>\n      <td>20.52</td>\n      <td>-13.05</td>\n      <td>MR</td>\n      <td>Odar kanawal</td>\n    </tr>\n    <tr>\n      <th>405</th>\n      <td>turayf</td>\n      <td>31.67</td>\n      <td>38.66</td>\n      <td>SA</td>\n      <td>Golden Dune Hotel</td>\n    </tr>\n    <tr>\n      <th>413</th>\n      <td>pokhara</td>\n      <td>28.23</td>\n      <td>83.98</td>\n      <td>NP</td>\n      <td>Himalayan Front Hotel</td>\n    </tr>\n    <tr>\n      <th>431</th>\n      <td>turbat</td>\n      <td>26.00</td>\n      <td>63.04</td>\n      <td>PK</td>\n      <td>Shapur Hotel</td>\n    </tr>\n    <tr>\n      <th>445</th>\n      <td>mirpur sakro</td>\n      <td>33.15</td>\n      <td>73.76</td>\n      <td>PK</td>\n      <td>Grand Regency Hotel Mirpur</td>\n    </tr>\n    <tr>\n      <th>464</th>\n      <td>salamiyah</td>\n      <td>35.01</td>\n      <td>37.05</td>\n      <td>SY</td>\n      <td>Resort Safari Souria منتجع سفاري سورية</td>\n    </tr>\n    <tr>\n      <th>481</th>\n      <td>mana</td>\n      <td>5.66</td>\n      <td>-53.78</td>\n      <td>GF</td>\n      <td>LE SAMANA</td>\n    </tr>\n  </tbody>\n</table>\n</div>"
     },
     "metadata": {},
     "execution_count": 9
    }
   ],
   "source": [
    "# Results of the Hotel Search\n",
    "hotel_df"
   ]
  },
  {
   "cell_type": "code",
   "execution_count": 10,
   "metadata": {},
   "outputs": [],
   "source": [
    "# NOTE: Do not change any of the code in this cell\n",
    "\n",
    "# Using the template add the hotel marks to the heatmap\n",
    "info_box_template = \"\"\"\n",
    "<dl>\n",
    "<dt>Name</dt><dd>{Hotel Name}</dd>\n",
    "<dt>City</dt><dd>{City}</dd>\n",
    "<dt>Country</dt><dd>{Country}</dd>\n",
    "</dl>\n",
    "\"\"\"\n",
    "# Store the DataFrame Row\n",
    "# NOTE: be sure to update with your DataFrame name\n",
    "hotel_info = [info_box_template.format(**row) for index, row in hotel_df.iterrows()]\n",
    "locations = hotel_df[[\"Lattitude\", \"Longitude\"]]"
   ]
  },
  {
   "cell_type": "code",
   "execution_count": 11,
   "metadata": {},
   "outputs": [
    {
     "output_type": "display_data",
     "data": {
      "text/plain": "Figure(layout=FigureLayout(height='420px'))",
      "application/vnd.jupyter.widget-view+json": {
       "version_major": 2,
       "version_minor": 0,
       "model_id": "3b190349d3db48a6b5af52ba5d883809"
      }
     },
     "metadata": {}
    }
   ],
   "source": [
    "# Add marker layer ontop of heat map\n",
    "hotel_marker = gmaps.marker_layer(locations, info_box_content=hotel_info)\n",
    "\n",
    "# We will add the new layer to the previous humidity heatmap\n",
    "fig.add_layer(hotel_marker)\n",
    "\n",
    "# Display figure\n",
    "fig"
   ]
  },
  {
   "cell_type": "code",
   "execution_count": null,
   "metadata": {},
   "outputs": [],
   "source": []
  }
 ],
 "metadata": {
  "kernelspec": {
   "name": "python_defaultSpec_1601355576745",
   "display_name": "Python 3.6.12 64-bit ('apiproject': conda)",
   "metadata": {
    "interpreter": {
     "hash": "6858991ae45970477c979e20bd003b285324046a59fb015a65b3ffb3c3b75fd3"
    }
   }
  },
  "language_info": {
   "codemirror_mode": {
    "name": "ipython",
    "version": 3
   },
   "file_extension": ".py",
   "mimetype": "text/x-python",
   "name": "python",
   "nbconvert_exporter": "python",
   "pygments_lexer": "ipython3",
   "version": "3.6.12-final"
  },
  "latex_envs": {
   "LaTeX_envs_menu_present": true,
   "autoclose": false,
   "autocomplete": true,
   "bibliofile": "biblio.bib",
   "cite_by": "apalike",
   "current_citInitial": 1,
   "eqLabelWithNumbers": true,
   "eqNumInitial": 1,
   "hotkeys": {
    "equation": "Ctrl-E",
    "itemize": "Ctrl-I"
   },
   "labels_anchors": false,
   "latex_user_defs": false,
   "report_style_numbering": false,
   "user_envs_cfg": false
  }
 },
 "nbformat": 4,
 "nbformat_minor": 4
}