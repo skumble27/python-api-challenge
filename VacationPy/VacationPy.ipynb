{
 "cells": [
  {
   "cell_type": "markdown",
   "metadata": {},
   "source": [
    "# VacationPy\n",
    "----\n",
    "\n",
    "#### Note\n",
    "* Keep an eye on your API usage. Use https://developers.google.com/maps/reporting/gmp-reporting as reference for how to monitor your usage and billing.\n",
    "\n",
    "* Instructions have been included for each segment. You do not have to follow them exactly, but they are included to help you think through the steps."
   ]
  },
  {
   "cell_type": "code",
   "execution_count": 1,
   "metadata": {},
   "outputs": [],
   "source": [
    "# Dependencies and Setup\n",
    "import matplotlib.pyplot as plt\n",
    "import pandas as pd\n",
    "import numpy as np\n",
    "import requests\n",
    "import gmaps\n",
    "import os\n",
    "\n",
    "# Import API key\n",
    "from api_keys import g_key\n",
    "\n",
    "# Configure the API Key\n",
    "gmaps.configure(api_key=g_key)"
   ]
  },
  {
   "cell_type": "markdown",
   "metadata": {},
   "source": [
    "### Store Part I results into DataFrame\n",
    "* Load the csv exported in Part I to a DataFrame"
   ]
  },
  {
   "cell_type": "code",
   "execution_count": 2,
   "metadata": {},
   "outputs": [
    {
     "output_type": "execute_result",
     "data": {
      "text/plain": "       City  Lattitude  Longitude  Max Temp  Humidity  Cloudiness  Wind Speed  \\\n0  pindwara      24.80      73.07     30.38        47           0        2.68   \n1    linxia      35.60     103.21     14.58        55          86        1.62   \n2  kiblawan       6.61     125.24     32.00        59          40        5.10   \n3    atuona      -9.80    -139.03     25.79        77           3        9.78   \n4   kavieng      -2.57     150.80     29.15        70          93        2.15   \n\n  Country        Date  \n0      IN  1601527781  \n1      CN  1601527781  \n2      PH  1601527782  \n3      PF  1601527783  \n4      PG  1601527784  ",
      "text/html": "<div>\n<style scoped>\n    .dataframe tbody tr th:only-of-type {\n        vertical-align: middle;\n    }\n\n    .dataframe tbody tr th {\n        vertical-align: top;\n    }\n\n    .dataframe thead th {\n        text-align: right;\n    }\n</style>\n<table border=\"1\" class=\"dataframe\">\n  <thead>\n    <tr style=\"text-align: right;\">\n      <th></th>\n      <th>City</th>\n      <th>Lattitude</th>\n      <th>Longitude</th>\n      <th>Max Temp</th>\n      <th>Humidity</th>\n      <th>Cloudiness</th>\n      <th>Wind Speed</th>\n      <th>Country</th>\n      <th>Date</th>\n    </tr>\n  </thead>\n  <tbody>\n    <tr>\n      <th>0</th>\n      <td>pindwara</td>\n      <td>24.80</td>\n      <td>73.07</td>\n      <td>30.38</td>\n      <td>47</td>\n      <td>0</td>\n      <td>2.68</td>\n      <td>IN</td>\n      <td>1601527781</td>\n    </tr>\n    <tr>\n      <th>1</th>\n      <td>linxia</td>\n      <td>35.60</td>\n      <td>103.21</td>\n      <td>14.58</td>\n      <td>55</td>\n      <td>86</td>\n      <td>1.62</td>\n      <td>CN</td>\n      <td>1601527781</td>\n    </tr>\n    <tr>\n      <th>2</th>\n      <td>kiblawan</td>\n      <td>6.61</td>\n      <td>125.24</td>\n      <td>32.00</td>\n      <td>59</td>\n      <td>40</td>\n      <td>5.10</td>\n      <td>PH</td>\n      <td>1601527782</td>\n    </tr>\n    <tr>\n      <th>3</th>\n      <td>atuona</td>\n      <td>-9.80</td>\n      <td>-139.03</td>\n      <td>25.79</td>\n      <td>77</td>\n      <td>3</td>\n      <td>9.78</td>\n      <td>PF</td>\n      <td>1601527783</td>\n    </tr>\n    <tr>\n      <th>4</th>\n      <td>kavieng</td>\n      <td>-2.57</td>\n      <td>150.80</td>\n      <td>29.15</td>\n      <td>70</td>\n      <td>93</td>\n      <td>2.15</td>\n      <td>PG</td>\n      <td>1601527784</td>\n    </tr>\n  </tbody>\n</table>\n</div>"
     },
     "metadata": {},
     "execution_count": 2
    }
   ],
   "source": [
    "weather_df = pd.read_csv('..\\Output_Data\\Weather_Data_Collection.csv')\n",
    "weather_df = weather_df.drop(columns={'Unnamed: 0'})\n",
    "weather_df.head()\n",
    "\n"
   ]
  },
  {
   "cell_type": "markdown",
   "metadata": {},
   "source": [
    "### Humidity Heatmap\n",
    "* Configure gmaps.\n",
    "* Use the Lat and Lng as locations and Humidity as the weight.\n",
    "* Add Heatmap layer to map."
   ]
  },
  {
   "cell_type": "code",
   "execution_count": 3,
   "metadata": {},
   "outputs": [
    {
     "output_type": "execute_result",
     "data": {
      "text/plain": "   Lattitude  Longitude\n0      24.80      73.07\n1      35.60     103.21\n2       6.61     125.24\n3      -9.80    -139.03\n4      -2.57     150.80",
      "text/html": "<div>\n<style scoped>\n    .dataframe tbody tr th:only-of-type {\n        vertical-align: middle;\n    }\n\n    .dataframe tbody tr th {\n        vertical-align: top;\n    }\n\n    .dataframe thead th {\n        text-align: right;\n    }\n</style>\n<table border=\"1\" class=\"dataframe\">\n  <thead>\n    <tr style=\"text-align: right;\">\n      <th></th>\n      <th>Lattitude</th>\n      <th>Longitude</th>\n    </tr>\n  </thead>\n  <tbody>\n    <tr>\n      <th>0</th>\n      <td>24.80</td>\n      <td>73.07</td>\n    </tr>\n    <tr>\n      <th>1</th>\n      <td>35.60</td>\n      <td>103.21</td>\n    </tr>\n    <tr>\n      <th>2</th>\n      <td>6.61</td>\n      <td>125.24</td>\n    </tr>\n    <tr>\n      <th>3</th>\n      <td>-9.80</td>\n      <td>-139.03</td>\n    </tr>\n    <tr>\n      <th>4</th>\n      <td>-2.57</td>\n      <td>150.80</td>\n    </tr>\n  </tbody>\n</table>\n</div>"
     },
     "metadata": {},
     "execution_count": 3
    }
   ],
   "source": [
    "# Obtaining the Coordinates to plot on the map\n",
    "city_locations = weather_df[['Lattitude','Longitude']].astype(float)\n",
    "city_locations.head()"
   ]
  },
  {
   "cell_type": "code",
   "execution_count": 4,
   "metadata": {},
   "outputs": [
    {
     "output_type": "execute_result",
     "data": {
      "text/plain": "0    47\n1    55\n2    59\n3    77\n4    70\nName: Humidity, dtype: int64"
     },
     "metadata": {},
     "execution_count": 4
    }
   ],
   "source": [
    "# Humidity values\n",
    "humidity_data = weather_df['Humidity']\n",
    "humidity_data.head()"
   ]
  },
  {
   "cell_type": "code",
   "execution_count": 5,
   "metadata": {},
   "outputs": [
    {
     "output_type": "display_data",
     "data": {
      "text/plain": "Figure(layout=FigureLayout(height=&#39;420px&#39;))",
      "application/vnd.jupyter.widget-view+json": {
       "version_major": 2,
       "version_minor": 0,
       "model_id": "72b008199c5c4ea790646cf52999c59c"
      }
     },
     "metadata": {}
    }
   ],
   "source": [
    "# Creating a Humidity Heatmap Layer\n",
    "fig = gmaps.figure()\n",
    "\n",
    "humidity_layer = gmaps.heatmap_layer(city_locations, weights=humidity_data, dissipating=False, max_intensity=100, point_radius=2)\n",
    "\n",
    "fig.add_layer(humidity_layer)\n",
    "\n",
    "fig\n",
    "\n"
   ]
  },
  {
   "cell_type": "code",
   "execution_count": null,
   "metadata": {},
   "outputs": [],
   "source": []
  },
  {
   "cell_type": "markdown",
   "metadata": {},
   "source": [
    "### Create new DataFrame fitting weather criteria\n",
    "* Narrow down the cities to fit weather conditions.\n",
    "* Drop any rows will null values."
   ]
  },
  {
   "cell_type": "code",
   "execution_count": 6,
   "metadata": {
    "tags": []
   },
   "outputs": [
    {
     "output_type": "stream",
     "name": "stdout",
     "text": " The Number of Ideal Cities within the ideal weather criteria are 20\n"
    },
    {
     "output_type": "execute_result",
     "data": {
      "text/plain": "            City  Lattitude  Longitude  Max Temp  Humidity  Cloudiness  \\\n60     caravelas     -17.71     -39.25     21.99        91           0   \n75        barkot      30.82      78.20     27.41        29           0   \n83   charlestown     -32.95     151.67     27.78        60           0   \n104       cuamba     -14.80      36.54     24.46        54           0   \n110       aleppo      36.25      37.50     21.98        65           0   \n148     benghazi      32.12      20.07     21.64        68           0   \n201      bushehr      28.97      50.84     30.00        62           0   \n235      pahrump      36.21    -115.98     22.78        14           0   \n240      kodinar      20.79      70.70     28.65        69           0   \n241         aden      12.78      45.04     29.84        70           0   \n289          bam      29.11      58.36     25.37        20           0   \n348       sydney     -33.87     151.21     25.00        22           0   \n350    carnarvon     -24.87     113.63     23.00        64           0   \n392        mecca      21.43      39.83     29.49        63           0   \n397        jumla      29.27      82.18     23.30        34           0   \n424        ginda      30.69      78.49     27.00        65           0   \n458    dharchula      29.85      80.53     26.46        41           0   \n466       marzuq      14.40      46.47     26.55        32           0   \n492        surab      28.49      66.26     21.35        25           0   \n530   piranshahr      36.70      45.14     20.09        28           0   \n\n     Wind Speed Country        Date  \n60         2.25      BR  1601527819  \n75         1.49      IN  1601527830  \n83         2.87      AU  1601527835  \n104        0.62      MZ  1601527847  \n110        5.69      SY  1601527851  \n148        1.74      LY  1601527876  \n201        1.61      IR  1601527907  \n235        0.45      US  1601527836  \n240        3.72      IN  1601527931  \n241        5.42      YE  1601527931  \n289        0.82      IR  1601527962  \n348        4.10      AU  1601527225  \n350        9.30      AU  1601528000  \n392        2.70      SA  1601528028  \n397        2.07      NP  1601528031  \n424        1.88      IN  1601528050  \n458        2.35      IN  1601528070  \n466        2.65      YE  1601528075  \n492        6.64      PK  1601528090  \n530        0.83      IR  1601528113  ",
      "text/html": "<div>\n<style scoped>\n    .dataframe tbody tr th:only-of-type {\n        vertical-align: middle;\n    }\n\n    .dataframe tbody tr th {\n        vertical-align: top;\n    }\n\n    .dataframe thead th {\n        text-align: right;\n    }\n</style>\n<table border=\"1\" class=\"dataframe\">\n  <thead>\n    <tr style=\"text-align: right;\">\n      <th></th>\n      <th>City</th>\n      <th>Lattitude</th>\n      <th>Longitude</th>\n      <th>Max Temp</th>\n      <th>Humidity</th>\n      <th>Cloudiness</th>\n      <th>Wind Speed</th>\n      <th>Country</th>\n      <th>Date</th>\n    </tr>\n  </thead>\n  <tbody>\n    <tr>\n      <th>60</th>\n      <td>caravelas</td>\n      <td>-17.71</td>\n      <td>-39.25</td>\n      <td>21.99</td>\n      <td>91</td>\n      <td>0</td>\n      <td>2.25</td>\n      <td>BR</td>\n      <td>1601527819</td>\n    </tr>\n    <tr>\n      <th>75</th>\n      <td>barkot</td>\n      <td>30.82</td>\n      <td>78.20</td>\n      <td>27.41</td>\n      <td>29</td>\n      <td>0</td>\n      <td>1.49</td>\n      <td>IN</td>\n      <td>1601527830</td>\n    </tr>\n    <tr>\n      <th>83</th>\n      <td>charlestown</td>\n      <td>-32.95</td>\n      <td>151.67</td>\n      <td>27.78</td>\n      <td>60</td>\n      <td>0</td>\n      <td>2.87</td>\n      <td>AU</td>\n      <td>1601527835</td>\n    </tr>\n    <tr>\n      <th>104</th>\n      <td>cuamba</td>\n      <td>-14.80</td>\n      <td>36.54</td>\n      <td>24.46</td>\n      <td>54</td>\n      <td>0</td>\n      <td>0.62</td>\n      <td>MZ</td>\n      <td>1601527847</td>\n    </tr>\n    <tr>\n      <th>110</th>\n      <td>aleppo</td>\n      <td>36.25</td>\n      <td>37.50</td>\n      <td>21.98</td>\n      <td>65</td>\n      <td>0</td>\n      <td>5.69</td>\n      <td>SY</td>\n      <td>1601527851</td>\n    </tr>\n    <tr>\n      <th>148</th>\n      <td>benghazi</td>\n      <td>32.12</td>\n      <td>20.07</td>\n      <td>21.64</td>\n      <td>68</td>\n      <td>0</td>\n      <td>1.74</td>\n      <td>LY</td>\n      <td>1601527876</td>\n    </tr>\n    <tr>\n      <th>201</th>\n      <td>bushehr</td>\n      <td>28.97</td>\n      <td>50.84</td>\n      <td>30.00</td>\n      <td>62</td>\n      <td>0</td>\n      <td>1.61</td>\n      <td>IR</td>\n      <td>1601527907</td>\n    </tr>\n    <tr>\n      <th>235</th>\n      <td>pahrump</td>\n      <td>36.21</td>\n      <td>-115.98</td>\n      <td>22.78</td>\n      <td>14</td>\n      <td>0</td>\n      <td>0.45</td>\n      <td>US</td>\n      <td>1601527836</td>\n    </tr>\n    <tr>\n      <th>240</th>\n      <td>kodinar</td>\n      <td>20.79</td>\n      <td>70.70</td>\n      <td>28.65</td>\n      <td>69</td>\n      <td>0</td>\n      <td>3.72</td>\n      <td>IN</td>\n      <td>1601527931</td>\n    </tr>\n    <tr>\n      <th>241</th>\n      <td>aden</td>\n      <td>12.78</td>\n      <td>45.04</td>\n      <td>29.84</td>\n      <td>70</td>\n      <td>0</td>\n      <td>5.42</td>\n      <td>YE</td>\n      <td>1601527931</td>\n    </tr>\n    <tr>\n      <th>289</th>\n      <td>bam</td>\n      <td>29.11</td>\n      <td>58.36</td>\n      <td>25.37</td>\n      <td>20</td>\n      <td>0</td>\n      <td>0.82</td>\n      <td>IR</td>\n      <td>1601527962</td>\n    </tr>\n    <tr>\n      <th>348</th>\n      <td>sydney</td>\n      <td>-33.87</td>\n      <td>151.21</td>\n      <td>25.00</td>\n      <td>22</td>\n      <td>0</td>\n      <td>4.10</td>\n      <td>AU</td>\n      <td>1601527225</td>\n    </tr>\n    <tr>\n      <th>350</th>\n      <td>carnarvon</td>\n      <td>-24.87</td>\n      <td>113.63</td>\n      <td>23.00</td>\n      <td>64</td>\n      <td>0</td>\n      <td>9.30</td>\n      <td>AU</td>\n      <td>1601528000</td>\n    </tr>\n    <tr>\n      <th>392</th>\n      <td>mecca</td>\n      <td>21.43</td>\n      <td>39.83</td>\n      <td>29.49</td>\n      <td>63</td>\n      <td>0</td>\n      <td>2.70</td>\n      <td>SA</td>\n      <td>1601528028</td>\n    </tr>\n    <tr>\n      <th>397</th>\n      <td>jumla</td>\n      <td>29.27</td>\n      <td>82.18</td>\n      <td>23.30</td>\n      <td>34</td>\n      <td>0</td>\n      <td>2.07</td>\n      <td>NP</td>\n      <td>1601528031</td>\n    </tr>\n    <tr>\n      <th>424</th>\n      <td>ginda</td>\n      <td>30.69</td>\n      <td>78.49</td>\n      <td>27.00</td>\n      <td>65</td>\n      <td>0</td>\n      <td>1.88</td>\n      <td>IN</td>\n      <td>1601528050</td>\n    </tr>\n    <tr>\n      <th>458</th>\n      <td>dharchula</td>\n      <td>29.85</td>\n      <td>80.53</td>\n      <td>26.46</td>\n      <td>41</td>\n      <td>0</td>\n      <td>2.35</td>\n      <td>IN</td>\n      <td>1601528070</td>\n    </tr>\n    <tr>\n      <th>466</th>\n      <td>marzuq</td>\n      <td>14.40</td>\n      <td>46.47</td>\n      <td>26.55</td>\n      <td>32</td>\n      <td>0</td>\n      <td>2.65</td>\n      <td>YE</td>\n      <td>1601528075</td>\n    </tr>\n    <tr>\n      <th>492</th>\n      <td>surab</td>\n      <td>28.49</td>\n      <td>66.26</td>\n      <td>21.35</td>\n      <td>25</td>\n      <td>0</td>\n      <td>6.64</td>\n      <td>PK</td>\n      <td>1601528090</td>\n    </tr>\n    <tr>\n      <th>530</th>\n      <td>piranshahr</td>\n      <td>36.70</td>\n      <td>45.14</td>\n      <td>20.09</td>\n      <td>28</td>\n      <td>0</td>\n      <td>0.83</td>\n      <td>IR</td>\n      <td>1601528113</td>\n    </tr>\n  </tbody>\n</table>\n</div>"
     },
     "metadata": {},
     "execution_count": 6
    }
   ],
   "source": [
    "# The most ideal vacations involve destinations with minimal cloud cover as well as having temperatures within the range of 20-30 degrees celcius. As such, there datframe will be narrowed down further in order to find hotels within these regions that have the ideal weather. \n",
    "\n",
    "ideal_weather_df = weather_df.loc[\n",
    "    (weather_df['Cloudiness']==0) & \n",
    "    (weather_df['Wind Speed'] <= 10) & \n",
    "    (weather_df['Max Temp'] >= 20) &\n",
    "    (weather_df['Max Temp'] <= 30)].dropna()\n",
    "\n",
    "print(f' The Number of Ideal Cities within the ideal weather criteria are {len(ideal_weather_df)}')\n",
    "ideal_weather_df\n"
   ]
  },
  {
   "cell_type": "markdown",
   "metadata": {},
   "source": [
    "### Hotel Map\n",
    "* Store into variable named `hotel_df`.\n",
    "* Add a \"Hotel Name\" column to the DataFrame.\n",
    "* Set parameters to search for hotels with 5000 meters.\n",
    "* Hit the Google Places API for each city's coordinates.\n",
    "* Store the first Hotel result into the DataFrame.\n",
    "* Plot markers on top of the heatmap."
   ]
  },
  {
   "cell_type": "code",
   "execution_count": 7,
   "metadata": {},
   "outputs": [
    {
     "output_type": "execute_result",
     "data": {
      "text/plain": "            City  Lattitude  Longitude Country Hotel Name\n60     caravelas     -17.71     -39.25      BR           \n75        barkot      30.82      78.20      IN           \n83   charlestown     -32.95     151.67      AU           \n104       cuamba     -14.80      36.54      MZ           \n110       aleppo      36.25      37.50      SY           \n148     benghazi      32.12      20.07      LY           \n201      bushehr      28.97      50.84      IR           \n235      pahrump      36.21    -115.98      US           \n240      kodinar      20.79      70.70      IN           \n241         aden      12.78      45.04      YE           \n289          bam      29.11      58.36      IR           \n348       sydney     -33.87     151.21      AU           \n350    carnarvon     -24.87     113.63      AU           \n392        mecca      21.43      39.83      SA           \n397        jumla      29.27      82.18      NP           \n424        ginda      30.69      78.49      IN           \n458    dharchula      29.85      80.53      IN           \n466       marzuq      14.40      46.47      YE           \n492        surab      28.49      66.26      PK           \n530   piranshahr      36.70      45.14      IR           ",
      "text/html": "<div>\n<style scoped>\n    .dataframe tbody tr th:only-of-type {\n        vertical-align: middle;\n    }\n\n    .dataframe tbody tr th {\n        vertical-align: top;\n    }\n\n    .dataframe thead th {\n        text-align: right;\n    }\n</style>\n<table border=\"1\" class=\"dataframe\">\n  <thead>\n    <tr style=\"text-align: right;\">\n      <th></th>\n      <th>City</th>\n      <th>Lattitude</th>\n      <th>Longitude</th>\n      <th>Country</th>\n      <th>Hotel Name</th>\n    </tr>\n  </thead>\n  <tbody>\n    <tr>\n      <th>60</th>\n      <td>caravelas</td>\n      <td>-17.71</td>\n      <td>-39.25</td>\n      <td>BR</td>\n      <td></td>\n    </tr>\n    <tr>\n      <th>75</th>\n      <td>barkot</td>\n      <td>30.82</td>\n      <td>78.20</td>\n      <td>IN</td>\n      <td></td>\n    </tr>\n    <tr>\n      <th>83</th>\n      <td>charlestown</td>\n      <td>-32.95</td>\n      <td>151.67</td>\n      <td>AU</td>\n      <td></td>\n    </tr>\n    <tr>\n      <th>104</th>\n      <td>cuamba</td>\n      <td>-14.80</td>\n      <td>36.54</td>\n      <td>MZ</td>\n      <td></td>\n    </tr>\n    <tr>\n      <th>110</th>\n      <td>aleppo</td>\n      <td>36.25</td>\n      <td>37.50</td>\n      <td>SY</td>\n      <td></td>\n    </tr>\n    <tr>\n      <th>148</th>\n      <td>benghazi</td>\n      <td>32.12</td>\n      <td>20.07</td>\n      <td>LY</td>\n      <td></td>\n    </tr>\n    <tr>\n      <th>201</th>\n      <td>bushehr</td>\n      <td>28.97</td>\n      <td>50.84</td>\n      <td>IR</td>\n      <td></td>\n    </tr>\n    <tr>\n      <th>235</th>\n      <td>pahrump</td>\n      <td>36.21</td>\n      <td>-115.98</td>\n      <td>US</td>\n      <td></td>\n    </tr>\n    <tr>\n      <th>240</th>\n      <td>kodinar</td>\n      <td>20.79</td>\n      <td>70.70</td>\n      <td>IN</td>\n      <td></td>\n    </tr>\n    <tr>\n      <th>241</th>\n      <td>aden</td>\n      <td>12.78</td>\n      <td>45.04</td>\n      <td>YE</td>\n      <td></td>\n    </tr>\n    <tr>\n      <th>289</th>\n      <td>bam</td>\n      <td>29.11</td>\n      <td>58.36</td>\n      <td>IR</td>\n      <td></td>\n    </tr>\n    <tr>\n      <th>348</th>\n      <td>sydney</td>\n      <td>-33.87</td>\n      <td>151.21</td>\n      <td>AU</td>\n      <td></td>\n    </tr>\n    <tr>\n      <th>350</th>\n      <td>carnarvon</td>\n      <td>-24.87</td>\n      <td>113.63</td>\n      <td>AU</td>\n      <td></td>\n    </tr>\n    <tr>\n      <th>392</th>\n      <td>mecca</td>\n      <td>21.43</td>\n      <td>39.83</td>\n      <td>SA</td>\n      <td></td>\n    </tr>\n    <tr>\n      <th>397</th>\n      <td>jumla</td>\n      <td>29.27</td>\n      <td>82.18</td>\n      <td>NP</td>\n      <td></td>\n    </tr>\n    <tr>\n      <th>424</th>\n      <td>ginda</td>\n      <td>30.69</td>\n      <td>78.49</td>\n      <td>IN</td>\n      <td></td>\n    </tr>\n    <tr>\n      <th>458</th>\n      <td>dharchula</td>\n      <td>29.85</td>\n      <td>80.53</td>\n      <td>IN</td>\n      <td></td>\n    </tr>\n    <tr>\n      <th>466</th>\n      <td>marzuq</td>\n      <td>14.40</td>\n      <td>46.47</td>\n      <td>YE</td>\n      <td></td>\n    </tr>\n    <tr>\n      <th>492</th>\n      <td>surab</td>\n      <td>28.49</td>\n      <td>66.26</td>\n      <td>PK</td>\n      <td></td>\n    </tr>\n    <tr>\n      <th>530</th>\n      <td>piranshahr</td>\n      <td>36.70</td>\n      <td>45.14</td>\n      <td>IR</td>\n      <td></td>\n    </tr>\n  </tbody>\n</table>\n</div>"
     },
     "metadata": {},
     "execution_count": 7
    }
   ],
   "source": [
    "# Creating a New Hotel DataFram\n",
    "hotel_df = ideal_weather_df.copy().drop(columns={'Date', 'Wind Speed','Max Temp','Humidity','Cloudiness'})\n",
    "\n",
    "hotel_df['Hotel Name'] = \"\"\n",
    "\n",
    "hotel_df\n"
   ]
  },
  {
   "cell_type": "code",
   "execution_count": 8,
   "metadata": {
    "tags": []
   },
   "outputs": [
    {
     "output_type": "stream",
     "name": "stdout",
     "text": "Data retrival in progress\nFinding nearest hotel for caravelas\n--------------------------\nFinding nearest hotel for barkot\n--------------------------\nFinding nearest hotel for charlestown\n--------------------------\nFinding nearest hotel for cuamba\n--------------------------\nFinding nearest hotel for aleppo\n--------------------------\nThere are no Hotels for aleppo, moving on to the next city....\n\nFinding nearest hotel for benghazi\n--------------------------\nFinding nearest hotel for bushehr\n--------------------------\nFinding nearest hotel for pahrump\n--------------------------\nFinding nearest hotel for kodinar\n--------------------------\nFinding nearest hotel for aden\n--------------------------\nFinding nearest hotel for bam\n--------------------------\nFinding nearest hotel for sydney\n--------------------------\nFinding nearest hotel for carnarvon\n--------------------------\nFinding nearest hotel for mecca\n--------------------------\nFinding nearest hotel for jumla\n--------------------------\nFinding nearest hotel for ginda\n--------------------------\nFinding nearest hotel for dharchula\n--------------------------\nFinding nearest hotel for marzuq\n--------------------------\nThere are no Hotels for marzuq, moving on to the next city....\n\nFinding nearest hotel for surab\n--------------------------\nFinding nearest hotel for piranshahr\n--------------------------\nEnd of Data Retreival\n*********************\nRemoving cities where hotels could not be retreived\n"
    }
   ],
   "source": [
    "# Setting up the parameters to determine the closest hotels within a 5 km radium (5000 m)\n",
    "\n",
    "base_url = \"https://maps.googleapis.com/maps/api/place/nearbysearch/json\"\n",
    "\n",
    "# Setting up the search parameters\n",
    "params = {\n",
    "    'type':'hotel',\n",
    "    'keyword': 'hotel',\n",
    "    'radius': 5000,\n",
    "    'key': g_key\n",
    "}\n",
    "\n",
    "# We will be itterating through the rows in order to hotels within the defined radius of the coordinates of each city\n",
    "print(f'Data retrival in progress')\n",
    "for index, row in hotel_df.iterrows():\n",
    "    latitude = row['Lattitude']\n",
    "    longitude = row['Longitude']\n",
    "    city = row['City']\n",
    "\n",
    "    # Now that the latitude and longitude has been defined, these need to be added to the dictionary\n",
    "\n",
    "    params['location'] = f'{latitude},{longitude}'\n",
    "\n",
    "    \n",
    "    response = requests.get(base_url, params=params).json()\n",
    "\n",
    "    search_results = response['results']\n",
    "\n",
    "    try:\n",
    "        print(f'Finding nearest hotel for {city}\\n--------------------------')\n",
    "        hotel_df.loc[index, 'Hotel Name'] = search_results[0]['name']\n",
    "    \n",
    "    except (KeyError, IndexError):\n",
    "        print(f'There are no Hotels for {city}, moving on to the next city....\\n')\n",
    "\n",
    "\n",
    "print('End of Data Retreival\\n*********************')\n",
    "print(f'Removing cities where hotels could not be retreived')\n",
    "hotel_df = hotel_df[hotel_df['Hotel Name']!=\"\"]\n",
    "\n",
    "\n"
   ]
  },
  {
   "cell_type": "code",
   "execution_count": 9,
   "metadata": {},
   "outputs": [
    {
     "output_type": "execute_result",
     "data": {
      "text/plain": "            City  Lattitude  Longitude Country  \\\n60     caravelas     -17.71     -39.25      BR   \n75        barkot      30.82      78.20      IN   \n83   charlestown     -32.95     151.67      AU   \n104       cuamba     -14.80      36.54      MZ   \n148     benghazi      32.12      20.07      LY   \n201      bushehr      28.97      50.84      IR   \n235      pahrump      36.21    -115.98      US   \n240      kodinar      20.79      70.70      IN   \n241         aden      12.78      45.04      YE   \n289          bam      29.11      58.36      IR   \n348       sydney     -33.87     151.21      AU   \n350    carnarvon     -24.87     113.63      AU   \n392        mecca      21.43      39.83      SA   \n397        jumla      29.27      82.18      NP   \n424        ginda      30.69      78.49      IN   \n458    dharchula      29.85      80.53      IN   \n492        surab      28.49      66.26      PK   \n530   piranshahr      36.70      45.14      IR   \n\n                               Hotel Name  \n60               Pousada Encanto Abrolhos  \n75             HOTEL DIVINE (होटल डिवाइन)  \n83             Pippi&#39;s At The Point Hotel  \n104                      Daania Residence  \n148                      Al-Fadheel Hotel  \n201                          Delvar Hotel  \n235  Holiday Inn Express &amp; Suites Pahrump  \n240             Vinnca Hotel and Banquets  \n241                      Coral Hotel Aden  \n289                     Parsian Bam Hotel  \n348                      The Albert Hotel  \n350              Coral Coast Tourist Park  \n392                   Elaf Al Salam Hotel  \n397                        Shrestha Hotel  \n424      Shri Ganga Lok Hotels Uttarkashi  \n458                Himtop Hotel Dharchula  \n492                     Muslim Rent Rooms  \n530                           Hotel Ronak  ",
      "text/html": "<div>\n<style scoped>\n    .dataframe tbody tr th:only-of-type {\n        vertical-align: middle;\n    }\n\n    .dataframe tbody tr th {\n        vertical-align: top;\n    }\n\n    .dataframe thead th {\n        text-align: right;\n    }\n</style>\n<table border=\"1\" class=\"dataframe\">\n  <thead>\n    <tr style=\"text-align: right;\">\n      <th></th>\n      <th>City</th>\n      <th>Lattitude</th>\n      <th>Longitude</th>\n      <th>Country</th>\n      <th>Hotel Name</th>\n    </tr>\n  </thead>\n  <tbody>\n    <tr>\n      <th>60</th>\n      <td>caravelas</td>\n      <td>-17.71</td>\n      <td>-39.25</td>\n      <td>BR</td>\n      <td>Pousada Encanto Abrolhos</td>\n    </tr>\n    <tr>\n      <th>75</th>\n      <td>barkot</td>\n      <td>30.82</td>\n      <td>78.20</td>\n      <td>IN</td>\n      <td>HOTEL DIVINE (होटल डिवाइन)</td>\n    </tr>\n    <tr>\n      <th>83</th>\n      <td>charlestown</td>\n      <td>-32.95</td>\n      <td>151.67</td>\n      <td>AU</td>\n      <td>Pippi's At The Point Hotel</td>\n    </tr>\n    <tr>\n      <th>104</th>\n      <td>cuamba</td>\n      <td>-14.80</td>\n      <td>36.54</td>\n      <td>MZ</td>\n      <td>Daania Residence</td>\n    </tr>\n    <tr>\n      <th>148</th>\n      <td>benghazi</td>\n      <td>32.12</td>\n      <td>20.07</td>\n      <td>LY</td>\n      <td>Al-Fadheel Hotel</td>\n    </tr>\n    <tr>\n      <th>201</th>\n      <td>bushehr</td>\n      <td>28.97</td>\n      <td>50.84</td>\n      <td>IR</td>\n      <td>Delvar Hotel</td>\n    </tr>\n    <tr>\n      <th>235</th>\n      <td>pahrump</td>\n      <td>36.21</td>\n      <td>-115.98</td>\n      <td>US</td>\n      <td>Holiday Inn Express &amp; Suites Pahrump</td>\n    </tr>\n    <tr>\n      <th>240</th>\n      <td>kodinar</td>\n      <td>20.79</td>\n      <td>70.70</td>\n      <td>IN</td>\n      <td>Vinnca Hotel and Banquets</td>\n    </tr>\n    <tr>\n      <th>241</th>\n      <td>aden</td>\n      <td>12.78</td>\n      <td>45.04</td>\n      <td>YE</td>\n      <td>Coral Hotel Aden</td>\n    </tr>\n    <tr>\n      <th>289</th>\n      <td>bam</td>\n      <td>29.11</td>\n      <td>58.36</td>\n      <td>IR</td>\n      <td>Parsian Bam Hotel</td>\n    </tr>\n    <tr>\n      <th>348</th>\n      <td>sydney</td>\n      <td>-33.87</td>\n      <td>151.21</td>\n      <td>AU</td>\n      <td>The Albert Hotel</td>\n    </tr>\n    <tr>\n      <th>350</th>\n      <td>carnarvon</td>\n      <td>-24.87</td>\n      <td>113.63</td>\n      <td>AU</td>\n      <td>Coral Coast Tourist Park</td>\n    </tr>\n    <tr>\n      <th>392</th>\n      <td>mecca</td>\n      <td>21.43</td>\n      <td>39.83</td>\n      <td>SA</td>\n      <td>Elaf Al Salam Hotel</td>\n    </tr>\n    <tr>\n      <th>397</th>\n      <td>jumla</td>\n      <td>29.27</td>\n      <td>82.18</td>\n      <td>NP</td>\n      <td>Shrestha Hotel</td>\n    </tr>\n    <tr>\n      <th>424</th>\n      <td>ginda</td>\n      <td>30.69</td>\n      <td>78.49</td>\n      <td>IN</td>\n      <td>Shri Ganga Lok Hotels Uttarkashi</td>\n    </tr>\n    <tr>\n      <th>458</th>\n      <td>dharchula</td>\n      <td>29.85</td>\n      <td>80.53</td>\n      <td>IN</td>\n      <td>Himtop Hotel Dharchula</td>\n    </tr>\n    <tr>\n      <th>492</th>\n      <td>surab</td>\n      <td>28.49</td>\n      <td>66.26</td>\n      <td>PK</td>\n      <td>Muslim Rent Rooms</td>\n    </tr>\n    <tr>\n      <th>530</th>\n      <td>piranshahr</td>\n      <td>36.70</td>\n      <td>45.14</td>\n      <td>IR</td>\n      <td>Hotel Ronak</td>\n    </tr>\n  </tbody>\n</table>\n</div>"
     },
     "metadata": {},
     "execution_count": 9
    }
   ],
   "source": [
    "# Results of the Hotel Search\n",
    "hotel_df"
   ]
  },
  {
   "cell_type": "code",
   "execution_count": 10,
   "metadata": {},
   "outputs": [],
   "source": [
    "# NOTE: Do not change any of the code in this cell\n",
    "\n",
    "# Using the template add the hotel marks to the heatmap\n",
    "info_box_template = \"\"\"\n",
    "<dl>\n",
    "<dt>Name</dt><dd>{Hotel Name}</dd>\n",
    "<dt>City</dt><dd>{City}</dd>\n",
    "<dt>Country</dt><dd>{Country}</dd>\n",
    "</dl>\n",
    "\"\"\"\n",
    "# Store the DataFrame Row\n",
    "# NOTE: be sure to update with your DataFrame name\n",
    "hotel_info = [info_box_template.format(**row) for index, row in hotel_df.iterrows()]\n",
    "locations = hotel_df[[\"Lattitude\", \"Longitude\"]]"
   ]
  },
  {
   "cell_type": "code",
   "execution_count": 11,
   "metadata": {},
   "outputs": [
    {
     "output_type": "display_data",
     "data": {
      "text/plain": "Figure(layout=FigureLayout(height=&#39;420px&#39;))",
      "application/vnd.jupyter.widget-view+json": {
       "version_major": 2,
       "version_minor": 0,
       "model_id": "72b008199c5c4ea790646cf52999c59c"
      }
     },
     "metadata": {}
    }
   ],
   "source": [
    "# Add marker layer ontop of heat map\n",
    "hotel_marker = gmaps.marker_layer(locations, info_box_content=hotel_info)\n",
    "\n",
    "# We will add the new layer to the previous humidity heatmap\n",
    "fig.add_layer(hotel_marker)\n",
    "\n",
    "# Display figure\n",
    "fig"
   ]
  },
  {
   "cell_type": "code",
   "execution_count": null,
   "metadata": {},
   "outputs": [],
   "source": []
  }
 ],
 "metadata": {
  "kernelspec": {
   "name": "python_defaultSpec_1601528176850",
   "display_name": "Python 3.6.12 64-bit ('apiproject': conda)",
   "metadata": {
    "interpreter": {
     "hash": "6858991ae45970477c979e20bd003b285324046a59fb015a65b3ffb3c3b75fd3"
    }
   }
  },
  "language_info": {
   "codemirror_mode": {
    "name": "ipython",
    "version": 3
   },
   "file_extension": ".py",
   "mimetype": "text/x-python",
   "name": "python",
   "nbconvert_exporter": "python",
   "pygments_lexer": "ipython3",
   "version": "3.6.12-final"
  },
  "latex_envs": {
   "LaTeX_envs_menu_present": true,
   "autoclose": false,
   "autocomplete": true,
   "bibliofile": "biblio.bib",
   "cite_by": "apalike",
   "current_citInitial": 1,
   "eqLabelWithNumbers": true,
   "eqNumInitial": 1,
   "hotkeys": {
    "equation": "Ctrl-E",
    "itemize": "Ctrl-I"
   },
   "labels_anchors": false,
   "latex_user_defs": false,
   "report_style_numbering": false,
   "user_envs_cfg": false
  }
 },
 "nbformat": 4,
 "nbformat_minor": 4
}