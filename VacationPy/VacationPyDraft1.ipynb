{
 "cells": [
  {
   "cell_type": "markdown",
   "metadata": {},
   "source": [
    "# VacationPy\n",
    "----\n",
    "\n",
    "#### Note\n",
    "* Keep an eye on your API usage. Use https://developers.google.com/maps/reporting/gmp-reporting as reference for how to monitor your usage and billing.\n",
    "\n",
    "* Instructions have been included for each segment. You do not have to follow them exactly, but they are included to help you think through the steps."
   ]
  },
  {
   "cell_type": "code",
   "execution_count": 1,
   "metadata": {},
   "outputs": [],
   "source": [
    "# Dependencies and Setup\n",
    "import matplotlib.pyplot as plt\n",
    "import pandas as pd\n",
    "import numpy as np\n",
    "import requests\n",
    "import gmaps\n",
    "import os\n",
    "\n",
    "# Import API key\n",
    "from api_keys import g_key\n",
    "\n",
    "# Configure the API Key\n",
    "gmaps.configure(api_key=g_key)"
   ]
  },
  {
   "cell_type": "markdown",
   "metadata": {},
   "source": [
    "### Store Part I results into DataFrame\n",
    "* Load the csv exported in Part I to a DataFrame"
   ]
  },
  {
   "cell_type": "code",
   "execution_count": 2,
   "metadata": {},
   "outputs": [
    {
     "output_type": "execute_result",
     "data": {
      "text/plain": "          City  Lattitude  Longitude  Max Temp  Humidity  Cloudiness  \\\n0      chimore     -16.98     -65.13     21.93        95          83   \n1  yellowknife      62.46    -114.35      7.00        87          75   \n2       manama      26.22      50.58     32.00        59           0   \n3        cukai       4.25     103.42     27.00        83          40   \n4   sao filipe      20.51      76.21     22.99        89          16   \n\n   Wind Speed Country        Date  \n0        1.47      BO  1601260540  \n1        4.60      CA  1601260540  \n2        1.50      BH  1601260296  \n3        1.50      MY  1601260341  \n4        3.53      IN  1601260541  ",
      "text/html": "<div>\n<style scoped>\n    .dataframe tbody tr th:only-of-type {\n        vertical-align: middle;\n    }\n\n    .dataframe tbody tr th {\n        vertical-align: top;\n    }\n\n    .dataframe thead th {\n        text-align: right;\n    }\n</style>\n<table border=\"1\" class=\"dataframe\">\n  <thead>\n    <tr style=\"text-align: right;\">\n      <th></th>\n      <th>City</th>\n      <th>Lattitude</th>\n      <th>Longitude</th>\n      <th>Max Temp</th>\n      <th>Humidity</th>\n      <th>Cloudiness</th>\n      <th>Wind Speed</th>\n      <th>Country</th>\n      <th>Date</th>\n    </tr>\n  </thead>\n  <tbody>\n    <tr>\n      <th>0</th>\n      <td>chimore</td>\n      <td>-16.98</td>\n      <td>-65.13</td>\n      <td>21.93</td>\n      <td>95</td>\n      <td>83</td>\n      <td>1.47</td>\n      <td>BO</td>\n      <td>1601260540</td>\n    </tr>\n    <tr>\n      <th>1</th>\n      <td>yellowknife</td>\n      <td>62.46</td>\n      <td>-114.35</td>\n      <td>7.00</td>\n      <td>87</td>\n      <td>75</td>\n      <td>4.60</td>\n      <td>CA</td>\n      <td>1601260540</td>\n    </tr>\n    <tr>\n      <th>2</th>\n      <td>manama</td>\n      <td>26.22</td>\n      <td>50.58</td>\n      <td>32.00</td>\n      <td>59</td>\n      <td>0</td>\n      <td>1.50</td>\n      <td>BH</td>\n      <td>1601260296</td>\n    </tr>\n    <tr>\n      <th>3</th>\n      <td>cukai</td>\n      <td>4.25</td>\n      <td>103.42</td>\n      <td>27.00</td>\n      <td>83</td>\n      <td>40</td>\n      <td>1.50</td>\n      <td>MY</td>\n      <td>1601260341</td>\n    </tr>\n    <tr>\n      <th>4</th>\n      <td>sao filipe</td>\n      <td>20.51</td>\n      <td>76.21</td>\n      <td>22.99</td>\n      <td>89</td>\n      <td>16</td>\n      <td>3.53</td>\n      <td>IN</td>\n      <td>1601260541</td>\n    </tr>\n  </tbody>\n</table>\n</div>"
     },
     "metadata": {},
     "execution_count": 2
    }
   ],
   "source": [
    "weather_df = pd.read_csv('..\\Output_Data\\Weather_Data_Collection.csv')\n",
    "weather_df = weather_df.drop(columns={'Unnamed: 0'})\n",
    "weather_df.head()\n",
    "\n"
   ]
  },
  {
   "cell_type": "markdown",
   "metadata": {},
   "source": [
    "### Humidity Heatmap\n",
    "* Configure gmaps.\n",
    "* Use the Lat and Lng as locations and Humidity as the weight.\n",
    "* Add Heatmap layer to map."
   ]
  },
  {
   "cell_type": "code",
   "execution_count": 3,
   "metadata": {},
   "outputs": [
    {
     "output_type": "execute_result",
     "data": {
      "text/plain": "   Lattitude  Longitude\n0     -16.98     -65.13\n1      62.46    -114.35\n2      26.22      50.58\n3       4.25     103.42\n4      20.51      76.21",
      "text/html": "<div>\n<style scoped>\n    .dataframe tbody tr th:only-of-type {\n        vertical-align: middle;\n    }\n\n    .dataframe tbody tr th {\n        vertical-align: top;\n    }\n\n    .dataframe thead th {\n        text-align: right;\n    }\n</style>\n<table border=\"1\" class=\"dataframe\">\n  <thead>\n    <tr style=\"text-align: right;\">\n      <th></th>\n      <th>Lattitude</th>\n      <th>Longitude</th>\n    </tr>\n  </thead>\n  <tbody>\n    <tr>\n      <th>0</th>\n      <td>-16.98</td>\n      <td>-65.13</td>\n    </tr>\n    <tr>\n      <th>1</th>\n      <td>62.46</td>\n      <td>-114.35</td>\n    </tr>\n    <tr>\n      <th>2</th>\n      <td>26.22</td>\n      <td>50.58</td>\n    </tr>\n    <tr>\n      <th>3</th>\n      <td>4.25</td>\n      <td>103.42</td>\n    </tr>\n    <tr>\n      <th>4</th>\n      <td>20.51</td>\n      <td>76.21</td>\n    </tr>\n  </tbody>\n</table>\n</div>"
     },
     "metadata": {},
     "execution_count": 3
    }
   ],
   "source": [
    "# Obtaining the Coordinates to plot on the map\n",
    "city_locations = weather_df[['Lattitude','Longitude']].astype(float)\n",
    "city_locations.head()"
   ]
  },
  {
   "cell_type": "code",
   "execution_count": 4,
   "metadata": {},
   "outputs": [
    {
     "output_type": "execute_result",
     "data": {
      "text/plain": "0    95\n1    87\n2    59\n3    83\n4    89\nName: Humidity, dtype: int64"
     },
     "metadata": {},
     "execution_count": 4
    }
   ],
   "source": [
    "# Humidity values\n",
    "humidity_data = weather_df['Humidity']\n",
    "humidity_data.head()"
   ]
  },
  {
   "cell_type": "code",
   "execution_count": 5,
   "metadata": {},
   "outputs": [
    {
     "output_type": "display_data",
     "data": {
      "text/plain": "Figure(layout=FigureLayout(height='420px'))",
      "application/vnd.jupyter.widget-view+json": {
       "version_major": 2,
       "version_minor": 0,
       "model_id": "06088438c7074c21a945c81ef459c453"
      }
     },
     "metadata": {}
    }
   ],
   "source": [
    "# Creating a Humidity Heatmap Layer\n",
    "fig = gmaps.figure()\n",
    "\n",
    "humidity_layer = gmaps.heatmap_layer(city_locations, weights=humidity_data, dissipating=False, max_intensity=100, point_radius=2)\n",
    "\n",
    "fig.add_layer(humidity_layer)\n",
    "\n",
    "fig\n",
    "\n"
   ]
  },
  {
   "cell_type": "code",
   "execution_count": null,
   "metadata": {},
   "outputs": [],
   "source": []
  },
  {
   "cell_type": "markdown",
   "metadata": {},
   "source": [
    "### Create new DataFrame fitting weather criteria\n",
    "* Narrow down the cities to fit weather conditions.\n",
    "* Drop any rows will null values."
   ]
  },
  {
   "cell_type": "code",
   "execution_count": 6,
   "metadata": {
    "tags": []
   },
   "outputs": [
    {
     "output_type": "stream",
     "name": "stdout",
     "text": " The Number of Ideal Cities within the ideal weather criteria are 31\n"
    },
    {
     "output_type": "execute_result",
     "data": {
      "text/plain": "             City  Lattitude  Longitude  Max Temp  Humidity  Cloudiness  \\\n14        rikitea     -23.12    -134.97     23.65        78           0   \n32         avarua     -21.21    -159.78     24.00        69           0   \n39         halvad      23.02      71.18     27.25        73           0   \n66          wajid       3.81      43.25     23.12        78           0   \n69      abu dhabi      24.60      72.70     20.30        78           0   \n82    saint-louis      16.33     -15.00     28.00        68           0   \n116     manokwari      -0.87     134.08     29.43        64           0   \n118           hit      33.64      42.83     26.00        39           0   \n123        bolpur      23.67      87.72     29.06        79           0   \n174      portland      45.52    -122.68     20.00        66           0   \n195      kalmunai       7.42      81.82     28.55        71           0   \n219     dalbandin      28.89      64.41     25.71        15           0   \n220          atar      20.52     -13.05     29.86        27           0   \n235       sakakah      29.97      40.21     25.00        25           0   \n253           gat      31.61      34.76     24.44        81           0   \n271      tessalit      20.20       1.01     28.62        14           0   \n279         abnub      27.27      31.15     24.00        44           0   \n299      katsuura      35.13     140.30     26.67        49           0   \n325           hun      29.13      15.95     27.38        22           0   \n335  khorramshahr      30.44      48.17     27.00        51           0   \n361     guarapari     -20.67     -40.50     25.56        77           0   \n365    abu samrah      24.60      72.70     20.30        78           0   \n370        safaga      26.73      33.94     28.00        45           0   \n384          tefe      -3.35     -64.71     24.18        83           0   \n413         kiama     -34.68     150.87     20.00        57           0   \n424       parauna     -16.95     -50.45     26.09        37           0   \n447         tahta      26.77      31.50     25.00        31           0   \n467    nouadhibou      20.93     -17.03     22.00        78           0   \n477           sur      22.57      59.53     29.17        45           0   \n531         erzin      36.96      36.20     24.44        83           0   \n546        gwadar      25.12      62.33     27.69        76           0   \n\n     Wind Speed Country        Date  \n14         4.67      PF  1601260394  \n32         5.10      CK  1601260394  \n39         3.77      IN  1601260346  \n66         6.47      SO  1601260555  \n69         1.44      IN  1601260556  \n82         5.80      SN  1601260548  \n116        2.52      ID  1601260306  \n118        8.04      IQ  1601260361  \n123        1.12      IN  1601260339  \n174        1.34      US  1601260551  \n195        2.88      LK  1601260474  \n219        1.46      PK  1601260590  \n220        4.38      MR  1601260590  \n235        2.10      SA  1601260318  \n253        1.24      IL  1601260361  \n271        2.22      ML  1601260602  \n279        4.10      EG  1601260603  \n299        1.34      JP  1601260608  \n325        2.70      LY  1601260413  \n335        3.10      IR  1601260616  \n361        5.07      BR  1601260406  \n365        1.44      IN  1601260336  \n370        3.60      EG  1601260431  \n384        0.50      BR  1601260403  \n413        3.58      AU  1601260413  \n424        0.48      BR  1601260639  \n447        3.10      EG  1601260646  \n467        9.30      MR  1601260380  \n477        2.81      OM  1601260472  \n531        0.37      TR  1601260666  \n546        2.31      PK  1601260669  ",
      "text/html": "<div>\n<style scoped>\n    .dataframe tbody tr th:only-of-type {\n        vertical-align: middle;\n    }\n\n    .dataframe tbody tr th {\n        vertical-align: top;\n    }\n\n    .dataframe thead th {\n        text-align: right;\n    }\n</style>\n<table border=\"1\" class=\"dataframe\">\n  <thead>\n    <tr style=\"text-align: right;\">\n      <th></th>\n      <th>City</th>\n      <th>Lattitude</th>\n      <th>Longitude</th>\n      <th>Max Temp</th>\n      <th>Humidity</th>\n      <th>Cloudiness</th>\n      <th>Wind Speed</th>\n      <th>Country</th>\n      <th>Date</th>\n    </tr>\n  </thead>\n  <tbody>\n    <tr>\n      <th>14</th>\n      <td>rikitea</td>\n      <td>-23.12</td>\n      <td>-134.97</td>\n      <td>23.65</td>\n      <td>78</td>\n      <td>0</td>\n      <td>4.67</td>\n      <td>PF</td>\n      <td>1601260394</td>\n    </tr>\n    <tr>\n      <th>32</th>\n      <td>avarua</td>\n      <td>-21.21</td>\n      <td>-159.78</td>\n      <td>24.00</td>\n      <td>69</td>\n      <td>0</td>\n      <td>5.10</td>\n      <td>CK</td>\n      <td>1601260394</td>\n    </tr>\n    <tr>\n      <th>39</th>\n      <td>halvad</td>\n      <td>23.02</td>\n      <td>71.18</td>\n      <td>27.25</td>\n      <td>73</td>\n      <td>0</td>\n      <td>3.77</td>\n      <td>IN</td>\n      <td>1601260346</td>\n    </tr>\n    <tr>\n      <th>66</th>\n      <td>wajid</td>\n      <td>3.81</td>\n      <td>43.25</td>\n      <td>23.12</td>\n      <td>78</td>\n      <td>0</td>\n      <td>6.47</td>\n      <td>SO</td>\n      <td>1601260555</td>\n    </tr>\n    <tr>\n      <th>69</th>\n      <td>abu dhabi</td>\n      <td>24.60</td>\n      <td>72.70</td>\n      <td>20.30</td>\n      <td>78</td>\n      <td>0</td>\n      <td>1.44</td>\n      <td>IN</td>\n      <td>1601260556</td>\n    </tr>\n    <tr>\n      <th>82</th>\n      <td>saint-louis</td>\n      <td>16.33</td>\n      <td>-15.00</td>\n      <td>28.00</td>\n      <td>68</td>\n      <td>0</td>\n      <td>5.80</td>\n      <td>SN</td>\n      <td>1601260548</td>\n    </tr>\n    <tr>\n      <th>116</th>\n      <td>manokwari</td>\n      <td>-0.87</td>\n      <td>134.08</td>\n      <td>29.43</td>\n      <td>64</td>\n      <td>0</td>\n      <td>2.52</td>\n      <td>ID</td>\n      <td>1601260306</td>\n    </tr>\n    <tr>\n      <th>118</th>\n      <td>hit</td>\n      <td>33.64</td>\n      <td>42.83</td>\n      <td>26.00</td>\n      <td>39</td>\n      <td>0</td>\n      <td>8.04</td>\n      <td>IQ</td>\n      <td>1601260361</td>\n    </tr>\n    <tr>\n      <th>123</th>\n      <td>bolpur</td>\n      <td>23.67</td>\n      <td>87.72</td>\n      <td>29.06</td>\n      <td>79</td>\n      <td>0</td>\n      <td>1.12</td>\n      <td>IN</td>\n      <td>1601260339</td>\n    </tr>\n    <tr>\n      <th>174</th>\n      <td>portland</td>\n      <td>45.52</td>\n      <td>-122.68</td>\n      <td>20.00</td>\n      <td>66</td>\n      <td>0</td>\n      <td>1.34</td>\n      <td>US</td>\n      <td>1601260551</td>\n    </tr>\n    <tr>\n      <th>195</th>\n      <td>kalmunai</td>\n      <td>7.42</td>\n      <td>81.82</td>\n      <td>28.55</td>\n      <td>71</td>\n      <td>0</td>\n      <td>2.88</td>\n      <td>LK</td>\n      <td>1601260474</td>\n    </tr>\n    <tr>\n      <th>219</th>\n      <td>dalbandin</td>\n      <td>28.89</td>\n      <td>64.41</td>\n      <td>25.71</td>\n      <td>15</td>\n      <td>0</td>\n      <td>1.46</td>\n      <td>PK</td>\n      <td>1601260590</td>\n    </tr>\n    <tr>\n      <th>220</th>\n      <td>atar</td>\n      <td>20.52</td>\n      <td>-13.05</td>\n      <td>29.86</td>\n      <td>27</td>\n      <td>0</td>\n      <td>4.38</td>\n      <td>MR</td>\n      <td>1601260590</td>\n    </tr>\n    <tr>\n      <th>235</th>\n      <td>sakakah</td>\n      <td>29.97</td>\n      <td>40.21</td>\n      <td>25.00</td>\n      <td>25</td>\n      <td>0</td>\n      <td>2.10</td>\n      <td>SA</td>\n      <td>1601260318</td>\n    </tr>\n    <tr>\n      <th>253</th>\n      <td>gat</td>\n      <td>31.61</td>\n      <td>34.76</td>\n      <td>24.44</td>\n      <td>81</td>\n      <td>0</td>\n      <td>1.24</td>\n      <td>IL</td>\n      <td>1601260361</td>\n    </tr>\n    <tr>\n      <th>271</th>\n      <td>tessalit</td>\n      <td>20.20</td>\n      <td>1.01</td>\n      <td>28.62</td>\n      <td>14</td>\n      <td>0</td>\n      <td>2.22</td>\n      <td>ML</td>\n      <td>1601260602</td>\n    </tr>\n    <tr>\n      <th>279</th>\n      <td>abnub</td>\n      <td>27.27</td>\n      <td>31.15</td>\n      <td>24.00</td>\n      <td>44</td>\n      <td>0</td>\n      <td>4.10</td>\n      <td>EG</td>\n      <td>1601260603</td>\n    </tr>\n    <tr>\n      <th>299</th>\n      <td>katsuura</td>\n      <td>35.13</td>\n      <td>140.30</td>\n      <td>26.67</td>\n      <td>49</td>\n      <td>0</td>\n      <td>1.34</td>\n      <td>JP</td>\n      <td>1601260608</td>\n    </tr>\n    <tr>\n      <th>325</th>\n      <td>hun</td>\n      <td>29.13</td>\n      <td>15.95</td>\n      <td>27.38</td>\n      <td>22</td>\n      <td>0</td>\n      <td>2.70</td>\n      <td>LY</td>\n      <td>1601260413</td>\n    </tr>\n    <tr>\n      <th>335</th>\n      <td>khorramshahr</td>\n      <td>30.44</td>\n      <td>48.17</td>\n      <td>27.00</td>\n      <td>51</td>\n      <td>0</td>\n      <td>3.10</td>\n      <td>IR</td>\n      <td>1601260616</td>\n    </tr>\n    <tr>\n      <th>361</th>\n      <td>guarapari</td>\n      <td>-20.67</td>\n      <td>-40.50</td>\n      <td>25.56</td>\n      <td>77</td>\n      <td>0</td>\n      <td>5.07</td>\n      <td>BR</td>\n      <td>1601260406</td>\n    </tr>\n    <tr>\n      <th>365</th>\n      <td>abu samrah</td>\n      <td>24.60</td>\n      <td>72.70</td>\n      <td>20.30</td>\n      <td>78</td>\n      <td>0</td>\n      <td>1.44</td>\n      <td>IN</td>\n      <td>1601260336</td>\n    </tr>\n    <tr>\n      <th>370</th>\n      <td>safaga</td>\n      <td>26.73</td>\n      <td>33.94</td>\n      <td>28.00</td>\n      <td>45</td>\n      <td>0</td>\n      <td>3.60</td>\n      <td>EG</td>\n      <td>1601260431</td>\n    </tr>\n    <tr>\n      <th>384</th>\n      <td>tefe</td>\n      <td>-3.35</td>\n      <td>-64.71</td>\n      <td>24.18</td>\n      <td>83</td>\n      <td>0</td>\n      <td>0.50</td>\n      <td>BR</td>\n      <td>1601260403</td>\n    </tr>\n    <tr>\n      <th>413</th>\n      <td>kiama</td>\n      <td>-34.68</td>\n      <td>150.87</td>\n      <td>20.00</td>\n      <td>57</td>\n      <td>0</td>\n      <td>3.58</td>\n      <td>AU</td>\n      <td>1601260413</td>\n    </tr>\n    <tr>\n      <th>424</th>\n      <td>parauna</td>\n      <td>-16.95</td>\n      <td>-50.45</td>\n      <td>26.09</td>\n      <td>37</td>\n      <td>0</td>\n      <td>0.48</td>\n      <td>BR</td>\n      <td>1601260639</td>\n    </tr>\n    <tr>\n      <th>447</th>\n      <td>tahta</td>\n      <td>26.77</td>\n      <td>31.50</td>\n      <td>25.00</td>\n      <td>31</td>\n      <td>0</td>\n      <td>3.10</td>\n      <td>EG</td>\n      <td>1601260646</td>\n    </tr>\n    <tr>\n      <th>467</th>\n      <td>nouadhibou</td>\n      <td>20.93</td>\n      <td>-17.03</td>\n      <td>22.00</td>\n      <td>78</td>\n      <td>0</td>\n      <td>9.30</td>\n      <td>MR</td>\n      <td>1601260380</td>\n    </tr>\n    <tr>\n      <th>477</th>\n      <td>sur</td>\n      <td>22.57</td>\n      <td>59.53</td>\n      <td>29.17</td>\n      <td>45</td>\n      <td>0</td>\n      <td>2.81</td>\n      <td>OM</td>\n      <td>1601260472</td>\n    </tr>\n    <tr>\n      <th>531</th>\n      <td>erzin</td>\n      <td>36.96</td>\n      <td>36.20</td>\n      <td>24.44</td>\n      <td>83</td>\n      <td>0</td>\n      <td>0.37</td>\n      <td>TR</td>\n      <td>1601260666</td>\n    </tr>\n    <tr>\n      <th>546</th>\n      <td>gwadar</td>\n      <td>25.12</td>\n      <td>62.33</td>\n      <td>27.69</td>\n      <td>76</td>\n      <td>0</td>\n      <td>2.31</td>\n      <td>PK</td>\n      <td>1601260669</td>\n    </tr>\n  </tbody>\n</table>\n</div>"
     },
     "metadata": {},
     "execution_count": 6
    }
   ],
   "source": [
    "# The most ideal vacations involve destinations with minimal cloud cover as well as having temperatures within the range of 20-30 degrees celcius. As such, there datframe will be narrowed down further in order to find hotels within these regions that have the ideal weather. \n",
    "\n",
    "ideal_weather_df = weather_df.loc[\n",
    "    (weather_df['Cloudiness']==0) & \n",
    "    (weather_df['Wind Speed'] <= 10) & \n",
    "    (weather_df['Max Temp'] >= 20) &\n",
    "    (weather_df['Max Temp'] <= 30)].dropna()\n",
    "\n",
    "print(f' The Number of Ideal Cities within the ideal weather criteria are {len(ideal_weather_df)}')\n",
    "ideal_weather_df\n"
   ]
  },
  {
   "cell_type": "markdown",
   "metadata": {},
   "source": [
    "### Hotel Map\n",
    "* Store into variable named `hotel_df`.\n",
    "* Add a \"Hotel Name\" column to the DataFrame.\n",
    "* Set parameters to search for hotels with 5000 meters.\n",
    "* Hit the Google Places API for each city's coordinates.\n",
    "* Store the first Hotel result into the DataFrame.\n",
    "* Plot markers on top of the heatmap."
   ]
  },
  {
   "cell_type": "code",
   "execution_count": 7,
   "metadata": {},
   "outputs": [
    {
     "output_type": "execute_result",
     "data": {
      "text/plain": "             City  Lattitude  Longitude Country Hotel Name\n14        rikitea     -23.12    -134.97      PF           \n32         avarua     -21.21    -159.78      CK           \n39         halvad      23.02      71.18      IN           \n66          wajid       3.81      43.25      SO           \n69      abu dhabi      24.60      72.70      IN           \n82    saint-louis      16.33     -15.00      SN           \n116     manokwari      -0.87     134.08      ID           \n118           hit      33.64      42.83      IQ           \n123        bolpur      23.67      87.72      IN           \n174      portland      45.52    -122.68      US           \n195      kalmunai       7.42      81.82      LK           \n219     dalbandin      28.89      64.41      PK           \n220          atar      20.52     -13.05      MR           \n235       sakakah      29.97      40.21      SA           \n253           gat      31.61      34.76      IL           \n271      tessalit      20.20       1.01      ML           \n279         abnub      27.27      31.15      EG           \n299      katsuura      35.13     140.30      JP           \n325           hun      29.13      15.95      LY           \n335  khorramshahr      30.44      48.17      IR           \n361     guarapari     -20.67     -40.50      BR           \n365    abu samrah      24.60      72.70      IN           \n370        safaga      26.73      33.94      EG           \n384          tefe      -3.35     -64.71      BR           \n413         kiama     -34.68     150.87      AU           \n424       parauna     -16.95     -50.45      BR           \n447         tahta      26.77      31.50      EG           \n467    nouadhibou      20.93     -17.03      MR           \n477           sur      22.57      59.53      OM           \n531         erzin      36.96      36.20      TR           \n546        gwadar      25.12      62.33      PK           ",
      "text/html": "<div>\n<style scoped>\n    .dataframe tbody tr th:only-of-type {\n        vertical-align: middle;\n    }\n\n    .dataframe tbody tr th {\n        vertical-align: top;\n    }\n\n    .dataframe thead th {\n        text-align: right;\n    }\n</style>\n<table border=\"1\" class=\"dataframe\">\n  <thead>\n    <tr style=\"text-align: right;\">\n      <th></th>\n      <th>City</th>\n      <th>Lattitude</th>\n      <th>Longitude</th>\n      <th>Country</th>\n      <th>Hotel Name</th>\n    </tr>\n  </thead>\n  <tbody>\n    <tr>\n      <th>14</th>\n      <td>rikitea</td>\n      <td>-23.12</td>\n      <td>-134.97</td>\n      <td>PF</td>\n      <td></td>\n    </tr>\n    <tr>\n      <th>32</th>\n      <td>avarua</td>\n      <td>-21.21</td>\n      <td>-159.78</td>\n      <td>CK</td>\n      <td></td>\n    </tr>\n    <tr>\n      <th>39</th>\n      <td>halvad</td>\n      <td>23.02</td>\n      <td>71.18</td>\n      <td>IN</td>\n      <td></td>\n    </tr>\n    <tr>\n      <th>66</th>\n      <td>wajid</td>\n      <td>3.81</td>\n      <td>43.25</td>\n      <td>SO</td>\n      <td></td>\n    </tr>\n    <tr>\n      <th>69</th>\n      <td>abu dhabi</td>\n      <td>24.60</td>\n      <td>72.70</td>\n      <td>IN</td>\n      <td></td>\n    </tr>\n    <tr>\n      <th>82</th>\n      <td>saint-louis</td>\n      <td>16.33</td>\n      <td>-15.00</td>\n      <td>SN</td>\n      <td></td>\n    </tr>\n    <tr>\n      <th>116</th>\n      <td>manokwari</td>\n      <td>-0.87</td>\n      <td>134.08</td>\n      <td>ID</td>\n      <td></td>\n    </tr>\n    <tr>\n      <th>118</th>\n      <td>hit</td>\n      <td>33.64</td>\n      <td>42.83</td>\n      <td>IQ</td>\n      <td></td>\n    </tr>\n    <tr>\n      <th>123</th>\n      <td>bolpur</td>\n      <td>23.67</td>\n      <td>87.72</td>\n      <td>IN</td>\n      <td></td>\n    </tr>\n    <tr>\n      <th>174</th>\n      <td>portland</td>\n      <td>45.52</td>\n      <td>-122.68</td>\n      <td>US</td>\n      <td></td>\n    </tr>\n    <tr>\n      <th>195</th>\n      <td>kalmunai</td>\n      <td>7.42</td>\n      <td>81.82</td>\n      <td>LK</td>\n      <td></td>\n    </tr>\n    <tr>\n      <th>219</th>\n      <td>dalbandin</td>\n      <td>28.89</td>\n      <td>64.41</td>\n      <td>PK</td>\n      <td></td>\n    </tr>\n    <tr>\n      <th>220</th>\n      <td>atar</td>\n      <td>20.52</td>\n      <td>-13.05</td>\n      <td>MR</td>\n      <td></td>\n    </tr>\n    <tr>\n      <th>235</th>\n      <td>sakakah</td>\n      <td>29.97</td>\n      <td>40.21</td>\n      <td>SA</td>\n      <td></td>\n    </tr>\n    <tr>\n      <th>253</th>\n      <td>gat</td>\n      <td>31.61</td>\n      <td>34.76</td>\n      <td>IL</td>\n      <td></td>\n    </tr>\n    <tr>\n      <th>271</th>\n      <td>tessalit</td>\n      <td>20.20</td>\n      <td>1.01</td>\n      <td>ML</td>\n      <td></td>\n    </tr>\n    <tr>\n      <th>279</th>\n      <td>abnub</td>\n      <td>27.27</td>\n      <td>31.15</td>\n      <td>EG</td>\n      <td></td>\n    </tr>\n    <tr>\n      <th>299</th>\n      <td>katsuura</td>\n      <td>35.13</td>\n      <td>140.30</td>\n      <td>JP</td>\n      <td></td>\n    </tr>\n    <tr>\n      <th>325</th>\n      <td>hun</td>\n      <td>29.13</td>\n      <td>15.95</td>\n      <td>LY</td>\n      <td></td>\n    </tr>\n    <tr>\n      <th>335</th>\n      <td>khorramshahr</td>\n      <td>30.44</td>\n      <td>48.17</td>\n      <td>IR</td>\n      <td></td>\n    </tr>\n    <tr>\n      <th>361</th>\n      <td>guarapari</td>\n      <td>-20.67</td>\n      <td>-40.50</td>\n      <td>BR</td>\n      <td></td>\n    </tr>\n    <tr>\n      <th>365</th>\n      <td>abu samrah</td>\n      <td>24.60</td>\n      <td>72.70</td>\n      <td>IN</td>\n      <td></td>\n    </tr>\n    <tr>\n      <th>370</th>\n      <td>safaga</td>\n      <td>26.73</td>\n      <td>33.94</td>\n      <td>EG</td>\n      <td></td>\n    </tr>\n    <tr>\n      <th>384</th>\n      <td>tefe</td>\n      <td>-3.35</td>\n      <td>-64.71</td>\n      <td>BR</td>\n      <td></td>\n    </tr>\n    <tr>\n      <th>413</th>\n      <td>kiama</td>\n      <td>-34.68</td>\n      <td>150.87</td>\n      <td>AU</td>\n      <td></td>\n    </tr>\n    <tr>\n      <th>424</th>\n      <td>parauna</td>\n      <td>-16.95</td>\n      <td>-50.45</td>\n      <td>BR</td>\n      <td></td>\n    </tr>\n    <tr>\n      <th>447</th>\n      <td>tahta</td>\n      <td>26.77</td>\n      <td>31.50</td>\n      <td>EG</td>\n      <td></td>\n    </tr>\n    <tr>\n      <th>467</th>\n      <td>nouadhibou</td>\n      <td>20.93</td>\n      <td>-17.03</td>\n      <td>MR</td>\n      <td></td>\n    </tr>\n    <tr>\n      <th>477</th>\n      <td>sur</td>\n      <td>22.57</td>\n      <td>59.53</td>\n      <td>OM</td>\n      <td></td>\n    </tr>\n    <tr>\n      <th>531</th>\n      <td>erzin</td>\n      <td>36.96</td>\n      <td>36.20</td>\n      <td>TR</td>\n      <td></td>\n    </tr>\n    <tr>\n      <th>546</th>\n      <td>gwadar</td>\n      <td>25.12</td>\n      <td>62.33</td>\n      <td>PK</td>\n      <td></td>\n    </tr>\n  </tbody>\n</table>\n</div>"
     },
     "metadata": {},
     "execution_count": 7
    }
   ],
   "source": [
    "# Creating a New Hotel DataFram\n",
    "hotel_df = ideal_weather_df.copy().drop(columns={'Date', 'Wind Speed','Max Temp','Humidity','Cloudiness'})\n",
    "\n",
    "hotel_df['Hotel Name'] = \"\"\n",
    "\n",
    "hotel_df\n"
   ]
  },
  {
   "cell_type": "code",
   "execution_count": 8,
   "metadata": {
    "tags": []
   },
   "outputs": [
    {
     "output_type": "stream",
     "name": "stdout",
     "text": "Data retrival in progress\nFinding nearest hotel for rikitea\n--------------------------\nFinding nearest hotel for avarua\n--------------------------\nFinding nearest hotel for halvad\n--------------------------\nFinding nearest hotel for wajid\n--------------------------\nFinding nearest hotel for abu dhabi\n--------------------------\nFinding nearest hotel for saint-louis\n--------------------------\nThere are no Hotels for saint-louis, moving on to the next city....\nFinding nearest hotel for manokwari\n--------------------------\nFinding nearest hotel for hit\n--------------------------\nThere are no Hotels for hit, moving on to the next city....\nFinding nearest hotel for bolpur\n--------------------------\nFinding nearest hotel for portland\n--------------------------\nFinding nearest hotel for kalmunai\n--------------------------\nFinding nearest hotel for dalbandin\n--------------------------\nFinding nearest hotel for atar\n--------------------------\nFinding nearest hotel for sakakah\n--------------------------\nFinding nearest hotel for gat\n--------------------------\nThere are no Hotels for gat, moving on to the next city....\nFinding nearest hotel for tessalit\n--------------------------\nThere are no Hotels for tessalit, moving on to the next city....\nFinding nearest hotel for abnub\n--------------------------\nThere are no Hotels for abnub, moving on to the next city....\nFinding nearest hotel for katsuura\n--------------------------\nFinding nearest hotel for hun\n--------------------------\nFinding nearest hotel for khorramshahr\n--------------------------\nFinding nearest hotel for guarapari\n--------------------------\nFinding nearest hotel for abu samrah\n--------------------------\nFinding nearest hotel for safaga\n--------------------------\nFinding nearest hotel for tefe\n--------------------------\nFinding nearest hotel for kiama\n--------------------------\nFinding nearest hotel for parauna\n--------------------------\nFinding nearest hotel for tahta\n--------------------------\nFinding nearest hotel for nouadhibou\n--------------------------\nFinding nearest hotel for sur\n--------------------------\nFinding nearest hotel for erzin\n--------------------------\nFinding nearest hotel for gwadar\n--------------------------\nEnd of Data Retreival\n*********************\nRemoving cities where hotels could not be retreived\n"
    }
   ],
   "source": [
    "# Setting up the parameters to determine the closest hotels within a 5 km radium (5000 m)\n",
    "\n",
    "base_url = \"https://maps.googleapis.com/maps/api/place/nearbysearch/json\"\n",
    "\n",
    "# Setting up the search parameters\n",
    "params = {\n",
    "    'type':'hotel',\n",
    "    'keyword': 'hotel',\n",
    "    'radius': 5000,\n",
    "    'key': g_key\n",
    "}\n",
    "\n",
    "# We will be itterating through the rows in order to hotels within the defined radius of the coordinates of each city\n",
    "print(f'Data retrival in progress')\n",
    "for index, row in hotel_df.iterrows():\n",
    "    latitude = row['Lattitude']\n",
    "    longitude = row['Longitude']\n",
    "    city = row['City']\n",
    "\n",
    "    # Now that the latitude and longitude has been defined, these need to be added to the dictionary\n",
    "\n",
    "    params['location'] = f'{latitude},{longitude}'\n",
    "\n",
    "    \n",
    "    response = requests.get(base_url, params=params).json()\n",
    "\n",
    "    search_results = response['results']\n",
    "\n",
    "    try:\n",
    "        print(f'Finding nearest hotel for {city}\\n--------------------------')\n",
    "        hotel_df.loc[index, 'Hotel Name'] = search_results[0]['name']\n",
    "    \n",
    "    except (KeyError, IndexError):\n",
    "        print(f'There are no Hotels for {city}, moving on to the next city....')\n",
    "\n",
    "\n",
    "print('End of Data Retreival\\n*********************')\n",
    "print(f'Removing cities where hotels could not be retreived')\n",
    "hotel_df = hotel_df[hotel_df['Hotel Name']!=\"\"]\n",
    "\n",
    "\n"
   ]
  },
  {
   "cell_type": "code",
   "execution_count": 9,
   "metadata": {},
   "outputs": [
    {
     "output_type": "execute_result",
     "data": {
      "text/plain": "             City  Lattitude  Longitude Country  \\\n14        rikitea     -23.12    -134.97      PF   \n32         avarua     -21.21    -159.78      CK   \n39         halvad      23.02      71.18      IN   \n66          wajid       3.81      43.25      SO   \n69      abu dhabi      24.60      72.70      IN   \n116     manokwari      -0.87     134.08      ID   \n123        bolpur      23.67      87.72      IN   \n174      portland      45.52    -122.68      US   \n195      kalmunai       7.42      81.82      LK   \n219     dalbandin      28.89      64.41      PK   \n220          atar      20.52     -13.05      MR   \n235       sakakah      29.97      40.21      SA   \n299      katsuura      35.13     140.30      JP   \n325           hun      29.13      15.95      LY   \n335  khorramshahr      30.44      48.17      IR   \n361     guarapari     -20.67     -40.50      BR   \n365    abu samrah      24.60      72.70      IN   \n370        safaga      26.73      33.94      EG   \n384          tefe      -3.35     -64.71      BR   \n413         kiama     -34.68     150.87      AU   \n424       parauna     -16.95     -50.45      BR   \n447         tahta      26.77      31.50      EG   \n467    nouadhibou      20.93     -17.03      MR   \n477           sur      22.57      59.53      OM   \n531         erzin      36.96      36.20      TR   \n546        gwadar      25.12      62.33      PK   \n\n                                            Hotel Name  \n14                                      Pension Maro'i  \n32           The Rarotongan Beach Resort & Lagoonarium  \n39                                 Hotel New Parishram  \n66                                Hotel Haji Aden Yare  \n69            WelcomHeritage Connaught House Mount Abu  \n116                           Swiss Belhotel Manokwari  \n123  The Garden Bungalow - Best Luxury Home Stay in...  \n174                DoubleTree by Hilton Hotel Portland  \n195                                 LUXEZ garden house  \n219                       Al-Dawood Hotel & Restaurant  \n220                                       Odar kanawal  \n235                                    Raoum Inn Hotel  \n299                                 Splash Guest House  \n325                                      Alrwasi Hotel  \n335                                             Hostel  \n361                                     Blue Guarapari  \n365           WelcomHeritage Connaught House Mount Abu  \n370                              Lamar Resort Abu Soma  \n384                                  Stylos Hall Hotel  \n413                        The Sebel Kiama Harbourside  \n424                            Hotel Serras de Paraúna  \n447                                     El Salam Hotel  \n467                         Free Zone Hotel Nouadhibou  \n477                                    Sur Plaza Hotel  \n531                Hattusa Vacation Thermal Club Erzin  \n546                      Zaver Pearl Continental Hotel  ",
      "text/html": "<div>\n<style scoped>\n    .dataframe tbody tr th:only-of-type {\n        vertical-align: middle;\n    }\n\n    .dataframe tbody tr th {\n        vertical-align: top;\n    }\n\n    .dataframe thead th {\n        text-align: right;\n    }\n</style>\n<table border=\"1\" class=\"dataframe\">\n  <thead>\n    <tr style=\"text-align: right;\">\n      <th></th>\n      <th>City</th>\n      <th>Lattitude</th>\n      <th>Longitude</th>\n      <th>Country</th>\n      <th>Hotel Name</th>\n    </tr>\n  </thead>\n  <tbody>\n    <tr>\n      <th>14</th>\n      <td>rikitea</td>\n      <td>-23.12</td>\n      <td>-134.97</td>\n      <td>PF</td>\n      <td>Pension Maro'i</td>\n    </tr>\n    <tr>\n      <th>32</th>\n      <td>avarua</td>\n      <td>-21.21</td>\n      <td>-159.78</td>\n      <td>CK</td>\n      <td>The Rarotongan Beach Resort &amp; Lagoonarium</td>\n    </tr>\n    <tr>\n      <th>39</th>\n      <td>halvad</td>\n      <td>23.02</td>\n      <td>71.18</td>\n      <td>IN</td>\n      <td>Hotel New Parishram</td>\n    </tr>\n    <tr>\n      <th>66</th>\n      <td>wajid</td>\n      <td>3.81</td>\n      <td>43.25</td>\n      <td>SO</td>\n      <td>Hotel Haji Aden Yare</td>\n    </tr>\n    <tr>\n      <th>69</th>\n      <td>abu dhabi</td>\n      <td>24.60</td>\n      <td>72.70</td>\n      <td>IN</td>\n      <td>WelcomHeritage Connaught House Mount Abu</td>\n    </tr>\n    <tr>\n      <th>116</th>\n      <td>manokwari</td>\n      <td>-0.87</td>\n      <td>134.08</td>\n      <td>ID</td>\n      <td>Swiss Belhotel Manokwari</td>\n    </tr>\n    <tr>\n      <th>123</th>\n      <td>bolpur</td>\n      <td>23.67</td>\n      <td>87.72</td>\n      <td>IN</td>\n      <td>The Garden Bungalow - Best Luxury Home Stay in...</td>\n    </tr>\n    <tr>\n      <th>174</th>\n      <td>portland</td>\n      <td>45.52</td>\n      <td>-122.68</td>\n      <td>US</td>\n      <td>DoubleTree by Hilton Hotel Portland</td>\n    </tr>\n    <tr>\n      <th>195</th>\n      <td>kalmunai</td>\n      <td>7.42</td>\n      <td>81.82</td>\n      <td>LK</td>\n      <td>LUXEZ garden house</td>\n    </tr>\n    <tr>\n      <th>219</th>\n      <td>dalbandin</td>\n      <td>28.89</td>\n      <td>64.41</td>\n      <td>PK</td>\n      <td>Al-Dawood Hotel &amp; Restaurant</td>\n    </tr>\n    <tr>\n      <th>220</th>\n      <td>atar</td>\n      <td>20.52</td>\n      <td>-13.05</td>\n      <td>MR</td>\n      <td>Odar kanawal</td>\n    </tr>\n    <tr>\n      <th>235</th>\n      <td>sakakah</td>\n      <td>29.97</td>\n      <td>40.21</td>\n      <td>SA</td>\n      <td>Raoum Inn Hotel</td>\n    </tr>\n    <tr>\n      <th>299</th>\n      <td>katsuura</td>\n      <td>35.13</td>\n      <td>140.30</td>\n      <td>JP</td>\n      <td>Splash Guest House</td>\n    </tr>\n    <tr>\n      <th>325</th>\n      <td>hun</td>\n      <td>29.13</td>\n      <td>15.95</td>\n      <td>LY</td>\n      <td>Alrwasi Hotel</td>\n    </tr>\n    <tr>\n      <th>335</th>\n      <td>khorramshahr</td>\n      <td>30.44</td>\n      <td>48.17</td>\n      <td>IR</td>\n      <td>Hostel</td>\n    </tr>\n    <tr>\n      <th>361</th>\n      <td>guarapari</td>\n      <td>-20.67</td>\n      <td>-40.50</td>\n      <td>BR</td>\n      <td>Blue Guarapari</td>\n    </tr>\n    <tr>\n      <th>365</th>\n      <td>abu samrah</td>\n      <td>24.60</td>\n      <td>72.70</td>\n      <td>IN</td>\n      <td>WelcomHeritage Connaught House Mount Abu</td>\n    </tr>\n    <tr>\n      <th>370</th>\n      <td>safaga</td>\n      <td>26.73</td>\n      <td>33.94</td>\n      <td>EG</td>\n      <td>Lamar Resort Abu Soma</td>\n    </tr>\n    <tr>\n      <th>384</th>\n      <td>tefe</td>\n      <td>-3.35</td>\n      <td>-64.71</td>\n      <td>BR</td>\n      <td>Stylos Hall Hotel</td>\n    </tr>\n    <tr>\n      <th>413</th>\n      <td>kiama</td>\n      <td>-34.68</td>\n      <td>150.87</td>\n      <td>AU</td>\n      <td>The Sebel Kiama Harbourside</td>\n    </tr>\n    <tr>\n      <th>424</th>\n      <td>parauna</td>\n      <td>-16.95</td>\n      <td>-50.45</td>\n      <td>BR</td>\n      <td>Hotel Serras de Paraúna</td>\n    </tr>\n    <tr>\n      <th>447</th>\n      <td>tahta</td>\n      <td>26.77</td>\n      <td>31.50</td>\n      <td>EG</td>\n      <td>El Salam Hotel</td>\n    </tr>\n    <tr>\n      <th>467</th>\n      <td>nouadhibou</td>\n      <td>20.93</td>\n      <td>-17.03</td>\n      <td>MR</td>\n      <td>Free Zone Hotel Nouadhibou</td>\n    </tr>\n    <tr>\n      <th>477</th>\n      <td>sur</td>\n      <td>22.57</td>\n      <td>59.53</td>\n      <td>OM</td>\n      <td>Sur Plaza Hotel</td>\n    </tr>\n    <tr>\n      <th>531</th>\n      <td>erzin</td>\n      <td>36.96</td>\n      <td>36.20</td>\n      <td>TR</td>\n      <td>Hattusa Vacation Thermal Club Erzin</td>\n    </tr>\n    <tr>\n      <th>546</th>\n      <td>gwadar</td>\n      <td>25.12</td>\n      <td>62.33</td>\n      <td>PK</td>\n      <td>Zaver Pearl Continental Hotel</td>\n    </tr>\n  </tbody>\n</table>\n</div>"
     },
     "metadata": {},
     "execution_count": 9
    }
   ],
   "source": [
    "# Results of the Hotel Search\n",
    "hotel_df"
   ]
  },
  {
   "cell_type": "code",
   "execution_count": 10,
   "metadata": {},
   "outputs": [],
   "source": [
    "# NOTE: Do not change any of the code in this cell\n",
    "\n",
    "# Using the template add the hotel marks to the heatmap\n",
    "info_box_template = \"\"\"\n",
    "<dl>\n",
    "<dt>Name</dt><dd>{Hotel Name}</dd>\n",
    "<dt>City</dt><dd>{City}</dd>\n",
    "<dt>Country</dt><dd>{Country}</dd>\n",
    "</dl>\n",
    "\"\"\"\n",
    "# Store the DataFrame Row\n",
    "# NOTE: be sure to update with your DataFrame name\n",
    "hotel_info = [info_box_template.format(**row) for index, row in hotel_df.iterrows()]\n",
    "locations = hotel_df[[\"Lattitude\", \"Longitude\"]]"
   ]
  },
  {
   "cell_type": "code",
   "execution_count": 12,
   "metadata": {},
   "outputs": [
    {
     "output_type": "display_data",
     "data": {
      "text/plain": "Figure(layout=FigureLayout(height='420px'))",
      "application/vnd.jupyter.widget-view+json": {
       "version_major": 2,
       "version_minor": 0,
       "model_id": "06088438c7074c21a945c81ef459c453"
      }
     },
     "metadata": {}
    }
   ],
   "source": [
    "# Add marker layer ontop of heat map\n",
    "hotel_marker = gmaps.marker_layer(locations, info_box_content=hotel_info)\n",
    "\n",
    "# We will add the new layer to the previous humidity heatmap\n",
    "fig.add_layer(hotel_marker)\n",
    "\n",
    "# Display figure\n",
    "fig"
   ]
  },
  {
   "cell_type": "code",
   "execution_count": null,
   "metadata": {},
   "outputs": [],
   "source": []
  }
 ],
 "metadata": {
  "kernelspec": {
   "name": "python_defaultSpec_1601269671206",
   "display_name": "Python 3.6.12 64-bit ('apiproject': conda)",
   "metadata": {
    "interpreter": {
     "hash": "6858991ae45970477c979e20bd003b285324046a59fb015a65b3ffb3c3b75fd3"
    }
   }
  },
  "language_info": {
   "codemirror_mode": {
    "name": "ipython",
    "version": 3
   },
   "file_extension": ".py",
   "mimetype": "text/x-python",
   "name": "python",
   "nbconvert_exporter": "python",
   "pygments_lexer": "ipython3",
   "version": "3.6.12-final"
  },
  "latex_envs": {
   "LaTeX_envs_menu_present": true,
   "autoclose": false,
   "autocomplete": true,
   "bibliofile": "biblio.bib",
   "cite_by": "apalike",
   "current_citInitial": 1,
   "eqLabelWithNumbers": true,
   "eqNumInitial": 1,
   "hotkeys": {
    "equation": "Ctrl-E",
    "itemize": "Ctrl-I"
   },
   "labels_anchors": false,
   "latex_user_defs": false,
   "report_style_numbering": false,
   "user_envs_cfg": false
  }
 },
 "nbformat": 4,
 "nbformat_minor": 4
}